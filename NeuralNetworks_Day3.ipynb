{
  "nbformat": 4,
  "nbformat_minor": 0,
  "metadata": {
    "colab": {
      "provenance": []
    },
    "kernelspec": {
      "name": "python3",
      "display_name": "Python 3"
    },
    "language_info": {
      "name": "python"
    },
    "accelerator": "GPU",
    "gpuClass": "standard"
  },
  "cells": [
    {
      "cell_type": "code",
      "execution_count": 2,
      "metadata": {
        "id": "29AivYnMCm5X"
      },
      "outputs": [],
      "source": [
        "#Building your First Convolution Neural Network \n",
        "\n",
        "from keras.layers import Input, Flatten, Dense, Conv2D,BatchNormalization, LeakyReLU, Dropout, Activation\n",
        "from keras.models import Model\n",
        "from tensorflow.keras.optimizers import Adam\n",
        "from tensorflow.keras.utils import to_categorical\n",
        "import keras.backend as K \n",
        "from keras.datasets import cifar10"
      ]
    },
    {
      "cell_type": "code",
      "source": [
        "#Defining the data\n",
        "NUM_CLASSES = 10\n",
        "(x_train, y_train), (x_test, y_test) = cifar10.load_data()"
      ],
      "metadata": {
        "id": "ueCEu56ZDHD9",
        "colab": {
          "base_uri": "https://localhost:8080/"
        },
        "outputId": "1963dec7-90aa-4afc-b148-bab79df8a619"
      },
      "execution_count": 3,
      "outputs": [
        {
          "output_type": "stream",
          "name": "stdout",
          "text": [
            "Downloading data from https://www.cs.toronto.edu/~kriz/cifar-10-python.tar.gz\n",
            "170498071/170498071 [==============================] - 4s 0us/step\n"
          ]
        }
      ]
    },
    {
      "cell_type": "code",
      "source": [
        "import matplotlib.pyplot as plt\n",
        "import numpy as np\n"
      ],
      "metadata": {
        "id": "oAmrKeVODhd4"
      },
      "execution_count": 4,
      "outputs": []
    },
    {
      "cell_type": "code",
      "source": [
        "plt.imshow(x_train[56])"
      ],
      "metadata": {
        "colab": {
          "base_uri": "https://localhost:8080/",
          "height": 283
        },
        "id": "nR4AvR3kDskV",
        "outputId": "73045ee3-393a-4e74-fb47-b7cd1925300f"
      },
      "execution_count": 5,
      "outputs": [
        {
          "output_type": "execute_result",
          "data": {
            "text/plain": [
              "<matplotlib.image.AxesImage at 0x7f9dd2168130>"
            ]
          },
          "metadata": {},
          "execution_count": 5
        },
        {
          "output_type": "display_data",
          "data": {
            "text/plain": [
              "<Figure size 432x288 with 1 Axes>"
            ],
            "image/png": "[encoded data removed]"
          },
          "metadata": {
            "needs_background": "light"
          }
        }
      ]
    },
    {
      "cell_type": "code",
      "source": [
        "# Scaling the Images\n",
        "x_train = x_train.astype('float32') / 255.0\n",
        "x_test = x_test.astype('float32') / 255.0"
      ],
      "metadata": {
        "id": "nbngQYkgDw4e"
      },
      "execution_count": 6,
      "outputs": []
    },
    {
      "cell_type": "code",
      "source": [
        "type(x_train[1])"
      ],
      "metadata": {
        "colab": {
          "base_uri": "https://localhost:8080/"
        },
        "id": "zYGDhBRcGMDt",
        "outputId": "0b061e9b-a7bf-4c9c-df36-697908de1c17"
      },
      "execution_count": 7,
      "outputs": [
        {
          "output_type": "execute_result",
          "data": {
            "text/plain": [
              "numpy.ndarray"
            ]
          },
          "metadata": {},
          "execution_count": 7
        }
      ]
    },
    {
      "cell_type": "code",
      "source": [
        "y_train"
      ],
      "metadata": {
        "colab": {
          "base_uri": "https://localhost:8080/"
        },
        "id": "O57QKA8-GSKC",
        "outputId": "09f9436c-cd75-4663-f744-9cd4dc76fa7c"
      },
      "execution_count": 8,
      "outputs": [
        {
          "output_type": "execute_result",
          "data": {
            "text/plain": [
              "array([[6],\n",
              "       [9],\n",
              "       [9],\n",
              "       ...,\n",
              "       [9],\n",
              "       [1],\n",
              "       [1]], dtype=uint8)"
            ]
          },
          "metadata": {},
          "execution_count": 8
        }
      ]
    },
    {
      "cell_type": "code",
      "source": [
        "# we also need to change the integer labelling of the images to the One Hot Encoded vectors\n",
        "y_train = to_categorical(y_train, NUM_CLASSES)\n",
        "y_test = to_categorical(y_test, NUM_CLASSES)"
      ],
      "metadata": {
        "id": "sy0aZDmCG0h4"
      },
      "execution_count": 9,
      "outputs": []
    },
    {
      "cell_type": "code",
      "source": [
        "y_train[0]"
      ],
      "metadata": {
        "colab": {
          "base_uri": "https://localhost:8080/"
        },
        "id": "eWux_Cp8HUHQ",
        "outputId": "54146d5d-1afd-44de-c278-1dfc3afd1163"
      },
      "execution_count": 10,
      "outputs": [
        {
          "output_type": "execute_result",
          "data": {
            "text/plain": [
              "array([0., 0., 0., 0., 0., 0., 1., 0., 0., 0.], dtype=float32)"
            ]
          },
          "metadata": {},
          "execution_count": 10
        }
      ]
    },
    {
      "cell_type": "code",
      "source": [
        "x_train.shape"
      ],
      "metadata": {
        "colab": {
          "base_uri": "https://localhost:8080/"
        },
        "id": "9LOAAw5jHWWR",
        "outputId": "d84a73ed-30a0-4347-fe2e-1e1cbcd2aa1e"
      },
      "execution_count": 11,
      "outputs": [
        {
          "output_type": "execute_result",
          "data": {
            "text/plain": [
              "(50000, 32, 32, 3)"
            ]
          },
          "metadata": {},
          "execution_count": 11
        }
      ]
    },
    {
      "cell_type": "markdown",
      "source": [
        "It’s worth noting the shape of the image data in x_train: [50000, 32, 32, 3]. The first dimension\n",
        "of this array references the index of the image in the dataset, the second and third relate to the size of\n",
        "the image, and the last is the channel (i.e., red, green, or blue, since these are RGB images). There are\n",
        "no columns or rows in this dataset; instead, this is a tensor with four dimensions. For example, the\n",
        "following entry refers to the green channel (1) value of the pixel in the (12,13) position of image 54:"
      ],
      "metadata": {
        "id": "HERC986_WWZz"
      }
    },
    {
      "cell_type": "code",
      "source": [
        "x_train[100, 12, 13, 1]"
      ],
      "metadata": {
        "colab": {
          "base_uri": "https://localhost:8080/"
        },
        "id": "TlfYKBfqHlmo",
        "outputId": "9da4bfa5-fe95-4352-dd9a-106f29b099d3"
      },
      "execution_count": 12,
      "outputs": [
        {
          "output_type": "execute_result",
          "data": {
            "text/plain": [
              "0.8235294"
            ]
          },
          "metadata": {},
          "execution_count": 12
        }
      ]
    },
    {
      "cell_type": "markdown",
      "source": [
        "\n",
        "#Building the Model\n",
        "\n",
        "The architecture using a Sequential model\n",
        "\n",
        "A Sequential model is useful for quickly defining a linear stack of layers (i.e., where one layer\n",
        "follows on directly from the previous layer without any branching)."
      ],
      "metadata": {
        "id": "Y-V6tq-wWbDJ"
      }
    },
    {
      "cell_type": "code",
      "source": [
        "from keras.models import Sequential\n",
        "from keras.layers import Flatten, Dense\n",
        "\n",
        "model = Sequential([Dense(200, activation = 'relu', input_shape =(32, 32, 3)),\n",
        "                    Flatten(),\n",
        "                    Dense(150, activation = 'relu'),\n",
        "                    Dense(10, activation = 'softmax')\n",
        "                    ])"
      ],
      "metadata": {
        "id": "PceNuM0QI-vf"
      },
      "execution_count": 13,
      "outputs": []
    },
    {
      "cell_type": "markdown",
      "source": [
        "The architecture using the Functional API\n",
        "\n"
      ],
      "metadata": {
        "id": "DBEx6pGoWgQ7"
      }
    },
    {
      "cell_type": "code",
      "source": [
        "# Functional Approach API\n",
        "from keras.layers import Input, Flatten, Dense\n",
        "from keras.models import Model\n",
        "\n",
        "input_layer = Input(shape = (32, 32, 3))\n",
        "x = Flatten()(input_layer)\n",
        "x = Dense(units = 200, activation = 'relu')(x)\n",
        "x = Dense(units = 150, activation = 'relu')(x)\n",
        "\n",
        "output_layer = Dense(units = 10, activation = 'softmax')(x)\n",
        "\n",
        "model = Model(input_layer, output_layer)"
      ],
      "metadata": {
        "id": "H2MwrKy-J33v"
      },
      "execution_count": 14,
      "outputs": []
    },
    {
      "cell_type": "markdown",
      "source": [
        "\n",
        "Here, we are using three different types of layer: Input, Flatten, and Dense.\n",
        "The Input layer is an entry point into the network. We tell the network the shape of each data element\n",
        "to expect as a tuple. Notice that we do not specify the batch size; this isn’t necessary as we can pass\n",
        "any number of images into the Input layer simultaneously. We do not need to explicitly state the batch\n",
        "size in the Input layer definition.\n",
        "Next we flatten this input into a vector, using a Flatten layer. This results in a vector of length 3,072\n",
        "(= 32 × 32 × 3). The reason we do this is because the subsequent Dense layer requires that its input is\n",
        "flat, rather than a multidimensional array. As we shall see later, other layer types require\n",
        "multidimensional arrays as input, so you need to be aware of the required input and output shape of\n",
        "each layer type to understand when it is necessary to use Flatten.\n",
        "\n",
        "\n",
        "The ReLU (rectified linear unit) activation function is defined to be zero if the input is negative and is\n",
        "otherwise equal to the input. The LeakyReLU activation function is very similar to ReLU, with one\n",
        "key difference: whereas the ReLU activation function returns zero for input values less than zero, the\n",
        "LeakyReLU function returns a small negative number proportional to the input. ReLU units can\n",
        "sometimes die if they always output zero, because of a large bias toward negative values\n",
        "preactivation. In this case, the gradient is zero and therefore no error is propagated back through this\n",
        "unit. LeakyReLU activations fix the issue by always ensuring the gradient is nonzero. ReLU-based\n",
        "functions are now established to be the most reliable activations to use between the layers of a deep\n",
        "network to encourage stable training\n",
        "\n",
        "\n",
        "\n",
        "In our example, we pass the input through two dense hidden layers, the first with 200 units and the\n",
        "second with 150, both with ReLU activation functions\n",
        "\n",
        "The final step is to define the model itself, using the Model class. In Keras a model is defined by the\n",
        "input and output layers. In our case, we have one input layer that we defined earlier, and the output\n",
        "layer is the final Dense layer of 10 units"
      ],
      "metadata": {
        "id": "YXJ9vdT2WjsA"
      }
    },
    {
      "cell_type": "code",
      "source": [
        "model.summary()"
      ],
      "metadata": {
        "colab": {
          "base_uri": "https://localhost:8080/"
        },
        "id": "6mIAPDpKLnCF",
        "outputId": "197d9388-7a70-408f-9b59-dc8ead4a6e7e"
      },
      "execution_count": 15,
      "outputs": [
        {
          "output_type": "stream",
          "name": "stdout",
          "text": [
            "Model: \"model\"\n",
            "_________________________________________________________________\n",
            " Layer (type)                Output Shape              Param #   \n",
            "=================================================================\n",
            " input_1 (InputLayer)        [(None, 32, 32, 3)]       0         \n",
            "                                                                 \n",
            " flatten_1 (Flatten)         (None, 3072)              0         \n",
            "                                                                 \n",
            " dense_3 (Dense)             (None, 200)               614600    \n",
            "                                                                 \n",
            " dense_4 (Dense)             (None, 150)               30150     \n",
            "                                                                 \n",
            " dense_5 (Dense)             (None, 10)                1510      \n",
            "                                                                 \n",
            "=================================================================\n",
            "Total params: 646,260\n",
            "Trainable params: 646,260\n",
            "Non-trainable params: 0\n",
            "_________________________________________________________________\n"
          ]
        }
      ]
    },
    {
      "cell_type": "markdown",
      "source": [
        "Notice how Keras uses None as a marker to show that it doesn’t yet know the number of observations\n",
        "that will be passed into the network. In fact, it doesn’t need to; we could just as easily pass one\n",
        "observation through the network at a time as 1,000. That’s because tensor operations are conducted\n",
        "across all observations simultaneously using linear algebra—this is the part handled by TensorFlow.\n",
        "It is also the reason why you get a performance increase when training deep neural networks on GPUs\n",
        "instead of CPUs: GPUs are optimized for large tensor multiplications since these calculations are\n",
        "also necessary for complex graphics manipulation."
      ],
      "metadata": {
        "id": "UQwXMWk3Ws9J"
      }
    },
    {
      "cell_type": "code",
      "source": [],
      "metadata": {
        "id": "bYyNNze2LsDz"
      },
      "execution_count": null,
      "outputs": []
    },
    {
      "cell_type": "code",
      "source": [
        "# Compiling the Model\n",
        "from keras.optimizers import Adam\n",
        "opt = Adam(lr = 0.0005)\n",
        "model.compile(loss = 'categorical_crossentropy', optimizer = opt)\n",
        "# loss parameter is based on target labels ==> multi class\n",
        "metrics = ['accuracy']"
      ],
      "metadata": {
        "colab": {
          "base_uri": "https://localhost:8080/"
        },
        "id": "-6NqrioQMDZ7",
        "outputId": "e30936c5-5930-4fc9-872e-7c9900314c96"
      },
      "execution_count": 16,
      "outputs": [
        {
          "output_type": "stream",
          "name": "stderr",
          "text": [
            "/usr/local/lib/python3.8/dist-packages/keras/optimizers/optimizer_v2/adam.py:110: UserWarning: The `lr` argument is deprecated, use `learning_rate` instead.\n",
            "  super(Adam, self).__init__(name, **kwargs)\n"
          ]
        }
      ]
    },
    {
      "cell_type": "markdown",
      "source": [
        "x_train --> raw image data\n",
        "\n",
        "y_train -->one-hot-encoded class labels.\n",
        "\n",
        "The batch_size determines how many observations will be passed to the network at each training step.\n",
        "\n",
        "The epochs determine how many times the network will be shown the full training data.\n",
        "\n",
        "If shuffle = True, the batches will be drawn randomly without replacement from the training data at each training step."
      ],
      "metadata": {
        "id": "GJNW9BYhWxIc"
      }
    },
    {
      "cell_type": "code",
      "source": [
        "# Model train\n",
        "\n",
        "model.fit(x_train, y_train, batch_size = 180, epochs = 10, shuffle = 10)"
      ],
      "metadata": {
        "colab": {
          "base_uri": "https://localhost:8080/"
        },
        "id": "p5g3BMuTNPWV",
        "outputId": "ca8b0531-fc49-4856-dfd6-5d13633b81a3"
      },
      "execution_count": 17,
      "outputs": [
        {
          "output_type": "stream",
          "name": "stdout",
          "text": [
            "Epoch 1/10\n",
            "278/278 [==============================] - 4s 3ms/step - loss: 1.9072\n",
            "Epoch 2/10\n",
            "278/278 [==============================] - 1s 4ms/step - loss: 1.7102\n",
            "Epoch 3/10\n",
            "278/278 [==============================] - 1s 3ms/step - loss: 1.6284\n",
            "Epoch 4/10\n",
            "278/278 [==============================] - 1s 4ms/step - loss: 1.5777\n",
            "Epoch 5/10\n",
            "278/278 [==============================] - 1s 4ms/step - loss: 1.5380\n",
            "Epoch 6/10\n",
            "278/278 [==============================] - 1s 3ms/step - loss: 1.5038\n",
            "Epoch 7/10\n",
            "278/278 [==============================] - 1s 3ms/step - loss: 1.4784\n",
            "Epoch 8/10\n",
            "278/278 [==============================] - 1s 3ms/step - loss: 1.4457\n",
            "Epoch 9/10\n",
            "278/278 [==============================] - 1s 3ms/step - loss: 1.4292\n",
            "Epoch 10/10\n",
            "278/278 [==============================] - 1s 4ms/step - loss: 1.4035\n"
          ]
        },
        {
          "output_type": "execute_result",
          "data": {
            "text/plain": [
              "<keras.callbacks.History at 0x7f9dc00b7910>"
            ]
          },
          "metadata": {},
          "execution_count": 17
        }
      ]
    },
    {
      "cell_type": "code",
      "source": [
        "history"
      ],
      "metadata": {
        "colab": {
          "base_uri": "https://localhost:8080/"
        },
        "id": "syd5Etr9OQ38",
        "outputId": "b986ca00-d47a-4951-97de-2590bccaaa99"
      },
      "execution_count": 18,
      "outputs": [
        {
          "output_type": "stream",
          "name": "stdout",
          "text": [
            "a = ['codegnan','python','vjwda','mern','jap']\n",
            "c = enumerate(a,2)\n",
            "#print(list(c))\n",
            "print(dict(c))\n",
            "#Building your First Convolution Neural Network \n",
            "\n",
            "from keras.layers import Input, Flatten, Dense, Conv2D,BatchNormalization, LeakyReLU, Dropout, Activation\n",
            "from keras.models import Model\n",
            "from tensorflow.keras.optimizers import Adam\n",
            "from tensorflow.keras.utils import to_categorical\n",
            "import keras.backend as K \n",
            "from keras.datasets import cifar10\n",
            "#Defining the data\n",
            "NUM_CLASSES = 10\n",
            "(x_train, y_train), (x_test, y_test) = cifar10.load_data()\n",
            "import matplotlib.pyplot as plt\n",
            "import numpy as np\n",
            "plt.imshow(x_train[56])\n",
            "# Scaling the Images\n",
            "x_train = x_train.astype('float32') / 255.0\n",
            "x_test = x_test.astype('float32') / 255.0\n",
            "type(x_train[1])\n",
            "y_train\n",
            "# we also need to change the integer labelling of the images to the One Hot Encoded vectors\n",
            "y_train = to_categorical(y_train, NUM_CLASSES)\n",
            "y_test = to_categorical(y_test, NUM_CLASSES)\n",
            "y_train[0]\n",
            "x_train.shape\n",
            "x_train[100, 12, 13, 1]\n",
            "from keras.models import Sequential\n",
            "from keras.layers import Flatten, Dense\n",
            "\n",
            "model = Sequential([Dense(200, activation = 'relu', input_shape =(32, 32, 3)),\n",
            "                    Flatten(),\n",
            "                    Dense(150, activation = 'relu'),\n",
            "                    Dense(10, activation = 'softmax')\n",
            "                    ])\n",
            "# Functional Approach API\n",
            "from keras.layers import Input, Flatten, Dense\n",
            "from keras.models import Model\n",
            "\n",
            "input_layer = Input(shape = (32, 32, 3))\n",
            "x = Flatten()(input_layer)\n",
            "x = Dense(units = 200, activation = 'relu')(x)\n",
            "x = Dense(units = 150, activation = 'relu')(x)\n",
            "\n",
            "output_layer = Dense(units = 10, activation = 'softmax')(x)\n",
            "\n",
            "model = Model(input_layer, output_layer)\n",
            "model.summary()\n",
            "# Compiling the Model\n",
            "from keras.optimizers import Adam\n",
            "opt = Adam(lr = 0.0005)\n",
            "model.compile(loss = 'categorical_crossentropy', optimizer = opt)\n",
            "# loss parameter is based on target labels ==> multi class\n",
            "metrics = ['accuracy']\n",
            "# Model train\n",
            "\n",
            "model.fit(x_train, y_train, batch_size = 180, epochs = 10, shuffle = 10)\n",
            "history\n"
          ]
        }
      ]
    },
    {
      "cell_type": "markdown",
      "source": [
        "The output from this method is a list of the metrics we are monitoring: categorical cross-entropy and\n",
        "accuracy. We can see that model accuracy is still 49.0% even on images that it has never seen before.\n",
        "Note that if the model was guessing randomly, it would achieve approximately 10% accuracy\n",
        "(because there are 10 classes), so 50% is a good result given that we have used a very basic neural\n",
        "network.\n",
        "\n",
        "One of the reasons our network isn’t yet performing as well as it might is because there isn’t anything\n",
        "in the network that takes into account the spatial structure of the input images. In fact, our first step is\n",
        "to flatten the image into a single vector, so that we can pass it to the first Dense layer!\n",
        "To achieve this we need to use a convolutional layer.\n",
        "\n",
        "If we see in the above case loss started from 1.8-->1.3\n",
        "\n",
        "As it is a Basic Neural Network getting 50% is okay now we will include Convolution layer for it\n",
        "\n",
        "\n",
        "One of the reasons our network isn’t yet performing as well as it might is because there isn’t anything\n",
        "in the network that takes into account the spatial structure of the input images. In fact, our first step is\n",
        "to flatten the image into a single vector, so that we can pass it to the first Dense layer!\n",
        "\n",
        "To achieve this we need to use a convolutional layer.\n",
        "\n",
        "\n",
        "\n",
        "**#Architecture**\n",
        "\n",
        "The convolution is performed by multiplying the filter pixelwise with the portion of the image, and summming the result. The output is more positive when the portion of the image closely matches the filter and more negative when the portion of the image is the inverse of the filter.\n",
        "\n",
        "The strides parameter is the step size used by the layer to move the filters across the input. Increasing the stride therefore reduces the size of the output tensor. For example, when strides = 2, the height and width of the output tensor will be half the size of the input tensor. This is useful for reducing the spatial size of the tensor as it passes through the network, while increasing the number of channels.\n",
        "\n",
        "The padding = \"same\" input parameter pads the input data with zeros so that the output size from the layer is exactly the same as the input size when strides = 1.\n",
        "\n",
        "The output of a Conv2D layer is another four-dimensional tensor, now of shape (batch_size, height, width, filters), so we can stack Conv2D layers on top of each other to grow the depth of our neural network. It’s really important to understand how the shape of the tensor changes as data flows through from one convolutional layer to the next. To demonstrate this, let’s imagine we are applying Conv2D layers to the CIFAR-10 dataset. This time, instead of one input channel (grayscale) we have three (red, green, and blue)\n",
        "\n",
        "\n"
      ],
      "metadata": {
        "id": "6ScF9wc8W48I"
      }
    },
    {
      "cell_type": "code",
      "source": [
        "input_layer = Input(shape = (32,32, 3))\n",
        "\n",
        "conv_layer_1 = Conv2D(filters = 10,\n",
        "                      kernel_size = (4,4),\n",
        "                      strides = 2,\n",
        "                      padding = 'same')(input_layer)\n",
        "\n",
        "conv_layer_2 = Conv2D(filters = 20,\n",
        "                      kernel_size = (3,3),\n",
        "                      strides = 2,\n",
        "                      padding = 'same')(conv_layer_1)\n",
        "\n",
        "flatten_layer = Flatten()(conv_layer_2)\n",
        "\n",
        "output_layer = Dense(units = 10, activation = 'softmax')(flatten_layer)\n",
        "\n",
        "model = Model(input_layer, output_layer)"
      ],
      "metadata": {
        "id": "p4E3XeT1WS-5"
      },
      "execution_count": 19,
      "outputs": []
    },
    {
      "cell_type": "markdown",
      "source": [
        "![convl.PNG](data:image/png;base64,iVBORw0KGgoAAAANSUhEUgAAA78AAAGECAYAAAD+wpfdAAAAAXNSR0IArs4c6QAAAARnQU1BAACxjwv8YQUAAAAJcEhZcwAADsMAAA7DAcdvqGQAAP+lSURBVHhe7N0HuGRVlTZ+EAURFUFEcoYmKdrkJDlLEpGgBAGRoCCgIBJUVFQQRUUZFREkyBAURcVRR0HymBBUkEGHMaIz44xO+uYL//Ov36Z3e7ruqapzbt9Qp2q9z7Ofvl116uS993rXu9baixSBQCAQCAQCgUAgEAiMOIL8BgKBQCAQCAQCgUBg5BHkNxAIBAJTjiuuuKJ4+9vfXvzsZz+b98lT+NOf/lRcdNFFxYte9KJiww03LA4//PDiu9/9bvG//tf/mrdFM/z+978vXvva1xZf+tKX5n0yvPif//mf4uCDDy7uueeeeZ8EAoFAIBCYSQT5DQQCgcCU4f/8n/9T/OAHPygOPfTQ4rDDDiseeuihed8UxZ///OfiuuuuK9Zee+3ikksuKT72sY8Vr3nNa4odd9yxuO+++4r/7//7/+ZtWR+/+c1vip133rn47Gc/O++T4QWCv+mmmxZ/8zd/M++TQCAQCAQCM4kgv4FAIBCYEvz85z8vzjrrrGLrrbcull9++eKVr3zlAuT30UcfLbbaaquk9j755JPFv/zLv6TvN9lkk6QUU4V7AXH+yle+Unzuc58r7r///uJ//+//nT4vk9+HH364uOmmm4qvf/3rxa9//ev0fYbt/c7vr7/++uKRRx6Zrzb/93//d/ruRz/6UfGrX/0qHYeS/Nhjj6XvkfJ/+7d/S/v+93//9+KBBx4obr755uI73/lOuoYy7OsnP/lJOsYtt9xS/MM//MO8b6rJ7+9+97viW9/6Vtr+m9/8ZvHHP/5x3jeBQCAQCASmGkF+A4FAIDAlQNwQT0R0v/32SyG+ZfL7wx/+sFh55ZVT2G9Z5d1mm22Ko446qvjxj38875O/4P/9v/+XiOpJJ500X01++ctfXrz1rW8t/vCHP8wnv3vttVdxwgknFEcccUTxile8onjzm9+cSCgIjfb/Aw88MP1e23///Yvbb789kdl//ud/TiHafvemN70phVEfdNBB6ZyQ4v/7f/9v8fjjjxfbbbddccoppxQnnnhiUqz32Wef4tJLLy1++ctfpuM4H9futwi+8/U3Uot8d5Pfu+66K53Xq171qnROhxxyyPzrCgQCgUAgMPUI8hsIBAKBKcfb3va2ROoy+UV25fauvvrqxX/+53+mzzJ23333Yu7cuYkkdoNySk2mDlNtqanCpddaa63i+9//fvGP//iPifzuvffe6fMvfOELiUAi1O94xzvSPijOa6yxRvHpT3+6+PznP5/aFltsURx55JFJLaZCH3PMMUmxFo7t+/e///3FS1/60kSEkV/EfOmlly6OP/744pprrknbIPcI8Y033piuj2KMYCO0vqfmIsq77LJLUq7L5Nc+Ee6jjz66uPLKK9P273rXu4oddtihuOyyy9J5BwKBQCAQmFoE+Q0EAoHAlKOb/FI+hfcivzlkOYPius466xS33XbbvE/+AoR48803L84+++x5nzyVV3zaaacVDz74YCLHyK8iWjlk+O677y723XffpO4ipUKLkdoMIdG+f/GLX5zOKZNfyrFtgdpMjd1ggw0WIL/OR2gzIK0veclLig984AMpLPrCCy8s9thjj+IXv/hF+t51IuiLLbZYCqFG+jP5dQ2INLL8jW98I4VPI/KUY0Q4EAgEAoHA1CPIbyAQCASmHFXk99vf/nYl+T3ggAOKjTbaKIUhd+PWW29NqrCQ6TIQxUwYuwteOSbFVnh0ztf92te+VnzoQx9KjeJK+V133XUT8UR+jz322OK8886bt4en9n/mmWcW66+//nzyu8wyyxRPPPHEvC2KdL6UWuT3pz/9afG6170uqcX5ONq73/3uYtFFF03X8a//+q/zya9w7r/6q79K5yg8+txzzy0++clPpnv0H//xH/OOEAgEAoFAYCoR5DcQCAQCU45u8guqQAs//q//+q95nzwFYcF77rlnqvjcDaRROHJWZDP+6Z/+KeXryrftR36prQjuTjvtlEKj5fGeccYZxbbbblvMmTNnPvk97rjjFor8yg2W37vSSiul/OPu9sUvfjEp0+WcX9dE5X3LW96S7pXwb0XChHcHAoFAIBCYegT5DQQCgcCUo4r8Um9XW221VCU5F7yiAiO3iGcuHFUG0ig8WSGtMj760Y8mtTWHPfcivypQv/rVry5WWWWVFMpMcQX5uojtVJFfYc2KciHxjq/Ylva9732veN/73pcKc3WHPbsffudeULHlMyuitf322887QiAQCAQCgalEkN9AIBAITDmqyO/PfvazpLgiiPJiEUlhvnJ6FYtCMrtx5513puJVCKzfILt/93d/l6pG33vvvWkf/cgvAmodYSTWthrSKewZEacsI90LS37/53/+J4UxI6/5vP7+7/8+7X+55ZZLFaflCmfyK7T59a9/fcpdVpDL9q7r/PPPT0pxIBAIBAKBqUeQ30AgEAhMORR/kgNLnc0Q7oz4ybU9/fTTU7gvMogkq7pcBfm61157bVJ/LTMkZBlZVlgKaRU6rGCWissZjnnqqaem5Yjk2X7mM59J1aEdT5NjbEmkF73oRcXFF1+c1vdFQim0GYpiXXDBBYmsI78I6nrrrbeAOv23f/u3qajWxz/+8fR/irZrEcbtOCeffHIqiEURpvoiyLvttlsi/BTo9773vYmYOxfb+xeR/8QnPpH2FwgEAoFAYGoR5DcQCAQCUw4Vl7/85S+n3NwyqJ8UU0quasrIZ3c+bzcQYOHPtvc7v5HvC/696aabFiDZjolkW/YIEGAENa8TrPjVb3/726T0Cp+mDgurtv5whqWJkNmrrroqhSVbC9hSSn/605/mbfHUMkx//dd/nUKbM4RZWybJcajPiHcGEo3IZ/WY+kvxtraw7ZH7qorXgcBUwvvs3auKtPAZR433XN8Snt8NS3b5Th/Rn3MqQYb/+zzvo+o4MwHX6RxdQ06zCAQCgSC/gUAgEAg0AONernK30R8ItAEIKWeQ0P4ykFSh+hw+HEOWB1OkrlydXfSC5b4sLSYygoNJPnvuC/6VQ3/zzTenquof/OAHU9REFYmebiD4IlA4t5x3IBAIQJDfQCAQCARqgoIkZ5hRbQ3fIMCBtsHa1pbkkptehuJv8s3XXHPNYtddd00pCcsvv3xargu862eddVb6fquttkr57pYus0Z2TltAnkUyvPCFL0z72HLLLVPOu2roM0lA9VN59iuuuGLKu6dmBwKBAAT5DQQCgUCgDyhi1CNqmHxjhOB5z3teMqoDgTZAvj1FVyg+QrjssssuQH5VG3/rW9+actiF+1uWC5FFfOXo+15l8rXXXjvt51e/+lXa5vLLL09LdH3kIx9JBPPTn/50ynO/5ppr0vdy5Pfbb7+Uy04hnilk8ouEU6dj7exAIJAR5DcQCAQCgT5gSP/hD38oNtpoo2KJJZYoFl100bRuMDUrEGgDEFPVyFVht5b0qquuugD5RXTf8IY3FG9+85tTTi8gzPLjVTmnFluHW4X07373u/MjHhBl+ery3OXAn3POOYlAC60GIdNf+tKXEuHOy3qVIRzaeam2fvXVV6didPqZwnCcS3l7+cPy86nNKrDbTq5/zsF3zg888EBxyCGHFBtuuGGx3XbbJUL+3Oc+dz75tY192kaxO8dQXA5JB+diOTR1Bexj4403TsXq1BOYrbzlQCAw9QjyGwgEAoHAADDi3/Wud6UllhZbbLHiU5/6VCrEFQi0ATkXl2KLDCJ23covImu5rQwEVhV15NfyYVTcDTbYoHjjG9+Y8n5tizALb77uuusSOVZhHZHNQBqRR5ESCt0h1GXoV+95z3uKlVZaKZFOhFWeMEItZNrvnfvZZ5+dyKo8YmRZdXZLmSlCZx8cUUi3sG3fI8qqri+++OLzyS9yve+++6Yq7LYRyXHQQQel5cUQX8p0Lopnv/KiLcvmepHiQCAwGgjyGwgEAoFAHzCurTf8+c9/PrVNNtkkKWHdKlYg0AaoxO4dLpNfJBNBzORUhXSVzLfffvuktvpOzq5CV1RToc1SANZYY41Upfzxxx9PFdMRUmQxA3GlCCO/1uIuV0uHTH7nzJlTfOhDH0oEHQn93Oc+Vyy99NKJcFOl586dW3z4wx9Oa31TaqUhWErt4IMPLu64447ik5/8ZLH11lunZcR8L+QZ2bUP5Nd+KL7OlXKN7DtnRbuQd+t4ayussEL6zO9tc8sttyQybo3yQCAwGgjyGwgEAoFAD1iyBUmwJBEDOoeCMtKrgETYZmFaDjsNBKYDVeQ3w7uHHAp/RnqtW50dPZbxkr97+OGHF5dddllx5ZVXprWpEV4hyJYX22effdIa2xnIr6rSyC8y2ov8OhbiCkg2FXqppZZKa3Dre7lAVw631s8QccTVetkUYaHQue84Xyq3/Hzk128Rear09ddfn0gtVdu5KuyFbCPp0hn8nxqM/FOUVavOYdyBQKD9CPIbCAQCgUAFqF3yCJFdhnQ2vP1bpfparxgBEAJqXeKmTSg1Zco6xoHAdKEX+bWWNWIoJ3jvvfdOYf5Cmb3vmlBiYc/yZvWNHBEh3BiJRChf8YpXFCeeeOK8PT7VV5Bm5Fc/4kwqI5PfPfbYI1VPB+TXOSK/PkOat9lmm+LBBx9M32cIkUZWhUBrwqYz9E9pCbnglWNThhFghD03xF1os2PIi9Z/3/KWtxRHH310CoGmFl966aXJ8RUIBEYDQX4DgUAgEOjCn//85+J73/teCuXsXg+1CkIkFfb5wAc+kAzou+66q1FjoFPbhHfuuOOO8/YaCEw9qsgvxZQSKidWzqv3UehvBhKL1FJFKaEZ//RP/1Qcf/zxxVFHHZXefznAZRIqlxaBltMrrNh+ysjkFwG1hBh0k1+qsn6RyTHYr0rUlF8KMMKKeFOEAfn99a9/PV/5pSorguVchV9fe+21qQlpPvfcc1PotKJ2FGe/s73thFZvu+22Sf0OBAKjgSC/gUAgEAiUQDES+mnd0yeeeGLep70hR5EapkgOI7opGNtUM79n0Af5DUwnqsivXFqVjRWJ8i56J3PzflNFVXRWaVm/oOAisggrhdTavvJi5e16f3/wgx8kAir/1trAFFr76kYd8mtfKkArUkWdBnnAQpipt67DcRXIyteEzFt2Kef8OjfE/swzz0zXCog7gmuJJyHPQqyFeSvulUm638pt/vKXv5z+HwgE2o8gv4FAIBAIzEMmvsIkGcSDIPcXWWB8U42a4re//W1S3Pz+nnvuSWGkQX4D04kq8ivCQaVk4cXIYLm94x3vSNWOkVNr+lJPhRznMH3kV34sIqsKtLzgI488srjiiitSCD/yaEkh0RTdqEN+Fd+iOgtRvvDCCxOppfQqduUYiDmlFrkVpux7lZpVnl5yySUTgbUP4ctCulWOtg1Hk/xlyz85N4o2kk7FVkDLNo5LyTYmBAKB0UCQ30AgEAgEOlCMx/ItdYkvg/rmm29OVWjLS8TUBRXL7xEJxjWlLMhvYLqByMqRLYcvc9ycfvrpxYEHHjihIX9IqFBjoc2I7c4775yKVAk1vuqqq5KKCvqEiuh+97KXvSyRZeQZuazKk7dPfUCF5azI+sw5ItXyhYUyWyNYWoD92a8848svvzyp0qDv3nbbbanole/lEFOK7UPRKkqw/oYU523kNb/zne9MSzGBPGYRHEi27zVKsGuOZc0CgdFBkN9AIBAIjD0Y57m4VTbC+4Eh/dWvfjXl+FKpmkJ+oSJXiG/+fZDfQBuASAo7ttwQstsNIcPI4sMPP1yrL9UFlRgZFpacw5/LcFznI7dYgaoqsg2iLewjE+cy/EZlZ/uwTXeBrkAg0H4E+Q2MFHhuTY5yd4RQ8RabDLuLbNSFCZYCJG9p2MHzzSBRcTYQCNSHcUNRnttvv72W4mt7YZ4UrckovsYkxXaEhCqqlRHkNxAIBAKB6UWQ38DIAMGlpAhZWn311dMSB5Y1sBZhDslqCmFT8oqsATjsoEK5XusdBgKBeqDsqLaM+Nap6mx76rAKs5SvppCfqMgOxZiyVEaQ30AgEAgEphdBfgMjAUajMEKVKFWstCg+g1bhiq222iqt4dcPiLMiG8K55BvlcKlMfq196HPf2y5/n+H/QrLy92Wl2d++k7ek2UYrb2PfWt7W9/7tPg6Uz6O8jyry6/vydQUCgb9An1AoR7EfoZCDoE/+7d/+bVoDtHvN0TrQFxXHOv/88+cX9ylDfw/yGwgEAoHA9CHIb2AkgFSqzGgtQUYl0seQZNQyJM8555z56/91w3aWQZB7Z1F/qk4Oc87kV6VK6/ypDqlgBqJdhv8j2KpW2lauE0MXhF4r6CGfUFEby0W8973vTeGV+ZwU6nCufmdb+/Fvd14TEmuZCefp3CwdkffRTX4Z6gp5WMfQ8RQhifylQOAv0Oesyati8yAYJ4QqKwpEIa5yTPWD7YU5C5V+/PHHK3/vsyC/gUAgEAhMH4L8BkYCyC4Fx1IG5RBn4coqNiJ/VUBQkcI11lgjVa603MJaa62VDFykFcG07qHlHyzX4O8Xv/jFxdZbbz3fYJZnu8UWWySFWSVK22244YaJTCObwikt/aAqpoX6bfOSl7wkhWUrqkF9euMb35iqUjoHBFZbb7310gL7mYj/6le/SpUnnZ9Klhbe33jjjZPx7jhl8ut+WN7BcSzd4Lydk9/9y7/8S2PDPRAYNVi3E/nVj8sRFFXgSOJ0ovha93fQ9t3Q34wH73vf+xZwenUjyG8gEAgEAtOLIL+BkcF//dd/pQqTDEtKKoXFcgwnn3xyZYgiQ/P3v/99IrPWDKSSUlLl4iG3VJ6PfexjiTRa6oEqi4BShpFO/4J1EBHMO+64I32v4NYxxxxTnHHGGen/jOyXvvSlxW677ZZUaZ/JFVx++eUTOVc85/Wvf32x5pprJmWICq1SJZXZkgwW+KcsU3DXWWedpCDbB/XJmoWabcrk1z7e8IY3FLvuumsy1u1PQZ+VV145FehhzAcC4wpLlyC++n8vIpqhCrQcXWub9iOuvSBag1NOxIe+2C/9IMhvIBAIBALTiyC/gZFEJo4UXQSQ+tqtdiLLPn/mM5+Z1gHMhBABVjiLKov8ItCXXHLJfKMXCab0XnbZZen/yK71EqmvKi4rYmOhfeTTMg/Ir30gydnwtZTCBhtskBRpyi7yS5WVT5hVJWHcFu33e8fcZ599imOPPXYB4nrjjTcWm2yySTpfhD+TX2GVp556aiL2cgypW1RuJNmxu+9FIDAO0LdyikEd4qtvqup83nnnpT7VVPE1HogesZZoHeIc5DcQCAQCgelFkN/ASELIsiVEVHrea6+9irPPPntCni6V+KMf/Wjx9Kc/PZHDTAgZuAgiMmsRfeHK11xzTfoOkGLKMIUYqKr+th2Se9BBByVlmOKcya8K1NSfDPt/0YtelNRpYcjI7xFHHJFygjM+85nPJPIrLNvnwqCReSQ5NyHWz372s9P52S6TX8ReODQSLmTbeR133HFpn6rNBvkNjBsosJxdIjbqEF/jg2gKTiuRFE0hX19/o/jWJc5BfgOjAHPtZNa+DgQCgZlAkN/ASIAhiwDKc6W2ZFhP84QTTki5eghxGYxbim43+aWQIrSMV8Wtupc66ia/8nUPPPDApOI6B5Wm5eb6PJNfOb9ZKYYq8vva1762+P73vz9viwXJr1Bl4dfyhalI3U1YN/U3k19wHzgAKFcKaMkf3myzzVLIZxS+CowTpBZ885vfTOQX8R1ERI0H+o0c3XKfrAu/NxZweIkKqQvjmNoFcvQDgTZCXzPHmHM5WuvAe2/OFaUkauu0005Lzd8+q+OsCgQCgboI8hsYCQgFFmaMZApDzkQWgUX6hAsLOyyDOoqoPuMZz0gkMYcTy42VA0whEvY8iPzOmTMnkdgc1ihUUs6vJZemivwKpWYQ77///iks27Isv/vd79ISTK7b+buWTH5tj7g7tlBrxvh3vvOdYt11103flx0EgcAow7vu3Ud+9ZlBUQ+2UWn9Qx/6UMqvbwr9U46w3zdZB9jYwYmlkvsNN9ww79NAoF0w9xx++OHF2muvXWt9fAUq9TdkWSTTKqusUjzvec9Lzd8+8x3HNod1IBAILCyC/AZGAgxHRFBoMAUWEWTsUm5UcL7ooosS4SyD+qNolArMyCfl1G+EB1NyVXcV9jyI/Po9gm0CF2rscznBco4tj4S8Liz55flmTG+00UZJUXJuvOvO0+8YHOWCVwprId/Owb2Q46iA1+qrr15cddVVtT3ygUCbIfLjnnvuSf1aHxoEffHWW29NESEcSk2B+FKMpVNUrePbC8YvfV+INOLLMRcItA1UX44fxRyf9axnpfmrX5QRp6w51koJz3nOc4pVV1212HvvvdOchvD6W5HGxRdfPKXvqIPRnb4UCAQCTRHkNzASoOYwXOXnWTLIxInE+hsZrKr2DPIAr7vuukRwy78xgTOWGcKK3SCbGdRclV+RbWDomuSPPPLI4k1velNaU9i+qLTW/KUgn3XWWSl8K4NxK8fXZE6ZQs6FJpdDJJHWM888M1WRRtQpy5ZgchznSV22D+eGTFOsEd4rrrgi/d+5uxaGRN7eeSH8EUIWGHWIwNAnFJGj5g6CCuocYJ/61KeSUtwUwjZvuumm9Pte400VRJwgvkKkOajCMRVoK0Q6SDNacskliyWWWCI5ozleq4AUc/BaCYHKazUEfUDOu3lQ87fPFK20T45mCrAK7IFAIDBZBPkNjBQQVhWQP/zhD6elgUyUjNp+OX6IM4KJxPoNMpnX1rU0CQWIopNh4r3rrrtSERtgrOZjXn311Sm3+Ec/+tF8hRZplbNbDrsWiiy3zwTP+LU9pagc1sWYFnYpxBkQVp5yBrLzVEXWb7JK5NoVGckEmuqVr4sBwdCwJnGdwjuBQJsh3eHee++tTXxtkxXbctG5uuBQ4kSjYonCqAt9GkGnNCPOQXwDbYblAr3LHK6Ktr3tbW9Lc3AVzHkiopZaaqm0koGoqaplwMxXCLT9UZMPO+yw9NtAIBCYLIL8BgJDCqo0AoxMRxhkIFAPIkA4gRjT2XHUDxxKojLkyE8m1JlTi0PK7y0lVhcMfYqviA/EucrwDwTaCNXRpen0Aoez9CBr20v/EWk1KBdfH7HawQte8ILkqIropUAgMFkE+Q0EhggmdMY7D7r1SM8999zU6qhXgcA4AmnM0QyiHYQs1yW+oiXk2IraaJKjm6FfSm0QhSGqoi70c+qVnH+KbxDfwChhEPkV8iwlx0oLwqTLUVG9oG9vu+22xWKLLVZcfPHF86OzAoFAoCmC/AYCQwS5ugpnKWSlaIhK1PKRY2miQKAa1FYkVsqAVALEt46ziDFNcVIUr0mocoZjWkdcRfgmVZ0R9YcffjjVElDMLkKdA6OGQeRXhWchz+Y3Rd4Gqb4ZlhAUJn3UUUctsEJDIBAINEGQ30BgiMCAt9TJaqutVjztaU9L/6peHQgEJoKCutNOOxUf+chHkoKquJww5kFQlZbiax3RRx55ZN6n9SHvH+lluKv+XheIrzoCciItQxahm4FRRB3yq0ikKs6cT3X6AYIs3/fZz352cgxbjlC0Bodx1LEIBAJNEOQ3EBgimOAV6FIoZIUVVkhVLhXuCQQCE6HonGqxKsueeuqpyegepCLJpVeMjvJqTfCmEIUhzNmSYfpqXTgvhfMOOuigpFAH8Q2MKuqEPR9yyCHJwfvGN75xgYKSvcDhZEkkv1l00UXTv/o+J5QUh1CBA4FAXQT5DQSGCEIgFd9R3dJSSgz0HMLJeGYwm+Qn2wYRg0CgTaCgLr300sUiiyySVCRLhvUrDqf/MJYR5d/85jfzPm0G+Ybnn39+Y+IszPrlL395Wr4FAQ8ERhWDyC+IaBLZZO16qyQMgqX/1l133eK5z31uqvqsv8sZ5vh62ctelpYpCwU4EAjUQZDfQGBIgJwKxaQK8Yz/z//8TyLDJnQL+1s/9PDDD0+hmk3aBRdcUJx44onF+uuvX9x///2hOAVGBirFUoFUjT322GNTvm+vNUD1KVWZTznllKQUNTWUOY5UdJaWIHS57u/9Tpj1pptumvIU9etAYJRRh/wq6mgtfARWCPQ999wz75uJsC2V17bqYXAKb7/99qn/v/jFL06EGDGmJltWMBAIBPohyG8gMIv40pe+lIrfUKsQX5Vqu433vLYvEsvoVuWyblM5GuF95StfWZx00klpCZggv4FRgD5jTVHriDK25RH6rIqU/ulPf0p9SJ7gZIiv/VorW36iNX3r9iHHoTBbo9SyRqH4BsYBdcgvZ6+155FXSq5KztbZNseBPmapP59Rhym9a621VsqV14dPPvnkYsMNNyyOOOKIVAhr1VVXTYR4s802K9785jen30akUyAQqEKQ30BgFmHi3nLLLVPe0ze/+c0UGlmesBn01jQUZmk5iKZGuyq2DAHE+hvf+EaQ38DIQF/QP6iq/fqFbRjZ+tBkDGJF6C677LLkfGpCfG0nNPo1r3lN8a1vfSsU38DYoA75hX/+539O+fMveclLimc+85nFSiutlMgwIozIbrzxxukzyxshuuZCc6T+LjVo7733TqkEV1xxRXH66acnkiwC5JhjjknzqkJ4nMBBggOBQBlBfgOBWcQmm2yScpZUrzRRWz4lQzEduVDyGB999NFGxNdkbwmY97znPUldph4LuQzyGxgnKKTz6U9/OoUrN1mHN0O+vTWAGde/+MUvavdB6/ZyPMlJFnkRim9gnFCX/JqnpPR89atfTUqu0GVEVxPi7N911lknpSpwIHFEZSKLBAt/3mCDDYqzzz47VX5WfV3+rzSfT37ykyniSbN8oN8GAoEABPkNBGYBjOjHHnuseOELX5hyFoV98Vj/6Ec/St8hvgpeUZx81sRzbVtEV2EennKTvnzHIL+BcYJwY6QXAbUEkv7WpOkvnE8f/OAHk2JcF4guwnvOOecUt99+e6O+GwiMAuqS3wxpBZxT1Nzc5zR/+0xVd2HSZehXd911V8oBpvKKbhIyffnllxf77LNPKmrH8fvOd74zEeDTTjutuOOOO9LSSIFAYLwR5DcQmAUIgURO586dm0KfqUsmecqvdt1116VcJ/nATcmqpZEYDtY9zWueBvkNjBv0pz333LM44YQTkkHcpCHN73jHO4rjjz8+RV3UBcUX8aVIIb7R1wLjiKbkNwOhNTfmmhWDUgXk8svFpw5bA1iaASXZUmYHHHBAIrwU48997nPFGWeckVIQ5O1zKEcaQiAwvgjyGwjMAhjJCvVQZh988MGUt2jipzAhvgxwBXKaGs8PPPBAItI33njjAiHUQX4D4wYG7y677JLUnqZNxXXOJ9Vj64IypX9JNbDsij4eCIwjJkt+JwPz2qGHHlqsscYaKezZ/GY+Nb/6XDi1fskpJZJK4cc3vOENKR0CWY7IjEBg/BDkNxCYJQiPLE+8Ju1PfOITxatf/eq0BiLlSpGquu3zn/988YEPfCARat7vMoL8BsYN+gHjdzLQL63Ha2mxOtC/9C39j+OpSX5+IDBqmEnyi+heddVVxdprr11stdVWqd+CeY4TSzrR6173upRXrEq070V1+Pxtb3tbCo0uO4oDgcDoI8hvIDAksKYvz7VcQdVp5fw2aSpcMr7lOnYjyG9g3DBT5JfCa4kyheluvfXW9H+/pwQLrZxs685xDATagpkkv2AdYAR32WWXLY488si0xF+GEGerKcj9lxeM6HIOcxbLC/a5vitdCJEOBAKjjyC/gcCQQGEqC/0rtkMVbtp4sa1lWhXGFeQ3MG6YCfKL6N53330pj5Ax7f+cWPKEFePR55q07373u+m4+rHQ6UCgjZgM+eXssSwZIpv7g799NiiSwvwmzFnur7WAFcoqQwFJ86Ooqk996lMpvcg8qECWpZbkAqsNQEF+5JFHYo4MBEYcQX4DgSEB8vt3f/d3aS3RyeDtb397yhcO8hsITD/55XCSl6+4FcObgY74yrtXcE4hHv2xSbOk0pve9KZkxFv7NBBoI5qQX/ORJcX+9m//NvUbEUzW7tX87TORFdTafnOXdfDPOuus4nnPe14Kf+7O57U0ksgolZ/9q7o0Z5WG8KoKrUCedfGtuS+CKubKQGA0EeQ3EBgSBPkNBKYO00l+9SF99a1vfWvxN3/zN8mARob1MYa1NUabQsgl4ow0nH766UF+A61FXfKr34h0uvDCC9N6vdb2XXrppYsVVlihWHHFFRORtRQgZxASjND2SgfwuWJ11gpeddVVU1GrXEgyQx/97Gc/W7ziFa9IawNbi9tnYI7U/4477rhi2223TdEc1g5GmiOHPxAYLQT5DQSGBEF+A4Gpw3SRXwY71UgeIWObYcyAVrUd6bXEWFPon/alEM/NN9+c8hSD/AbaijrkVx/Tj4QbP/e5z03NO498qn0hD1ce75w5c4pnP/vZxRJLLFGceeaZiQD3IqOW9kNal1tuuUSgKcbdZNlvrfutkjtlWdqCdYYz9OUvf/nLxc4771zsvvvuqf6GdYb10aq5NRAItA9BfgOBIcF0k19LPcgpDvIbGAdMB/n1uTxEuYNUIoa0/qRvIa5yBpuCce5YKryrPOsYQX4DbUYd8vvv//7vae1d6u4LXvCCtCQRYluGvoDQIqnLLLNMseSSS6Y1uMsFrcrQH/Ud6u/mm29ebL311il8uWpOpOpax3uvvfZKa3JnBTgDIf7Yxz5WbLLJJsXBBx+cCLPjcn6NCtyXP//5z5XEXtE96yi7ZmsuS+no5XSYTrjf3hXHDwSmCkF+A4EhwXSSX5OXZZQY7EF+A+OA6SC/+tF22223wBrcFF/EV5GqpnAcVWYRX4pv/izIb6DNqEN+LeW3/fbbJ1WXooto9QIixuFEHX7Ri16UlvbrBfuxhu8qq6xSrLbaaikNQb+tgkJY5s25c+cmhbdq7pSPLL2BAq0ytAiq2SCB0wHEdu+99y4+/OEPJ4KZ4T6oXL/rrrsWSy21VLHSSiulVAx51TMNY+3RRx+d8rkDgalCkN9AYEgwXeTXBKf6pQmEEREIjAOmkvz6PwMaIf3xj388X/1BUhW8srZvr1zEfhBeqdAO5Sn/3rGC/AbajEHk1zsubQCZFVqswFT3vNUN/Q7xFf4swqJXf0NMVXHeaKONigMOOKBYY4010rxapdjaVjVpZHmLLbZIc2i3c9h55cgpYdi2UzlayHZb4V6wMzyjZz7zmSmfukx+hYsjxRR3TrmPfOQj8wuQdSvk040gv4HpQJDfQGBIMB3kl9eaR/uCCy5IfwcC44KpIr8MRdVgVYJFSrPR7XtGMALbNCTP/hHeiy++uPjWt76VjOsM3wX5DbQZg8gvdVbRqcUWW6w499xzFyBevaDf7bbbbsXiiy+e1sL/9a9/Pe+biRCyrP8rlLXffvsVRx11VCqsVQUEWFGr2267LSmdiJb/l+dRcHwVpymihx12WLHLLrsUl112WSLPbYLzFTq+8sorp1ByRca6yS+Vl+PAPXEvOdA/+tGPplByjooqiIARGu7Zq9x9+eWXp+XaynaHe8qJeMstt6T3wzOy77KSbixVm8TvEW+pIFXk9+GHH07RbOos+Ls8htoH0uw7S1kZqwOBMoL8BgJDgqkmv3KlPve5z6WQSvvsnswDgVHGVJBfRXEYzQxBxl0mvtbjRXy/+tWv1jLcu/Htb387VbgV+qkibRmOHeQ30GYMIr9I5L777ptUXA6gunOT9Xif85znJFVX/0OSzJvdsL9//ud/Lnbaaaf0m/XXXz8RIZ9Vwfb6sT7/qle9KuUBc3h1q8V5O+t4W5bsoIMOKvbff/9E0nop0cMG1/T73/8+5Twjst3kFzmm8p5yyinz1W3XbaxTBEwxsipceeWVyVno3nE4UI4tOWU/7A/3R8i4z4W7u2877rhjOpbUD4qyZ2lc9D3nAoejfWyzzTbzya/oNee75ZZbpn3l/Vm/2bm7Ds8679v5vOxlL0tOlkAgI8hvIDAkmEryq8iHJR1UvuxXHTMQGFUsLPmlyDKyqUYqwuZwSFWZGWgMx355ilWwX0oxFYWh3ctwD/IbaDMGkV/KKvJD+RX2X1btesEchuggzJqlkBSjQrTOP//8FEnB4Zuhv1Jp9aOTTjopHU84b7+50HlwbNmeCiy3uCqqwz4QaeTbHMs5pkq1gpJtAlW2m/xy9iGOosU4KTKMe8ikImVVoIK/+MUvLt7ylreksZPySqFHYCm9QtERWKTWfUO+77rrrnSfhcAj2sZszxNRVZ/E9+wa+dZ+i/giymuvvXYaQ4WiO47vFCVD0NlQJ554Yiqg9oMf/CCN3cK2OUBU7Q4EIMhvIDAkmCrya5JRfEelSnlSjOlAYNwg6mGzzTZLRlnTxrA67bTTUnEr6/jqQxoDkEEnrE+V1KbwO8ay/fT6fZDfQNsxiPxSHy1xpNiV8GckZhB+8YtfFJtuuul88vv85z8/EWBNLjBihgApTkWJVZzJnCp64/Wvf32xxx57pO8ouv3g3FR0R6iphtdcc00Kza0CNVPRLKG5b37zm+cTcQSyWzUeRlSRXxEuxj3PrxyVgogi+dZProJxk8L6hS98YX5tkRtuuCE5HYynSKj1kyn92QHhXwXJKLcI8amnnprUY+OjcZADgwNCuDuCy9mouCCnh+eb98Pp4PleeumlaXvP/JWvfGV6rzw7ThFOxypnY2A8EeQ3EBgSTAX5NbEgwPJl5MEE8Q2MK3j5FaKi9kymCUlGfBmxGkVIyJ/PsqHYBIzCSy65JKki/RTjIL+BtmMQ+QXOqZe+9KUp9/Rd73pXT4IJ1Fdhzssvv3xSAeXcCntFtlRg3mGHHdLyRvvss0/xpje9KSl/wp0RJpEb+pK/fS9ceRAJ0gc5kREzoc1IFZLbC0J2OZrtW1Es5ycMVwRWdwGtYUIV+XUd7quxrnyfjIkHHnhgX+UX0UVcM4x5SCi75Ctf+UpSX7srdVPnN9hgg/Qv5wVyXS4mRr2lqnt+wpqdg+rTnu+xxx6bmt+p7s0x+dBDDyXHP2dIzvd+97vfnRyPgUBGkN9AYEhgopELyPMqpKppE27E42kSMgEM86QbCLQFQiGpEpxLDKg6IZplUIcQ5ve85z2J+Hbn+HYjyG+g7ahDfhWsEppKwUWCOYaQnrLDlrJH4bvooouKtdZaK+X7IsFCX0VmWMeXmquoo+WSpDmYA1Vgd3yfIUerrrpqIkP6FPJknq3jGBb2q6iSZZYQ9J/85Cfz1cZu2J/iUBRS26qM7BwVfRrWolhV5NdzobS6z8h7BtIq7FzkShXYHRwFSHJGJr+en+JZHBTdxaeo9JR798mz8U6Uw5PzeszIr+dBjfcuIMS2LbfPf/7zqaDWL3/5y6TGe6fkHCPHiDnbKhCAIL+BwJCAUcz7KVfXRNC0nX322clAH6V1CAOB2QRjVjQGY3YyyxlRhBiD+mV3VedeCPIbaDvqkF9zFGcSwqTqMGKE5CBRcj81f/uMqme9WcSWEigSQ3+i5FIpbasIlcq+SJGQahWNOZ3MjRxP1EVNBWihtQizcFkhsf3mS/Py9ddfnyoOI9rCdwct9yOnGRGjQiPfik5yoDWtETDdqCK/xrwjjzwyXS9bAlyvVCq5wHKrq9CP/CKhHA7ClTkTypDzrZCW++PZUc05N8Bz8Zwth4X8IrZILrLs3DhGKPSO6R6rw+D9YEdRsJ23bYSur7feekmZDwQgyG8gMCQwoSveoGjDZJplBgz0dTzagUCgP4RayhkTsid3rSkYk4yxrHrUJc4MPmqH/MZAoI2oQ35Bbqj0AqHL1Dxrzi633HKJ3Gy88cbFC17wguJpT3taIqy2QTyRM0BKhbcqsiQXlZPKd0gRZxOiLA8X+ZUvLJxWbqkc47lz56ZlexS2QoyRI4otxbAqYsp5CttFxOWlItV1cv7Nxwi5UGjHEgqdSdkwoIr8gvPkWBAujIhSUYWSI6YqRVehH/m1f84Jarj9IsKeF+cH5wVi615Zb5lCT7n3PHwvlNm7YBvOQ8/Tu6K6NOeF8+OcpBpzOMjtFRItEs77oiHuiLfzCQQgyG8gEAgEAiUwBBlVjLarrrpq3qf14ffC+6gaiG9dcFwxSB2T8RYItBF1yS8gmwpM6WuWGUKGOH40fyNPcm6riKkwaWR09dVXT2pvrpfBccUZTHUVsswBJX+XgsiZJRwZEfadYliUYOGxqrhTeREvhBnZys5kTilky/EolDfddFOtcGa/o0YaC4444oikHiNhzrWf4jwTcP4iTESblataOzeRZO69++M+yZ1FLntBDrf7yoGfgbxaM9j+jYmeCfJLVabgUpgdQ2VnDgbPWMEwIcqcHY5tG8375FlID3Mcocy+99xt7/2hAjt3+cryfX2PtDt3+xvW8PPAzGOkyS9Pu/wFnqisjIn518knq44ZpA1k5YFiGGFQde2uuWmOWiAwWxDWRPVCALqh4Ii+LOwKsTDR5aqSTSF3iELASBt2uEZhsCqIzraxNA4wtmfFV/G4pqBICeGTG0chqgtz0m9/+9tkKFI7BhXlCQSGFU3Ib4axTe0KSh2lUfO3EOJe9prfsO1UJ15zzTUT6SkrsggXhZAqiHhaukxesOrDlFhL6phH2HSKRCLLlubxL9VTqoNzsFyg/TqeatF+Zz+UynJebD9QpYXwWtYHcROmy8HmmmcLzgnZZ9d2V6dGIo1/yChi6Vz71RHxzM3LZWUYmTVn5wrbjofoUtuRaw4Jxy7P4+Z550T9pSZzRCg26BmBdyGHolP4VX+mBpeXZbIP0TrOXaNkZ8dIIAAjS351EAOWAcbAaNATSsNDxHieDCG0TzkcBi77HmYYZKgHlgToV6UwEBgG6FveWbk6wp541ctABExy+rIQKEsmMEAU9poMITQG8AwjGcMO3mqeb9c7WbIfqAdGFUNLqCIloykYyIw1SlWTEDvvMIcP4ksZCuIbaDMmQ34nC31F+PMLX/jCFNoq0qKbpLGBEK5MkhEr69hSHZGovD3BRLGlq6++Oqm7treN7RFhYwOyLIRXHuu+++6bCByS14ugd0NVa/Mb8oyUI2Ycm+a/QCAwMxhZ8st7z+MndMbgROURgiFhX2VBHvZeYIgYiAxSlKhMlMvk1+Bu0OW1YzCVDXDbMVL91veKHJQHY/vmkZT34V/HYTRlz5ttfW6/BuO8n3IIToZ98IzapqxoV5Ff+3cc+3LuYUgHhgHeS/2RB194EkdVN/mVs6NgBVLBA/3JT34yEWBEoV8REX1J//DO61O5H2byq6KlfuV7fagqF0tfyn2wvA99zW9z//avbfTb3A+NC/qa/drWfpxP93Fs7zh+r+mbeR9V5Nc9y+OPf/O2gcnD/bdMh/mC6tQUfq8iKqO6ezmPfvDsvP+MYL8dtqI4gUBTzCT5BVWYhbg+73nPS/MCMtkN/YwdaI7hQBVijXyy54Q4V4GKKdSXWquy9E477ZRsQIooRdM1brPNNukzymKeGwbBuYjMo0BbpgkRFqXneN0KbCAQmHqMLPmVPE/VMcBlg5HBadB61rOeNaGkfobBiwde0jxDhHKMNGdiaZBTMMFAJUyGQcpQF/rC0LUN44WBLs9EyIWqgzyFueCJIii8iELjeB0pWtn75/jCN1QvpBwI9bAfRroQuhwCpDGy7YMH0nky2BjDvusmv/ZrQhKmI1QEiRDal4l9IDBb0Hf0VWs4Ml7mzJkzgfxyWDFaykaKsCm5SApnVEF/0++Er+qn+gOvvs8z+WXU6I/6hJA5OV1lA0Zftq3+5RyRcFEfDBTjiX4uNMt4ooql/m6M4dAyHnA26f8MJcdxLkLIqIO579lOv0X+KQyOo2/6rb7cTX4dV9EUhpPtP/zhD6cxq+yACzSD+6oIi7F4MsWtPBPP2LtQXudyEDxfz9574X3Oc1Ug0GbMNPk1HhunzR0qQyu8xD6qgjlAQaRnP/vZqbiW3+RiSv1gLmALcrgiwpy0iLP8VevXilgyN2Q7rw7MNeY0+1TESVEuYzsna4zngcD0YWTJL4NRFcHswc+GqDwsi6r3CgU2EFnEWwEF5dd5EW3P+GWoIL9bbbVVqj6oYIKwGN8rTsIANUBSpQzABshdd901DZLWsnv44YfTIK0ynaR/ITq2UdRhjTXWSAN2DqlRgIFKTe3aY489ii222CKtcacqoeswsCugYN+qFjpPZfwN6ghyN/nlDOC1RCKs4SYE3CLxUfo9MExAAPWvbvKrf3AGlQ0aOVm87vpbNxggQtQYN7ZR6MTC+NYIRDwdx5qFvrfEhj7muI4jBymD80yYnH4uF2y11VZLRFRfZqAIt1t66aXTb3fZZZfUFl988URgqbzGBP177bXXTuOFvrfhhhum7W+55ZZ0DAqAEDuVTp2n4zz3uc9N12Uf3eRXfpMiJfqv/W222WbFCiusMN/xFWgG90yopPcJAW4Kc4t30zM35zQB1Z6TVUhmE6M5EBhmLAz51R/1Ka3JeMbhyAFp2SRklEOzqk/Zp+2kwCGvbDAE2Hhr+zrHRJTVj2EXUm4RaaIKRZmT0/eIbd3zZxdSrwkrbEdjURZUAoHA1GOkc34NPgYVBqiBWLl5i51TYhiu3bC9XC8GpYEQgZTLgawiw36j0h+DmXJrsLVNVqB4/BXrUV2OMUst1hi3K664YlJdEVf7Q56F1zk3+3BODHM5j8iv0v08gbyAeT/IuNL9vIvUJUYytQrZRQqo1Ugwg7yb/DKuKF0KLvgOGeZlVATCOneBwDCgivxS1eRzIRZl7/xHPvKRtGSF/tQN0ROWwOBk8v575xkrHErUOaFs/uZwUozD9wqbZBUgAzF2TkiKbai2SCzVNZNfvxHB4XsEFFFlDFGDM/lVaVIUh230cf2U4eX/IjqML0Ly9HOfUZCNEdQMoXCZ/Bo/jFHGijz+cNhZEsR1+X2gGXKoMlWnrPrXgXmGg9U4rNhLk99zlDquKBzPMhAYFUyG/OpLxllOS45BY7SoHuN/Hfi9sdwSR8ivOcPYWhVNwSYjZLDVRO8ofoU0U2/NA3WAmNq3ecD1mgvYjksuuWQSGdiFokGqbM0q2J/5zZhPqDAPWouY8zMQCEwtRpb8lsEIpYgij9QV+RUMym6vHE+bcvfUnlzQCnlmPFMGGJ7IL08fUpp/zyA24BqsDdQGK4oNQwixFCLNOGUwM3gY61QnA3P27AlzRniFP2fl13k4foZrQKp5CA2sDGphz/k8ct4LQ5lRXCa/zpHiRJ1QJMiAnHMhmxp8gcB0oZv8erflQ+o/VLmyIcNhhPzy8HcD6RQpwbDJ3n99yf+lFyAsyK/+kr/XfxBVigA4ljFBn3YexgTEWNQEspPJr9/kSpO25eRaaqmlkoLs3H2PsGZiqv8J4dbfGWvWPhS1UVYpjBOU3ZtvvjntI5Nf+zBGMO4YlxRo/ZcxZ3zqHtMC/SEKQKgz4lvXyC7D2C6aqOnvjc8ijDhZPet4boFRQhPy6903jrFpRMMhrSLlNH8b64x97JhBSijyyElKPeVcZPOwp7ptHP83trKh9EHChXFa5I9oOsvwcCrWtY1sR4AwXxjrzVeihDhPRe0RGjg9zUuDYBwxnkurc04KblljuC6JDgQCgzEW5NdgksOJedLkFvIsdueEMFYZmcrcM04yDGyMTv/mnF95Ixk894iqwdQ+qavyQBjJBnNEVy4jpYpnE/lFlhleGYx9xReE4zhPiqz1y8pgMDs3xBsJpkBThyhcGgXKZIGcd5Nfg6n8QOGbBneGv8lG2flAYFhQpfwihd5rCl2ZYOh3thVBUQaSa2kg7363AeP39uc4vPxyrTL0fx53/RUYZQwjocg5zJhHXwgzwpPJr9/ksQRhFpVB+UWmGUMMGH2xTLL1XyRbjrF+yymX+3FuwugoyvpvJr/On4JtHBKuJy1CnzamGKOCRNWHvGr3jVOley6oAykonCAckE1+7xmeeeaZoeoERhZ1ya/x0lhPMUV2pYxII2GjCCGW/rHYYoul74yj+mo5+qcbxj/ChnBkDkUEmG1WtcwNpyLHF7uKE9IYjayaV4zP0knk4iOsdcdV27HxCCGIt2rQ9qFmiygk18CGU9W9V90Z8Dlxwpq5okPMQVmlrkvIA4FAb4ws+TWYqfbMyM0woFA6eeUMSN2hZoxSpJMSk40Zv2Hk5vBjRqcBNSvDUCa/wlwOO+ywpNIa1BFcxhFPJOU3k1/b9CO/jF2hOGWUya8QbkYvJVe4Y26McSpyN/nlMUWADaYGZvnCQicdA0EIDDc8P1EEDObJNH3B8g1NJvLZQBX5BXm3cl2zegpC+b3DUhDKyOSXIaWflo0FTjAqrRSB7qWOyuTXPXIuSCiCLPIDUaUyM4q6yW8+r6bklzHDQcboKvfj3BiRnlkmv/avb7sO4XmW41FvgDriXypiYDCEFhoDhSo3VVS8G5ynCg16J5oQX8+OIex9YHwPc18MBCaLOuTXnKYfGT+Nl8guoofgShHR/M1ekq4mnJjN012UsBu+c3z7lY5mPkFyjcVl2E70HVtK0UCCxumnn56UVvYj51ZejkihwyaOKmMCZy27UBSf6xTC7V/zlvFcnQl2oggm6XLlKL8Mn7HbzEVS3kQLmYPKdSkCgUBzjCz5lTfCUyZMOQ8qBlu5rjyLQhO7DUVGscHPAMNABdsgtQzVHPbcj/wyRhm7QhMZOgZYg6pjlpXfhSW/DGHb+x1CrxlcGerOp5v8moiQIBOA73xmH86bAhIYXjCQvUMmPZMnYtekcb4ga7zHnB+DQsdmE73Ir9Ax777+C0ggY0DYMkOlDPeLp1+fc7+yUsB5wHll3woU9SO/7pH+J1e/HG6tEAmldqrIrxBsIXHUZGQo92XPieGGnDnvTH5tjxQ7vrGFkWU8cC2UDqpHoDc8Vw5KBNRzbUp8wTtKWWpKfG1L8eWE8l4Mcz8MBBYGdcgvG0rYMXVXtJooF/2iTGz1EeMi24qDTzqJMX8Q+TPmG+P9xhivxoJ+1y14GC+lhCG8xmU2GYJtvLYt28hqG+wkodDSHOo6GEV42B87VCQghxsCzXFpv65J5Ij9qj1hvHcuxqfuFBY2m3nONbh+9qPw6mGp1+Laup9dIDDMGFnyy1vGUBWqaBCWb0ERRSCpOUhBt6eNccrDx/i1BAqFVNgjdYki7PtByi91KucSGnzt7/jjj09qMw+jUBckZmHJr4qC9mGfCLcmH1G1WSpVN/k1gCM/F154YSIEvJo8kmVCERg+mABN9LzFSJXJzntbtyFS8oWEuOcQzWGeoHqRX84kocfeX/3Mv95nERxlNThDyBivuuJUnD76onx+1deNBfrIIOVXpAby6xjGAv9npChExwnGwFtY8suQYlBRfo1XztP56f/SKzi0OOUy+WUIIl7UZ9dlWyF01GP9P5Tf3vBsOBOoQMbPqvemH7wTni0D1djdhDg7Nsek+YSSH8Q3MMqoQ37ZOhx2HH/6FGGgF9gz1FkRdPJyjd9lctgN35kDEE/qrfx6dlt30URzoTmRjWZcVavFOM/ZmqOG2JJqRJhDzSnGD+Nydoj2gzmYEKPvG8PZXeZkQI7ZZqJ/2KaOT3xh54k+ZLNRpo359gOuidPN/eI4YP+ZM/qFglfB/XG/jYPuK2eg+cO86lxce53rA0SdYOSc6uQ0BwLDgJElvwxN6olBR36tgUfjgWPA9DJ8KEY8arZFeA1EjGaDHfiOkWpAyjD4GDQMokKIGcsGAwOYQVdOovxdOR9CFYWgGuiQ2AzePiE/jH8Don1QeMqwHwMMz6GByyDl3FyThiwLoTGAG7iE3cg54W3kNTR4uybXZuBE5BnPBuHA8IGBjCiJGPDONK0Iiwgp5OG9QYB5m4ed/Opn3suyYwi8w/qH99z7y6ARtsqJVWUE6f/y2b3v+Z3P3nL9i0HCiEFKM1R2p8zJjQf9TL/lJLIPSrM+ibhybiFSjDC/yX2IkSLnX/83lnhmfqcvZgPG5wxDx/eZbRiCDBnjTR6nONIYO56jZ+hc9Wv3CPlmiNnWb5xTXic8MBHGe4aed4ZB2XTM8z4pamXs927WJc7ZyHRcRialKYhvYNQxiPzqfxzv6hoYxxS8GgQkFCmVzqIvDXL06WfmB85H0XbGSaKGsb88Zxh/RQJyeqqnYNwnRLCXMiE3TnOOWhqSzWVeMBcQKqrmnzJ8bx5n8zkH83l3DrJzNTawD9mnxhnzBptOZBDHtblGBBhHACd4JuT2ibwi0XUIqwgUBJptynHL+SCnWrVry3ZyrJrvOFXd835wbexfTmL1MAaFpAcCw4KRLnhlIODBonQyHKmwBr5Bhg+lhaHjN/IJDVwZDEyk1QCUwZj2md/p+AY2AwIvH0MLGTWoOj6Vlfprn2VPp9+aAChFDCsDrQmkDARWy6F2PG4MYaqvkCFGGWMZDKa8cMhPvl7nzqAWOuO65NRMJuwvMP0wqagKbKL0vJqGs3oPeLkZIN5l74qldIad/OaQX/2hG9kD734wBPSzfkTCPdTv9A99GSm1f58zeNzfcr67fqdPMJgy9ElOJr9nXCDhSDVnAkPEOcnXyufhX4YJYqyf6nv2Wc61dhxGk+Pn39lOGK7jaPp1JliIl/HAudre2GP8uOGGG9K2jCXn2e9ejDMYyfqCCB3vTdP333P03nE8egcGzR8ZjuP94LjQD80D+R0IBEYZg8ivviDy5elPf3oipnX6lPHNb+T+EhL0Z2O7qByigXmODcTGM7Y6B2MmYih6T//lNOV0ZINl2K8xnPprW+fCWYkEGufLji5/cyJLO+FwRFBFKZXFkF5AqhFmwoNILmN6L5i/XYex3flyCCPdjkcRJlqY2+wDcec4JbaIRGIj9iLBxkL3StSTcHOEV8i5+8IJwQGADAsvF2nlWOUoxzKMZewKhSMVbOSUIALVuReBwGxjpMlvINBGmFQQMBMlctN0MkHssrHPaGeEC4tqA/kNBKYSjD35aMIfOQs4IZo0BitDmHLLOZHV+0HQxzhnhFD6bTgmAuOEQeSXE1FU2jOe8YykatZ1Conik1JiGTskDUGTJoMMI69CdxFYKSLSy/Q9UTIrrbRSyqmlAksRQSYpmxybhApjg5BjK3QYLzi57FOoNDXTHGxeJRZwRjp/JFKRQVE6CDyhIQsTveB3RBAEmGqL4A4aG+yTcxPRF5Uk6oga7PeK7iHfhBbE2DVSdH1GlCmPV86bUxZZ5UBwH6T9uA7iDYcs5wG7g5NBqp76FuyIHKpdhjGOk4GTgPIrHQiB5kgIBIYdQX4DgSGCCYU314QzmVBn0QSIr7AwUQeZ6Ab5DYwjqCMMMkazaJemTZg8o1paSl0wZkX4MCIZ9oMM4kBg1DCI/CKR6qRQfpHOOpFN+tHOO++cFEZNqC7yu8022yQi51/pJsKpEUHkFxkW6oygyhW2NKTtkDprxEtpEcKs6JQUEhWnEWTpcpRdqwxQVIUsm5Mpq0KfkU2EWR9HkG2nBoW1ec2xopcQVoSSciqlRkSQ+ZxTjVrtnBzX2FInXBmo0jmaERFGdp2f80WEEX3Xh7gj5KKdEG7OBc442wk1R/LZF1WKu22Rf2lClGGh0epSdAOxNr66ZmSeGq6mAbW9rjMjEJgtBPkNBIYIPLBCh0woDGhhVnUb76xJyiSNAPP0ZgT57Q/3x/0Woly+b4F2g4qjwGFe8qtJYxzKM1fAsC4YhN4jRiBVpa5SHAiMEgaRXw4iCu3yyy+fihKKUOqngCJTwpqRVuG6cn8zeeXoPf/88xOZVpCQ8omUcv6KoEI2EWdKKUeYMGEkkboprQhBpH5SgeXarrbaainnlWpMZZUHS11WgBC5FkK95557JgVVbrDjCiOW8+qcbKd6tN86L8QZMRUForaDsUXqjvNBthF6RRyprkKqzdNIJVvAfUR2EVcpcdKBhIwLN+ZAkFYhNFtotHNwXKRdxWpqrAKo7oX7gKxvvvnm6XNj0yA7wNjJEYAA274fQadKV6nDgcCwIshvIDAkYCjzVvMGU52EWzVpQqQZFFV5jUF+J8J9kFvFwGBAUCAYROVc/EC7wRnEUJ0MGNwUHBXC6yArvtQhRm8Q38C4YhD5BSG4u+22WwphlrNKJa0iWMZpObqIHeLLGZWLfaoWTd1FDpFC+5RPaxxH3BBQ5Bhxtra74yG4xnvz7GmnnZb6bAZ11udyYDPBpAgj1CKy9HHn6FjCip2zedVx7VMotWNuuOGGKQzY2EPhRUgRb2TZOSCnCDUySrWmSG+00UaJWNtemoZzQ5CRcBEkrgN5RpwRWfVbEHxzOtKMPNuGQ2C99dYrXvjCF6bw5uc973mJkHMM+P/WW2+dnLyD4PrdY6HpVGDX2wtBfgNtw9iQX4MWdWxQOIbtKD/RRq8NO+mTn0i1NeEpktO0mVRV+64yIIL8ToTJnUHEY84AM8kzDHrdH3lfiokoNhVtYisXARwWzBT5tS1lxpJcDFX9DcwnC9sCgbahDvk1XoisoKwuu+yyiWQKt9WPECnN34hazvVdYYUVEvnjoDSfIalCjoXzlkOnzffUTvMptXbTTTdNCq3iTkindAYKLEJINc2Vo/3Ofqm/zsVc6vgKQdm+jmNUnzXumFeQWVFciDP1Oduf5hj/p0rbvxBly90JoaYQC62mSlONqa6UauHNrsE+qeVUZuRfy+HflF7nahuhze7ZIossMr8tuuiiSbF2nXWg4BUSbQzNK55UIchvoG0YefLL+87IVbiEIjbIG8/zx+BR0TXaaDXhQ8OsxphYTTC82JMB1Vh1yCoHT5DfiTAu8KTLBVtsscXSJM8Y6wXeeCS5bExE+0vrXkJkGDAT5Nd2DD/VZKlKxhh9zPslLJEB37RRWVTnN2YN2z0NBAahDvkF5I9yq7iSPF7r+FIZzWUaFVPYrdxgBFn/0j9Av1CsCulbddVVE0nU56ogD1Uag30rlIUYUmjtnwqL2CLjiCu11/J11GPn5zMkENE2ntSdP+1PiPW2226blFd5vuzLKuJpW6HPiDylV47woOO4fvO6+yFEWu6wKtDuu7Bt1+i+mrPcW2P00572tETK69pBwrUVCzOGsqF6IchvoG0YWfJrYDCgqEYnFHT99ddPg9AgyI8wyHYbdtHa33iWFX8YVgT5nXnIoaKWMzrkhjIieiGTXwYEY4xSHO0Z8/vXuJJfqhGnCZVGP/M7xivViWLj8yZNzr9wQ0a/97KuShOYOniGw9ragLrkF4QQc0LKfzWecESWm8+EEFN881KOGQo2UXERNMRZEahBxA6Jo376DcenZXqEHts/sqsPI8ucocYPdqRCVVRXCnM5TLoO7NP4QJ1VoEp4sj7d/SzNyyolI60KSHF+lSM//G0bv6VII/ruM9Js7hdSTT0W5mwuQ+yNJb7bcsstk+qrUY2Faw+CeyvcG3GmSLsnvRDkN9A2jCz5lSPCe4fIMlQZEnL6BiHI7+i2IL9BfsswufOWy68W4qZCKEOsFzL5ZTyobMlYGvcmz1z1UP1rHMkvA5RBLESRYgTUHUqSzxmqjPEmDXFGHBjKQX5nHp67ccBzHLZWtf75MKIJ+XW/vffmveuvvz7l3FInKa/+Rqw8D9tUjS/uiTxfa9PKdaWc9oP5T0E6OcRyZKW+II5LLLFEIrz+FqqsSrSxI0dffPOb30wkUGpDkznUb/VhxNYSRcKVOcWk0HQDwUWukXOhy2p5uG5jiyJYcorNUypLC81ebrnlUqqOivTCpS3H5j1B2BFkhcTMV5wIeTkiTgIK+iA4tus3vlvSqd81B/kNtA0jS351fIOV4ggMM7kiOuggZPL7vFVeUmx2yMeL7Y+/NVrL26ovfWXxtMUWD/Ib5Hc+GBmqfFoPUe4V44SCV/a0dyOT3z322CORG0VUxr0ZY3Ne2biRX0YmA9m7gATbntEv/55zJOcRNgFFRv4fMm2plCC/Mw/PjeMBERqmxoZRIKkNaEJ+M4y95inzIKVV83eOpugFv1NzAFFmu8nvFabcD9RY4shRRx2V+pl5EdkWQi1nH/m2lBJCTP00dzoffVNBKuNeUyCx9qGKsrBkx7r44osn2CTIvIJW1GhKrirSSD1F2Dkiogi4dYWl89meIm4eY/e6V+6J9YQpvpRbv5XbbH1jRJgyrEBXLyDgrtPYLkdayHY/BPkNtA0jnfOr4AHvO08ejxc1eBAy+V129c2LbV77uWLX0++O1vK2xhZHFE97+niTX57g++67L8jvPFgKSn6UCbvqfvmM918eZ26MFcaQFAohZSeddNJYNsqDXDYqAwfCOJJfxrO5RX/LYwriKoReCOdkxhm/R3oZtt5Lhm2Q35kHIqFokHd6mJqQVWG6bcBkyO/CAOlTcdn6tionWwpJX0I4q2AOtL01foUkc14hg1RUKjLyJzyaQot4GvONI8Z92yDOnF9NYUwxF1OTRc7su+++aR1d50AVVrBK+DfRRqEuSrOCVqphG2uNCY7LVhC5VDXeGi+owEiz+Ypy63zlBmdBCCFWXRqZZxfn/Rh3REK5j6IlhYYLnXa8fgjyG2gbRpb8yk/gYUMmhJsYaLJXTFiZQaSqGYSWXnrp4nkrb1JsevBHiu2OuznasLfXfb7Y6Y3frCS+2riTX15gk+1xxx03IY9oHJHXdWQMVBkPwDjiHVdIRZiYJqyOASpHjINMMZFxbAxBxWXGlfzqp4xmuXaUHNvps0ivZY4mYxQzQP2ew0XVWvs0HwX5nXlk8itdiuO87ACbjUbFPPbYY4P8DgACq08ifcKCN9tss1Q1Gdmsgu05mlSSFh6MvHHqUdc5itmL7EhLJlmmSKiwXPysyAo1ttyQonaDYKURzi1FV90XUUQKbal0jdw6V3ON58xupTTb3nztGlSlNua6r/3gWpF352ieMi5bBeIb3/hGmvdFNbhWBNj7LRRaGDbSbZyk8nIemOtWX331ZA9zBAwa14P8BtqGkSS/jFqGmQHMYMD7l3P5/G1i422raga1VMzmmc8pll5hw2KZVedGG/K23FrbFnMP+lCxy2nfCfLbRX79jfhaPokDqJchMC6wHqK1EU3o/RRw3yF6DE5rNjKIqAnj3ObMmZPWiXRf1E8YR/Jr/KAGyU3Mxp6wSRFDqskirE0hl49ifM0118zv+44d5Hd2kMkvdYwaVxXuP5PNeIV4BfntD32G44nqSdVEMIX96leIbjdsj1yee+65KcTXUnaEEQVSpbYgtexF/Rr5VFlaeDUiKcSaQosYc5AIJzYm2J95nOAiVFi1ZO+Qas+2U8hK5IzCdkgtImoclXdsH86XSmtMQb7BmGNfiLE0C3NYN1yL45rnEWnrISvMKFTecygXCkOAqd6qbAuHLhcW844h5BwCwqbrVJ2GIL+BtmHkyC+SK7RT564qXsOQkLeXQomesVixyOLRWts8v6ctWjx9iWcXG+95XrHLm+4M8ttFfhXV4L01MQ/ztc8E3AvhzlS2QYSiTH7lfDGoqHrj3KgelIJxJL/+ZkDqY4p8UXwBQWUcK0TDodIUViNQrZahWe73jhfkd/rg/nqG7nt3UwxJZV5OcAoixW2m2/nnnz8/tQDZouaNC/k19irwpDUdT/yWWnvaaaclMQOR1X+RszIBzEAw3V/kl8quryG4yKoxzjsixUEOeA6HdgzCCjWYyixvmHOU2sppoio0tVV+rn34HeeWcGJhx8YU+zHf5ygsx3XPvH9SS5BPDrV8PITVeXK8CYEWueRzsA+Cj++QceSV6ovQOjfpf91w3cYXjhXvGTLOweKYt9xySyLvTWoWBPkNtA0jRX6pWgYlBpkBqwoLkN/91ikWOX6TYpETXxKtje2Q9YtFXrhUkN95KJNfE6NJ3GSmIE+VI2icYDxAhNyTbvWb8cAY8HluDC+VNBmcvPeMDb8fx8boYoQr5MT4HjfyKyRQKDJFhhOJEe07/VT/QnwpJE3B2BXmXPV7+w/yO33Q53/6058mktvdqGGUM33fGCAMdKYbVZHTbVzIr7DgH/zgB6k/KOiE4AkrppL6THREVkIHwXbIm3xa6i81lOqquGEVAWYTcHiosJzDnSnuqiT73NwpagqpVaAKifU8kGsVlx2HMoywIqBU4Z133jlFDBk7KMueoeMMGh/1dbnGxlppSpRexzN/ZfvW9SC1iDKbgVPXMRFv76/iaKIWhFP/9V//dbq3/ZALcTk/22ZC3gRBfgNtw8iQXx2Y8UXZYTT0wgLk913bFYvcvF+xyK0HRGtj+8jOxSJzlg3yOw+Z/Jq8eHsV/DBBDvM1zwRUwUSC3Nuq8Ddec/dJGFhuDDAhvsYJysGhhx5aHHbYYWPZVC5mDI4j+ZV7J/ebKuL6VZ4FBieDWOiiUMemQKopLvrr448/Pu/TvyDI7/SCc9Az8N4ilfLYkZXZboorqTmiSJEQ2VEnv95z6qbcW0sPIf45V9X1InE+U/hJf8n58IOgGJRQYkUKOS85Eqi3woe7CbD9cYpmVVXoNMeI7YUhI6/UWM9HTqzwY/vTKMQIJ9XYWGHupjyzQznGOMxEzGgUfXn9qjSbc7JyWwW2gAJciuo5nuWbjLXmcmvRG48U3zLnI76KY1Ga58yZk9b5lbOLJE8mGmUyCPIbaBtaTX6zh8rgZUCgzjBE+g2OQX5HqAX5XQAmQiSO1xvxFZ45meI7owQGhlAzBmQv9dv9YlylMSHahIb4u39tJL+KxwhJZIw2bUIChXsjRsICs/L0q1/9qrj00ktT/6pT7KYbQp2F0SO+vRRj9zHI7/ShTH6FN5933nkpPWS2G6cbZ8u4kF/kTN+iUhpHhA5TUHNleX/7zDPSDxFZubl1wFFFqZW/K7pCTq17qsq/udY7YE5gM5ojEE1Fp5BGRFVRu2233TZVPKaqIsZqH8jhlXfrPDwf+/TsqpRpiq1tEGGh2PbpPCw7hPAbP5HlXn2cLWCcQXD91rjhvdWcj8KL8nrdK7m+ilRx2iL91rAnCs0EgvwG2obWkl/GAePEACSHT9U93vhBnT3I7wi1IL8LAPllxDHMecnHfTLiHLv33ntT6Fe/sO9MfhX8YDwIWYu2c8odY3C3mfyKgGB0Umgn0z784Q+n5UCyYWuuYbQyZpHgpqAwMWAZi9SfXgjyO70ok1/qIieJ93m2m9BcobLjQH5F5OgLSO3yyy+flF8kVSQE4qr522dUTeOM6/f/qvDlbuhD5lThw0KoOYbz8kGOaz/OkaoqvNp2Qpkt8SPiRbi1uUNYs9xhczMl17bEFrB/qRCWBqLo9oM5SNiy/QpnttavfxFndQOMpcYX4c3lcdQ8pgCWqt/CnY29HAbO1zjt/gnVp0y7j5rxyfq/M4Ugv4G2obXk1+DHK2cQYKDIF8khaf0Q5HeE2giSX2FZlmu46667GjfhUYwE1S3HPdSZE4zCxtDIOZq9kMmvcEP/MoSj3V7stddeqWJom8nvVIEBioxyLDFChV82BYWJEsUIH/T7IL9TC/eTAyMXUjLWGjMz+TXuihybrUZ5HDfySz1VUEyILrJp/OgFTiPqq22NS/Jiq+A5swP1L/1NKLI5wH0TxqxIlVBm/6c277fffinNRdE5KRIEFWRXqHPOlfUZ0mw/SB7SKbIKSQWrKVCNjZN15137Rmg5qam6jmn+pgibvxVsdQ+9pzk82nWpDq2YltBmxbao1HKTOW2p1oi7/OY6qRjGNGlAzt9cKa/a8kruXdMxJ8hvoG1oLfk1OChGIT9EaIwKz0F+x6yNGPnlCWcwmASFODVtCnKYxCdjmI8S9PFsfKlYOYiQlckvI4zBGe3bqQBMkN+njEQRRq4/v1NNkIkzRy01uc4YFOR3aiEHlHHP8aBR/Sj63lshtcKNy9WWZ7pRGBHgcSG/+gSiJ6RYWgKH7yBIRZDTapymtnJmIJEUTuHTyKRIHwRRdWVRUIgqVdaausghpVQlbUSYPYDYlu1GfzsOYnzPPfekYzhXSrE5gkJL/TXfElxA/6ToUo31b9s3AUetaC8EUki1NXgV0EJsEWHnQQFHUr275ihjM8fB85///FSB3zV6Z5ZYYokUGs4G6DUWOz9jmHlPP5CP7HgcAd4545xxXWRK3bEnyG+gbWgt+WVIqMgoVFHOg4msKn/KYJaLEGg8YryHifyevlmxyMd3LRb5xO7Rhrl97uVjQX4DCw+GBENIYRHPug4ZC/Jb3YL8PvU+CW9mJCpwU8fBWgbVxvwjtNE7WZc4u4/e47XWWivI7xTAWCB0Nc37nYZIDkPL54MIirYYF/JLNUW4jC/SEurUpkB0qZyW8OGsEGZ82223JbIn5xUBnDt3blrjNyu6itJRmD1/hfscU84vRRjpE0aMMJf7GDVU8StqLAcUsihaQP/nmH7/+9+fwqjZnHk8oNA6lrzb/JvJQni06xJebekipNpxLcck2lGurwKE3pm11147pafI811llVVSpecddtghpQGq4Nx9Hv6PGCOr9uX+s4cJScZ1cyBnECWZU4YizHE0CEF+A21Da8mv/BAer0033TTlbAiLqSo4YJAzKKrSpwl5MXimSWfV5xSLrLdMIlDRhrids1WxyC37B/kN9IWJHVG54YYbUu5UXQT5rW7jTn4RV4YsI56x3RSZ+DJSFc6qY0Rm2Nb9ZKAOqmMRGIxMfhFIxJLtMNuN017/GkfyS61FLoWcSwWoC4qtyD1jTv5XjqulodiEiCk1lypL6FCQTtSGwlPUU9FRQp/dV2HvyK8wYduLvEJmEXP9ft111035/Tm/mDPKMxGmrBkXqbIZlFLzyDHHHJPI8FSMhUi3kHwEmMpL+TYuS29SCIxTzb9IsHvhWqxO4DPLNHEq5LBp5+O+U7Hti0qMOKtYzYYmKFG0FVwzF/re/TYODSLzQX4DbUNrya9BSKjMIE8648wks2hngnlGpy0RrRVt8U7zzJKT4g0vDfIb6Is8sQsdFILWBEF+q9s4k1/XgbjK7bOsSFMwFhnQ1BPKVBNQoeQ0WqJpJovWjDIy+aWQyR3tftdnoxmrRK+NI/lFlKizIvcosoPIFeiTyCul0r1AeJE9pFdF56233jqpvsKb5cS6h8YmjgZLSFFliSX+Twih3lKCLaXEySRUmk0p7JkafOGFF6b9mU+QUKQYsfYb84Xfq9zMUaXP+t4YaB6xD/93Xc57MuOi37hPwqzl+Qqp9j6YoxBT12gsVvHZvbCmMVIsWkQTUo7UGsech/NUYd71uzdIsrmvG/qKnGfqr+Mg+v2K80GQ30Db0FryyxteZ8DM5Pf5nQnmXZ12TbRWtE932tqdFuQ3UAdC1YS3CfdqamgE+a1u40x+KUWK0ci7y8pJE0ixYTwrktPk9+Y19SyoYhSrUbmfs40gvzOLQeQXWTTWisI77rjjakXqCAdGYN0vYxASJwRYrq9+Y5+aCEBEjzAiFU5UIAKLuLq/nFn2gwAjdqouI8WUZGv2Uk3l2iseZfyjTiOaSLVcYMfNYcIIoufk+VnrV4QHUk89tc6wY4tGMj81HUeEJ9u399Wav8K+P/OZzySnmHxmhV6dh0rP7iP1V86wMcu1OX9jc75H5jlKLkKLTCO0vcYXCjjijEBzHKgl0g9BfgNtQ2vJb11k8rtaZ8C8r9P+O1or2r922uadFuQ3MAiMHctQCHdumpMJTcivMDgF9nj8eferthmVNq7kl8HqWilBFJ+m+OlPf5rULHnC1J+6YLAjQEIPFbep49wN1EOQ35nFIPIL+pcwXkSTk2gQjL2rrbZasueQTMQVEVX9WaXmbhiL9CGks0yKhTfLv0dSVW8XoizSgn2gMJb+631BPo1pVFURHAioytzUU6HNngXyiRwinUi8ucHzc46II0Kac3H9Xyi1vGR5uRxc5pvXv/71Ka0C2USgKbwKayGocpydq3NCfKnOljRUIM0+5AI7hrnPuyNX2fkKZ3Zu3iNKuWN5n5yLpZHkJw8aXzxDSjt1Xk61+9YLQX4DbcPYkN/VOxPMDzqtM9NEa0FDgLfstCC/gX4wgVN8Tf791vLthybkl+GT11pklFZtMyptHMmvteKtkSlfbjLvk3eJ4stQbVIVmnHOeGXQC5eejNoc6I1B5FcRJGqZ/FMktPv7hWn6iOrEwt/Ln487+eXgEbKMXCGdQo57ETIRPUKQFWOiZFpnV06v/iLnl5Irl7Wu81M6AQUYWaUII8bqw7ARhFLr+8Yy/ZLC6jPPkTOLQ8w4oSAVRZhabBuRGnKMhRkjykg9wm6tcU0otWeuGrX5SmSJc7Z0mucvvBmJFsKN5HMMUHWp0ggtok+dZs9mZRqZdv2KYVkzWHNPhD/7vTnNPfM+edf87f0S2TIIrl34s2Na6olTsBeC/Abahg7TGG0E+W1nC/IbqAMFR2655Za+IVyDUIf8MlooeTzuN954YypCYmyp2rYtjYrBIO91HeNGfoUGUpQsLzKZ5cK8i+4n47bJOMNgZwxbgoXCE4rv1GMQ+RWiahkchI2K2P39wjT9LIeiUvHy5+NOfpErpJa66XqFChtX3H/EVvO3atDCjZHkbbbZJt03Cq5QZySYKqmA04YbbpgicpDPQdDHEFiE0312LP2QI9V4pyFzxjOk9vDDD0/qr+3AsYVSmy+QUEWjysqoEGXkmEKMNDqe63UM23GMqcaMhCOiSDNngDkGsVWJ2rO3PJd3hsprX9RyDgNr/Do28qvoFQLtX++4e4gMe89zHjQbWPi28RwxrutcM55RrBHyfrU0gvwG2oYO0xhtBPltZwvyGxgEhoolIeRXLgxhqEN+FT4ShibXahTCnSkTDG6qRS+la5zIr2qvnjGFro4q0g2qkd9zjDBq64IxzKGi0qp9BPGdHlSRX++ufoA06NNCTTkuLCNT7gcL25C1q666KoW1Invlz8eZ/IJKyhRfa9a6ZmOLnFtKsOZvn1Es5bpyJMifzUAo9V2pAuy8TArvvvvueVv0ht/Kr1coyrJI9qs/+i2CqKAV4osoejZCjpFTxBaQ2BwxoMCUcOUyOLKEZFOFB40pFGXvhqWNshOMGi0XGrlHhr2XyK9QZOOv83nrW9+aiLPc5ryUp99Smr///e+n98d7L9TZWO4dch/rRKUYy/UN6ra5ABHvhSC/gbahwzRGG0F+29mC/C4IRrHJxWT7hS98YVLN5Or626zOZZjcqQKMLF74hUEd8ougMEAQHEZr1TZtaox9YXfyzRjXVduMC/mlHgl1RnwZkk0hnJGh7x1pQpwZ30iR+8qwZOwGpgdV5Fc/Fp4uPJTi36sfTLYhakitPEwEr9vJFOT3KSDA3/nOdxLR4mAU8uv6NUWmEGMhykhpVd6pfmPsQWIpofYhTFcEhz7WDwivZ0PZNQYYv6jK1hCWJ0u9RSzlBTs/RNS5ZlBuEVJ5t6onlwmgeckYa24xV/U6F9ePVCOlrpMC7LeiTyjTSLjQbI4ZId/OQd4vBfjRRx+dt5cF4TqMa9YipparCO1dy2Ha3rVBMBbKKVYgy7vYj9wG+Q20DR2mMdoI8tvOFuR3QZiAFedgoDMCmjREx/qHDAJGdtvVJcYBg1A4GUNlYdGP/ApvZjSb3IVXU4rK37etMaJU7qR0+Nv1VW2njQP5Feqs2A7iqiprU1CdKIbuY5PfU5iuvfbadE9D8Z1+VJFfShriowIuojTVTi1jBeJrTDF2dH8f5PcvoK5SWSmxxlo595r5zmeIYL9QXfOASCAEmBKLzMrTVXjOfvv1Lw4rzg9qL5IKyCfnhc8QTXn4HK7HHXdcelbmYzDeWf9XWLtiUpyjZThvebzGW2S0DL91bOTZ3Czf3P+dK1LumVuT2NhijLAPxNdc7nP5xFXjLaIujUIVa9WoqeZCn4VCcwwgwkKo+znqjE+UbDnHrktYdb/7H+Q30DZ0mMZoI8hvO1uQ36dgchPOpDCGCdpEy4NctyncoQ/IV+JFRobr5vsMIzw/RiPCOplKvFXoR34pc0LROB6m2jiejcYgF1bHwEZ+q7bJbdTJL0eQfsVwm4ziK6yQWkSRabIeL0Md2WaYu2dBfJvB/eJoQCjrtlwpV96j0FjhohQ1REaeqJDkqWoIGyXPe8UxYtxGqrr7V5DfqQXCJi8VQUUmjVFycZFGTirfV8H7JFzYHGkeyGoqAsw54r2RliAEmZMEceS4Mr/m7R566KE0dyhO1V2p3RhpDPUeZILoe3O56s7CmIVG53QJSrY8X+RdVWb7cy+pvrbnxPHudq+9a5/GE++gd0gusndG1Wdzv+/8XuVp6roUHs6/7jEbKXad8ozNie6J1RT6IchvoG3oMI3RRpDfdrYgv3/xKvPAmrT6eWqrIDfJEg5+azITntlm8isvijHoOiZb2bkK/cgv44cR5f5NdS7gTDdFfeSkCsVj6A0i86NMfhnn+gWS0m1E1gEVh8qj+ncTxZfBzHCmpCDPEercHMiGaJbNN9+8dkN4Vcv1PiOcwmmpwEKep7rpW4gKgt0vUiTI79QDwTU/UH49A2OWMV0FZEouVbQK+iWCTC01ttnOWJb7q/lB8SfzKSVYVWVqbIa5yVio6rTnXg7P9h1VF2H13tongs355dwQ3ezIRWClNu2zzz5pfOGU41xju9jePaXg+izDbyjMCKjc5/yuP/OZz0why8Kj3RPXg+zaBiFGgq1cIPKFumyfxkPnbx/eTY5f7+SgCKsgv4G2ocM0RhtBftvZgvw+Fd6L+FKX6lSwLMPka8LjUUbgTOYm67aSX+fseigok6nE2w91cn7b3hhdDDAqSJUKVdVGkfw6PyqPPkWVe/LJJ+d9Ux+5KjSDT0hlXSC6DFvPgFJUVocC9YE8COv0zjHuu8nnbDS5ps7FOQlzRbys3YpQdPer3IL8Tg8QNZXXjV+egXcF8XQ/OTERyqq+x1nsmbj/Qooz4fOvscI46Joo+wgkElwmfIpIIazChBViLCvNjz/+eCLMiKUxwPMWbo9s5uPkOc552zennOJV3iUOFefu3bL8kLBoY5l5ntrt/aBQ77TTTsnZI7RZuDMlukxe9R0RL/ajgrZICO+gStvWH3bu3mPkWc6zCBU5yYMQ5DfQNnSYxmgjyG8727iTX6HOcp6QVyS4CXiRTYhCdYX7UUpMxG0mvwiqCRZZKRMs12JCX5iGtDEckF/rPjI2R6GVlWoK1BlnnJEMOIZZ/rxfGzXy611BfBmw8p6bVGXOoNhQbSm+TUKdvWfIDaMTMQjiO3m4lwgNMshI7w47no0mhJSdoR/I/xRqLdKiu0+VW5Df6QNHk7kOGfR87rrrrkQaje/mRcscVUVdILAczgikXOO8jfnTmGEszMsKUYkpprkv+1d01o477phChs235WN4Z6mw2267bXKyekfyXGyOVsNCCDSyK5pEdJP3wv8VqxR6jcQjyPqAPGTk1PeqSiPXQqWFNBuTvY/yg7sjxpwnpx3FmdN3m222SVW15fe6boW3kG2hzr1CxbsR5DfQNnSYxmgjyG8727iSX+SBx5eyhPg2DckUYsXrzfAQ4mqShLaSXxO1XCtKXTfx9R0jBplbmOY+M0iWWmqpZLRceOGFI9GE61F8s7HtfaBg1A3fHiXyqx8grkKdGb9N88X1Gb9nTAobr0uc3Q99Un61Yjz2wdAN1IN7hUCUG4XOu40MrrPOOukdn+mWHUy5r3i+ziWT3/J3vVqQ3+mF+cH4hIzqt1RUDuW8RBAHcfc4oL8inZxUlE/pDXkO9d6ZhxBoirJQatWQpSZl2Nb7YYy0D4qvscP863MFtKxH7N7ksdI7zsEt99x6uvZHqRWxZXtKs/fCsRTHMvYgwCpDK97mPKjCtkVgkV9VnYVHizDpBcenHCO5VoNwDHMDmyNfc10E+Q20DR2mMdoI8tvONq7kV0gWMqYQjwnRxFi3MbLlJMlN4hHOoU7QRvLrPN0PuU5UNsZMGa6PEZPekWgTGmOJutBtdNdto0J+M/FlsHIqSQFgyNZtDGSRGCr3Unp8Vgfuhd9SkBCaOuGDgb/A/RPxwSAvN0STiocMrrzyymm8m+nGiYII5b4S5HdBDAP5zZDry6nJ6UUtdT9VS2YPUOe7+6V5RmoN0uxZSjnKc4/+bG5GoKm0CKflhMoKqfHG5wpOCYP2e2OA48nl1YxFSKz9muOoyVtssUUi6NnRRs019yGnCK5Kz95/ZBgB32+//dLfrmfnnXdOTaVr4zMF13JNMzXXB/kNtA0dpjHaCPLbzjaO5JexR7FDLBhTDO4mzcRosi5XosxoG/llFFB6GSy9lqook1/FPUz6yy+//Ni3ZzzjGemeBPl9CpYlkWfLOHS+TZvoAP1KOGQ5jLEf3Ad5efKrVZxFmIfx3gwzOPQoYWkOGLKmXwi5zn0lyO+CGCbyC5xWCHCOppL+gIBaQ1j4byaiGdnxYk1cFf/LBRaFRtuPkGoRQ4pCUZHL8H/PSg6tkHgKLecZJRZRRF6NJ0KS/avAlLHGcY0ViK5iVPJzfS9cWsVm6jBSTvV1DXLKt9566xRGLYfY8di7bIBexb2mA0F+A21Dh2mMNgwoQX7b18aR/Jr0KAomScZQ02ZSpEZUGehtIL+ZHPjXczKB84T3Ig1l8stg5OFnhI57s6bjYostFuR3HhiiQgEt8dS0MVz1R6pME+hv7o/8ubpKcWBBlMkvh47qzMPQFAQK8tsfw0Z+AUHLBBhRQw4VtkJekcoqJ6ulhpBLIcvledVvKcAKnQljRk7LkVbGQeoy9de7++Y3vzk5qMGx5e96t0URUGmFLYPjO0+fmaspwMKvFadSlEoVayHPyLi6A0izc5eDbIzzDhqb8zrEM4Ugv4G2ocM0RhtBftvZxpX8IqhyfkyCTRtj3YRYRUCGnfwyHLI6JgyNYShsqx+ZKpNfi/f7TbeBOY5N3pdKn0F+n8L999+fwgGr+sygpq/I22Mg1wUjWYExxm3ZIA40Q5n8UsHkQHJwzWZTqVcl3iC//TGM5Fd/RmZFgDg3kRn6qogpY537TmktQ/9HLhWSMo6UgYByNiO4q6++eiLDZcgzZnv6/vWvf/0C+bdCmRFmzxMRzuONEOm11lorFaq0f+q0aB5VmynQSLcUIMdCfIVLq+Ng6SKh1px0amTM9Dgc5DfQNnSYxmgjyG8727iSX2t/Nl3WKINR1lbyK1cZeWeU+FuY2qCiG0F+q1uQ3wXhfaLeTAauR+59XfIrJxCBkaM3mWWUAn9Bmfx6lwdVT56JhuRKTQny2x/DSH7BPIgsyrsVZaW/IsAKW6mGr+oxIleG0GREFQlWkTnD2KCPU5KtFICMUlyRWLm6xmGh0Rxvnpvc4Kwuc6QgqlRjebsgnFoer+duzWHn450SeYKUO3e2gXfFfhXec662cW5IsnfKdjONIL+BtqHDNEYbQX7b2YL8Nkebya/zXn/99dPC+/KXqpaRESJmqYdjjjkmNWqQUDDvyEorrZRCTBUJGccmNC4b3EF+F8RMkV9GtEJzOexwGO9Fm9BNfqnp3e/oTLcgv/UwrOQXqKeqPlNzEWCFIjlazbvCoDfbbLP0DBFjfRhZNYZQVqm5ZaeW7+QQu1bjokJY1Fphy5YnohYjqsi2cdpySZ67+Uver+fuO8dWjG/jjTdO+bxyia3VK/f3Rz/6UTo/KUDGFuftPTG2b7/99mmJI6Tdkk6ipmZj3AnyG2gbOkxjtBHkt50tyG9ztJn8Xn755ckQZOAhwDzZ3R7sAw44IHm3edlzk3/nHUH2LFU0rk1oHQOcsRzkd0HMBPn1rgqplCNse0ZxoD7cL6RCUR/5kRrla80110zvlnda4TCEYTaagmmiUYL81sMwk19gByCi1rlVVFEUkXcQgeNkQVSNe5RexNP3FFqfCT8upzOYT83Z8m7NSXPnzk05wsKqbYcw+53315iK2J5wwglJzUWOVY2mLAt39r5bd1dDwhXMsw9jmNBpyxdRjUVB+I3/G+edLxI+W+NOkN9A29BhGqONIL/tbEF+m2MQ+UVOhpH8MhJ4rVVsXnvttZO3m/HQfZ5Cm20jvIzSyZgY5+YeMJD0EU6AIL/VmG7yK1wR8b344otT+OQw3oNhh76OMJmrc9VybfHFF0/vlkJT1i6draYq8Gc/+9kZI7/6M0KDQOp3xx13XJDfKYQ+KpyZ0xX5lLuL5PrcPGytfGTTGEvB1ceRO+HMnBLIZ4YIBfm8VF9Fp57znOckAp2dt+6FMZRii9QKdXY8v1NlmgrtPeDEFM0kLJuS6/45R++JY1J4vTdylEVAqe4sX3i77bYrvvOd78zquBPkN9A2dJjGaCPIbztbkN/m6EV+/d9agpQU1SOHTZWyZANjAAFmNDhHoWjdyOSXISA8TTXocW7uwYknnpj6SJDf3phO8kuVoQTJ+xOWGIrv5IAIuH+qlCO8wjkRztlulDh9gFqnCNFMkV/7R/5VbkeWkKogv1MLfftXv/pVKh6FAFvyKDtc/YvQUnNFHFmv1xzqukQlcNAqWqX/qyb/ute9LtkXirIZKxTVUrAxh1S7Fz73TgnlP+WUU5Kq7D0QWYAwr7rqqmlf5nHOTeOp/R1xxBEp8oBKrDm+z5yTUGxOt3Il6tlAkN9A29BhGqONIL/tbEF+m6OK/Ppb/qHcJpNlzmMaJpg0GRXlpSYYH7zt5SZ3CslTTOjGG29M3vdxbIxk3n9/v+1tb0t9JMhvb0wX+fVOUgM//vGPh+K7kCiTX0SAoqWgz2w367PqS7NBfp///OenpXRyW2+99dIY2AYsDPn9/e9/n5x7FNHphj5rvhX6TLkVwVF2YPlO/7ZskZQG87MxT9iyQlQcX4ivOckSRMiwiuDeDbm8d955Z7qec889N4U1U2u9PxRex0OEVXJGsjl8vAeieYwrwrJtrxCkNYeRZQ5izl/5wcZg+0HgZxtBfgNtQ4dpjDaC/LazBfltjirya21BEzuvNs91WyB/iXe83KgfjGNhz6pidocBj0tzLxgbQX7rYTrILyP3iiuuSE4lRmkQ34VDmfwKMzaOdb+Ps9GQD+u0zjT5FeGCHFn/NTeE8Atf+MK8OzbcWBjyy1krx5naORNAdp944om0bBCVl2O13J85uXyG5CK8yK1IJY4RSi7ia+wDvzOPC1FWsMozNEYr4khdzsUaKcOcPAo1nnPOOcnx636xVY013gfbK371yCOPpHui4GMmviJN5PxSl4cBQX4DbUOHaYw2gvy2swX5bY4y+dWsT8p7LKxL7lCboMJlevbRJjTknwEU5Lceppr8CjGkECFBDz/8cIQ6TwGC/C5IfhEjKl9bsTDkV3SSeVAI8ExBHzbvUmDl+RpbvZMZQpeNdcY9JBiBpdRuueWW6X3oHvc4xIw5CLDwdWSYo0wet7oWljnyvljhwFhi7r/hhhvSu0YJRqqRcaQ85wUrbmUu5whhyyDg3XUxZgtBfgNtQ4dpjDaC/LazBfltjkx+TeQMdjmhPMTCrtqGTH4Zw4xByxiNe9tggw1SPmSQ32aYSvLLMFf11/rSFJlhvN42og75FQrqHWT8d383FU1lXeQz9yNtKsivPoLYqPpLvc2fB/mthnlQGkFWU2cK5k0KK8WZquv5iPAow2fGYmOeZYmENguJti5vGcYFecGI73LLLZfyehFm23uXjEdCnlWbNk4rWEV1VuXbvr13orbcC8unsV0ov2piWAlB9M8wObSD/Abahg7TGG0E+W1nC/LbHJn8Unx5inmGTeZtRCa/wv+QDdWfGZTj3BhTltII8tsMU0V+Kb6WO7EcD8M0FN+pwyDy6z0zviElwkTL301V06dU+GXI58+mgvwiTPoOUovklj/P5Fd/QupF6jjWOJNfOaxUz5kKey5DnxaCrJCg6sxydnPxRXOpd+Twww9P6SfGRUSY+mts9ruMv//7v0/vDttTuo7CacZlawBTcL071GDvSV65QEVzijCijBRbmpBDxH7e9a53pZUavHvyfP09TAjyG2gbOkxjtBHkt50tyG9zMA4txYD0UnyHoRDGZFEmv1/60pdSP85G47i2N7zhDYkYBPlthqkgv5tvvnlaX5PhKXd+GK+zzehHfr3nt912W3LoKTpkfMvfTWWj5nNyKHSVP1tY8kupkyMqtNXnyG3+TZn8Oq68UDmi+tg4k1/rPbvXxrjZgL6NyCGpnsldd92VViCg3MuztTwSIixSwPdClxWzEtb8H//xHynSijorn9dY7F9OG0SZ+usZi+KRz4sw+533ybhK+Tfe7LrrrsnJo7YFJwAiLPLBOSmyNdXjD8ee8ZtTr1vtroMgv4G2ocM0RhtBftvZxpX8quJrjUG5Pk2bCdekyWhgQLQZQX4ntiC/k4PlQebOnVvZZwa1f/iHf0jqD+XGUlv/9m//VnmN+q7COHIDA83Ri/x6vzj0EIHpCHc23iIciIXoEkY8UpO/Xxjya98IILVPxEDeNrcy+TXO6Ue52beK123FwpDfXOn/j3/847xPZgd/+MMfUtEpBJfaazz0HK1LD1RiOf/GZcsUef7mKuOkCJ05c+akAlkIK6eZvznhKMEveclLktprDWGVo33GwYZku36EeJVVVkljDntAM56LHDAGTSWMZ67VsSybNBnbIchvoG3oMI3RRpDfdrZxJL/CqxgMQq6s5de08RKrkslobzuC/E5sQX4nB/l4DEvhypNp7rtCNQhu1fX5DEGW10k5CTRHL/KLICIe8iu96+X3cypaVvP1KZWUu79fGPLrM+8OooMAl/erlcmv/VMV9TUNYdJ324qFIb/maNWVVVOfTSC31vK11rLcXc8/E98yKL2u1TbeCXUZhEKbt9QIEIGFQCOXqjxTfX2/3XbbJdKsAJZILe85VVjItJBo5Nl7wBnjPUKSzYvTgWx7ULmp100R5DfQNnSYxmgjyG872ziS38BfEOR3YgvyO5yg1FjHc4cddmg1YZlqeBc4DBCGQe1f//Vf0/uD/FLNhB57vzU5/9RZKhmyOhUNoaDMyqn0XiMdxpnuPjAZ8it82nnbt3/tF9Et71crk9+bb7453atRwcKQX7894ogjUsXj2QLii7RSZ0VTIcCqPHtHyxWWvePChB966KGUq2scXmaZZdL/hRL7XhOqzAly2mmnFVdeeWWx4447JpLs+SuYZZ+iTIRPI8gvfvGLU8FKf1OLKdDC56cLua/mc26KIL+BtqHDNEYbQX7b2YL8jjeC/E5sQX6HFwzHUSIvUwHhmUjMVlttNbBRwjbZZJNi0UUXTe8uIuk9M3evu+66xYYbbjhlLVfppSzK4+x+78ttMuRX39h///0TaeqXnxzktzcyaZwNIL5yekWLeI6UWHm4/jamPvjgg/O2fOodR/yQ40xkKcDeBWPjf//3f6fnqpDayiuvnApZGbMtk8TRYykkii4g0d7HpZZaKinBljgS+r7eeuul/9vXdEGYOZVZNXLHbYogv4G2ocM0RhtBftvZgvyON4L8TmxBfocXv/nNb5LBLHw38BQYw3KtvYt1GjKQxvtO894hwv71+VQ2ihsiovqyENTu977cJkN+kRXf6Sf6qoiAqqbIlX37TZDf4QDlU3EpDhJKL/WXKpvze4UmH3/88akwpVoCQuYtZYTwHnfccYkMiyig/rI7P/KRj6TCZSpHS0kS/izUmcNH3xDlgDgLN/Ye2Y93zlq/Ih0UyrJ/YdCWVpsOGLPl/FKurSM8maURg/wG2oYO0xhtBPltZwvyO94I8juxBfkdTjCOLUVi3U4huoGnwBim5iJ4jHjv72w2ChvSiQALK1W8SD/qfu/LbTLkNxN52yDa+mavhuD7TZDf2Yf7Lxx+s802S3nbHFpIb4ZidsY4Cqn3eqeddkoODAqxfG2Vm41/FFoKrnES0fWeKNomNcLYrJCVd8Vv5LbL/RX5YFy3xJPVHhBpBJza7LfeQ0R6MpWY68AYptAV8l4O666LIL+BtqHDNEYbQX7b2YL8jjeC/E5sDPggv8MH12w5Je/pKBSbmypk8qsPe0/dn9ls8oaFnyKmlDUKnQrP3e99uU2G/B5wwAGJ6Fh6rm77yU9+MlKVwttGflWWRkQ5RxDX3/3udxPGMqRWIS6E15iHnHJ4yReX41venpJKJRbWLMrAmIwsU3+9g5ZHMp7a7hOf+EQKdZYT7LgIt2rPfieMmsLs/5ZJkq8+HfDu6R+qTcdSR4FxQIdpjDaC/LazBfkdbwT5ndiC/A4vVEtV2XXcwp49b2qRPMjudscdd6SKtd7Nk08+OeXYznRDWI0f3lWqnuVmMvktv+u92mTIr/xMThDKYd2GWI1S32kT+aXYys2WBy7sFwHtBucENZhaK4zZGr2KUW2zzTapMFV3v0dgqbfGyuc///np3UB42SDIMvX3lFNOSSHWSDKFGFHmCBFerdjXSSedlELzrQ197733pndXwSzK8FTCeyfUWR5yJv5NEeQ30DZ0mMZoI8hvO1uQ3/FGkN+JLcjvcIKhSzU6//zz0z0YJzD6v/Od7yyQy5obwujd8A5ZJ5kKPNMNORE26l2dKfJrzeBxX++5LeRXISvvh2rKnCXd+a4cWp6n98AShELlLX+E/KrYjDDLAVapuQzvhJxe4zVVFxG2bBrCLN93zz33TA2ZRoavvvrq1EeQYJ8rFIfwXnrppUn9pThr9vPxj398UqHJ/cB5Zz754Q9/OKnw+yC/gbahwzRGG0F+29mC/I43gvxObEF+hxOu2VImnsW4kV8kT56z5+9dUfF2GJp3Uh/wN9LhXQ3yO3MYdvKrz1JYKa3sgmuuuWaBKsccWkiu9fMRUQT5nnvuKX79618nkqzQlVDkv/7rv07j7BlnnJGKY/kd5RQpVszKUknIsWMooIXYGr+9T4qtaZ/85CfTsd/xjnekd1OeOJKrgJ7jGVeowPrZJZdcUrz2ta9NBbKGCUF+A21Dh2mMNoL8trMF+R1vBPmd2IL8Di8oP4xp69WOEzL5VbhJeKewzGFoyAMVLcjv7GCYyS+Caqw666yz0hgp19VSP/k7hZ8QXPaCImnUXqHRFFHqq4JXF198cSKmQv7NT9RZYdGWRRIBYpw2blrO6sc//nF6J71z8n0Rbvm/3k3hz1Tk//iP/0jVnb1XCLHICeHUlGih0VRn52spovyODxPZDPIbaBs6TGO0EeS3nS3I73gjyO/EFuS3vbCEikIyk21+P4z3tkx+V1999Qnv0Gw1ipx+EuR3djCs5Ndzufvuu9P4hYjedtttKeQX/vznP6dnec4556TnTon9wQ9+kPqfMGPPmOrq88ceeyz9BhDgW2+9Nam89il8ma2hUJVcboQawbUElv0ix8ZUhdEUufIuel8RXO+Z9xbpFg7tnUO8zYEKXjm2sGf7QYSHBUF+A21Dh2mMNoL8trMF+a2GyVTFR5Otv0cVQX4ntiC/7QNjW7EcVYUZ3UInmzT5tJdffnmqCDuMqnKQ36e2C/K7IIaR/HIgqfAthFjzt+fk88cff7y48sorU8QAO8H7Q+k1nmlCoH33lre8JRVz64aQZ++Wcdf4KCzZfkFUiN8KeZbzi/Daj/FSgS2fbbHFFqkglnldnrrwZu+tYlhCsn/xi18kJZjqLATb0mrylFVnHgYE+Q20DR2mMdoI8tvOFuS3GgxgpMZi+aMcYhnkd2IL8tsuMKwpRFQfeX3CKz2Puu2GG25IS6NYk9YcJqRytqEAEOPfu6Z95StfSWGcyO8LX/jCFA46my0vXRTkd3YxbOSXuusZUW5VWabKKtbGHkCCvcOHHHJI+re7nyHGxl5qrN9RcjOMd/J1hUOrzGzNX++KCs32zUGt+re8YXnB++67byqEpZAVRVl+sD4uzxf59S7JJbYutvOlEvstcmk5pfe+973JjkGO5R0b/7NyPZsI8htoGzpMY7QR5LedLchvNUymvMNf+MIXQvkdsxbktz3QNym+SC9S1hQMY8YuwxmJcN+HgfwiNZYtWmutteY386vn751baaWVZq3JnzQuei+nm/zmHGckRtM3rMvqPgT5HS7yK5+Wk0ZlZQWs5OAijM7x05/+dMrXRTCNp91VlOXcWrPZGHjnnXcu8FyRYN+r1LzlllsWG264YcrbpSBvt9126XPLfSGywqEPPvjgpORyXAthVs1ZnQAqtHf1Oc95TqoELcrD/90/54oAs10QbJEgSLT9GFeoxt7T2UaQ30Db0GEao40gv+1sQX6rYXIWYqUS5FQvdzBMCPI7sQX5bQcycb3ooovSPWsK4ZJ+f9555yXy7P8M62Egv4xxJMJ7wVhHOGe7ZfLtnG6++eb0Xk43+c3Hs//c7NfnQX6Hh/zK4+Us3nXXXROJFD6MpBm3jGGUWCRSXm03kOaPfOQjxW677ZbenbLCivj6DYXXeKu4mnxcMAZaNxgBzksaKWCF8CKv3//+94s3vvGN6d2yri4Ce/vtt6fjWOvX/my/9dZbJ1XafJ/zkL3f8pT9zZ6hYu+///4LVKqeDQT5DbQNHaYx2gjy284W5LcaimvIFzJ55gqVo4ggvxNbkN/hh1BKBFHoohy9pkCaKMZCIS2fBPY5bORXv2SsZ+VzthqChRh4/2aa/Opj1N7u5hyC/M4u+TUOmR+9B3JsjV0cxk888cR8Qmt8vO+++yrHLA4nUQR+S3FFojM4nVV61sc32mijYrXVVkv5t+VtkGNz9HLLLZf6rrFUSL5j+Q6B3WyzzVJlZ0TZ8eT4I9EKX0l1sD6w8d055yWPqMfeL+uKqxhNBZYvLHd4Nt+5IL+BtqHDNEYbQX7b2YL8VgP5zUt5+HtUEeR3YgvyO9xAUuX4ejaTCXX2+0ceeSSRBuHOGcNIfp/1rGclYtj9zsx0o4wpCOT9mwryi6CUx5pe5NexhFp757sbEjDuTqDZJL/u/R//+McUNSEywHOTW+tdOfDAA1NuLnW+1/yJiCpwJaS/u9Ac4opEU5GRTmHK9vfAAw/M2+IpKJYl3NlYaXxEcPN+7APRVR16k002ScQRoZYqYTzfY489EvGmGM+ZMycttWR/jut7arX32ziDfHP+rL322sXPf/7zWYsGC/IbaBs6TGO0EeS3nS3Ib2+Y3EfduAryO7EF+R1uWBZFwRzK0mRgPU9GtZzBMoL89m5TSX71H0RCYbL8WT/ya0mbQDVmk/ya41VDXn755dPKCIivd0BBMv8qYNULyKMKysikXN/u6CoqrMJXu+++e3JACzkWgVCGMRAZVABOXriw5h133DG9k9TZ3/zmN6mfv+xlL0vjNwXYMf0OIUdo7fOnP/1pIsgKYan47rt//Md/TL+xTwXxXI/xHqk3Ts9WEcwgv4G2ocM0RhtBftvZgvxWQ94RQmNSl1s4qgjyO7EF+R1eUHzl/1FpKEdN4d7J/2NEdv8+yG/vNpXk94orrkiElgNDDqbPgvxODrNBfo09lhV605velBRV+bVCloUu77fffuldQWYpr1XwuX5MefXckc3yeObdzwWrXNvxxx+fQpvlBmfYHgmk2BoXjQkIs3xgSrB3SFSHNX4tEaZPC12m8prb/T6HRFsuybi7/fbbpzFXxJf7irwj5sgzBdtvkWtk3/tfPp+ZQpDfQNvQYRqjjSC/7WxBfqvh/IVZMd5GQcXuhSC/E1uQ3+EEg1SOrjDLyRie3nX5g6rDVv0+yG/vNpXkV8iz54CU5PEmyO/k0JT8ypdF9vQjiqoKzIo5cUgo+NSLsGb4Xj963etel+ZHTij72HjjjVMkhpBgzuJe45PPbYPQ7rPPPsWTTz65wLbW6Kbyqsxs3D3rrLPS/h2zvJ3wZKquMfGCCy5IubrU5D/84Q/FO9/5zhQmrTK0JYuQXX1bxIhQZqTdvoQ/qw6t+U6FaksoyQO2HJP3lFIsSsF7aS6gVG+zzTaJNLv3g+7XVCPIb6Bt6DCN0UaQ33a2IL/VMFma+Bih/h5VBPmd2IL8Dh/kBjLyEaamxp975f65r5ZIkadYhSC/vdvCkt9vfvObyWkhf9N+RNTYZ95/Jr/LLLNMIh+2o+oF+e2PuuRXGLCxBZEUlky9XHrppVMlcfdcATEqLlJs7q4aX/QPxNn8LhwZgfWc/Cu3Vr8clAtLnaX4U1EtP1Q+jmWSEOKzzz479XfKLQX42muvXSBKw98KaLkGxy7n4Nqf98n+Xad95GMgzAgthdo7mKvFC22mHFOCFdSyRjGVmIpt/Fc12ruNUFOC2bmKbyHmSPdMIshvoG3oMI3RRpDfdrYgv+ONIL8TW5Df4YLiVO973/vSPW661Ij7ZN1QuX2eY7/fB/nt3RaW/Pq90FGKmRzK7nEmk1/79u/iiy+e+laQ3/6oQ36RRfdeyC7CKz/W39RV44u1d+W7utdIsPHMUkXlMQZR5LBQBdkzRQQRVYWqnEMdB7Eli5BR451xrkxYVVXea6+9EvlWhd07hIRS/8u2BKXVudkHNda25WNTtoU+I80aBde76hiaXF1OGA6W+++/v/j3f//34uMf/3gae5Ffx3P91iVW2fmggw5Kqz44H6HX1GR5v/KMvZeWd5rJ8Ocgv4G2ocM0RhtBftvZgvyON4L8TmxBfocHFJ5MfH//+9/P+7Q+3DvhmIzXQcQ5yG/vNlny6ztq+yWXXJI+159y/ym3TH4tSSMsFQnRhK0iJ4Fq1CG/FFVLDnlG1sT1DBA/7zkiiUBSRKmdxhhr4BrvFH0C5M5zpqaqvC3EmerpnahLxPQ9Bea8096jvJYvYk51tW/viDxbSq53QBiyfpBhzKO0es/0U06tMvH1vTBs75J9Uo+FQMsd9g4C8qwwl1BvKq/jCfemIFOckXBLIFGn5SVz1Bx99NHJQWBJNaHiHDiKZXEkUId/+MMfpn3PBIL8BtqGDtMYbQT5bWcL8jveCPI7sQ0L+WVcqUKK/GlLLrlkOodxIb+u01JG7q1cviZwf+64445kUFOs6hiMQX57t8mSX/cTgd1mm20qSW9umfwiQQoocXTkFsZ+bwwiv0innFbjGbUXeapyAmVF1TMUBi231fPS75BWKuuKK66YilSpiKxCct18V+qq90TItXN1fP1T+oH+SfG1RBESatuLLrqoOOaYY9K4Ww53lh+c1/xFTrtDrB988MGkFlOPFeTSn/Uj2yLA3ktw3lKaFMM677zzEqF2rcZfESKOjwzbXjEujgFk3FhsHrAdpZxzkor+7ne/O537TCDIb6Bt6DCN0UaQ33a2IL/jjSC/E9uwkF9kwPqZQvQ0ZGJcyC/VRSEbOb6DFNtuuDdyExnKnl3dsSjIb+82GfJru3XXXTf1HcRLKKliY0Jwu5tCRPqSYkeUyEA9DCK/1FGOh+WWWy4p6b3y3TOorkKaOdqMg9RQeb3GHwTQ+NRkmR/h0vqgMRIJtYYu8olwcoqozCx0Wh/3ec67RbDL/Rbhu+qqq1LIterLzrMM1yU8WWiytYAzMden5fW6DmHQ3s8Mijgyr9gXsux8LK+EiFPBKc/OS2EsxFqBLSHP9uN9Zu+aD+QQWy/YdlVwLqpfK6qFSOsfcqQR5jK5r4Mgv4G2ocM0RhtBftvZgvyON4L8TmxTRX4ZV8Louj/vbv3Irxy8TH5zK4cCjhoYqwrMUISQrUHGehUYln7vuTX5PUNdSGeQ34ltMuR30UUXTcrYrrvumqroIhq92lprrZX2G+S3GQaRXw4g9xYBNh7VgbGOqqmok99S442DQoSbON0os6IvhBEjktRi/Vv/sj4wIqmyd156yP6FGOeQ4wx5vMilpYjk2Xavz+04OaTaONydg6vYFwIshQRxlUoBiKd7J68X6RYmffLJJycSTc11Lo4LjiFnmTLsvHfYYYdUUGuppZZK+elHHXVUIshlIL0iFzjwkG/50ipkI86cPXKukXyFv3oR524E+Q20DR2mMdoI8tvOFuR3vBHkd2KbCvLL0LSeLAMKoS1/1916kV+5d8L4qGXlNqrGD2OUAUmhosYIgWwChjXDluHqXaa21AHDWyVY5I7hO5nc4qnGKJBf2+of+lLdhpwocBaoh0Hkl1pL9TW2cCrVAbIm7NnzMwYhe9Iu5Lwaf+TBKvSUK3Zbnkg0CoLpfKioiCInFCUWoZRjrH+bb5BbRNB+skKrrytUZbzUh3NIM1KoUrgQZdWd9YVuh5Zjc5q4D7/5zW/mfbogMgEWAi5/V56u8YKd4l1FRJ2vytLG3Le+9a0pr1n4cx4PjBPOBwFVSIujTIi4d5ztK1w6p2fYNwJPTZYjbBvbrrfeeimvnVPTXMLBcNxxxyVFuM54FeQ30DZ0mMZoI8hvO1uQ3/FGkN+JbSrIL+OQAcVwzNv3ar3Ir5BnIYHjAMapPDzElxrUNBzQ9sIKGdYIWV3izKClLPkNI5jxnA3y2cSohD2vvvrqSXGr2yh4cjsD9TCI/ArfpeIim5TNOkBKKazGQMtNeYYKYSFv8m0pwQgiwug5U3Upm8KCKbqIsn7s/TVGWhPYPoUtU4Ht02/uvffe4nvf+14ipTfeeGMiiYrTUYaFVsu3Raz9ftVVV03FurrVa0RQqDKCbfzoB2OMqALjrJxic5/P9DU2C/KdnWfGdMsayRUWvdMNRNk+kFl9VJQDZdocap9UbL9379030Q+u2Xyi2rT7hEBTjy03RQlGgAeNe0F+A21Dh2mMNoL8trMF+R1vBPmd2BaG/CKvDBR5jAw1f5f3XdUy+RVKx2hk7FlKY1zIr7BHBjDiI0yzKagxiC+j+6abbqpNnBFfKpL3nvrCqPTZMGAUyK++ocpwYPowiPyqlI2gyZWl6A4CxZJanMPV7Zt6iTAKT+fMQ/qMhyJbLAdEEfav7c4555yk3nPeSdHw/IVcI9MKZsmPtUawfSDPp512WlJXhcXLNfZ75yw/XPSH4yLf1NJcDI3SK0JEH1HVGSH3HqpOrQ9TUEVyIKHd/dn1Cb92LVRp+zBeCHt2LNdh3PYdOwap97kK0d1wPOowBViOtDnUtSD0xm2VsanV5oeqitD2KYxa/0GAqd7OrR+C/Abahg7TGG0E+W1nC/I73gjyO7EtDPm1pAYVgsE0KNw5t0x+Ux8stXEgv/JsM3Fl7DYF4svYVBzLM6gLRjEjEolj6DYtqjXdCPIbqINB5Fff2GmnnVLleMpsv3lZn+CEUsnYOIfMZtInOkIhKdXXqcgcdcY95M2cIVRdeLB+hJAKU6b2+j1iqdIzUiyHVhEuY6pliTi7KMFUUyHJHH/GTmQdcRSyrVF+HRP51h+QZ4Wx5CT73LUhrkgzgijyxvhLoXUPkE+5tcilcxWy7bjIt++EaVNj9TlOOATcdVKqhVTLza1yjIkwMUcg+NRxpN91+o3/218Vcc4w/nl+FGAOAusg94s8CfIbaBs6TGO0EeS3nS3I73gjyO/ENlnyK2wN+aVeCMVrSn4dkzGXm+VFGIijCoqL94/Bx2htCsRXKKdQZ7l6dcGIFVaJwDGkGaDDhiC/gToYRH5FVeTxTCVzBNHcTBXN0B9sJ1dXKC7SZlshx1WET78TPmxfikVRZf2bleBNNtlk/pq9xkP7pPJ2hyXbD2JMmRYCnfuhaAzE29JCCknJ0bUkESeZAlqILdIsOka1aATW/hFs6+4qKDV37txE4u2bAo2ceheRcttlUiv3Vv9C6o1DClLts88+6fyN61tuuWV6l4VcC8eWFoHMyu1FQo0jeSyxfwWw9Fn9gSLs80F44oknks2kwCHy3y/3N8hvoG3oMI3RRpDfdrYgv+ONIL8T22TILyOH4kG9bHoPM/mlGFsChIKi6UOM0lGE8EMFeOQ3ywVsCsY741xYImJWF4x5xiUjkqHJAB9GBPkN1MEg8gvGeORUVWIKqtxqRJJKi2hSPY391FcEjEqclx8aBIWpLNkj9JmzTn6r5a0cgxPQskSnnHJKWpqoTKRz+DGCisjmHH0EmMoqB1YKiPdIPy3ngSObxmXKrfGyl1JqjHANjk3d9W5Sno03iK5oEefmfNmuSDvSnItRmRPNA0KS3RMOAX2S6iw0nNps/HKv5AUjzFRo771+IrzbudbBO9/5ztSHXLfn1QtBfgNtQ4dpjDaC/LazBfkdbwT5ndgmQ34VMZFHRq2gTCALdVsmvyoNlxWZUQUjWPVXBt9kiC9j1+8Zr3kpkrrIVZ2FOg+zERnkN1AHdcgvcBQhVtYKV5xJjqowW2OY8GLP1eeUSySuyfytPyPQ8nn1KyoqEolsCwOWB3v77bcnIoos67/UU2HO3o/s4LMf/XnnnXdOYcfOQwixdywDOZb3i8Tb51SMl0KjkXTqsjxec6DjOj8FuJBj9859QnZdn/mA2iw0WqEuha04DpId1WnusxDtukDGXZP74Xx6IchvoG3oMI3RRpDfdrYgv+ONIL8TW1PyaztERYic8DphdfpA3SY0j+E5LuRXDp4QSYZc0+tlIHtHPQ8VYilIdSHM2vOk2shhLCtRw4Ygv4E6qEt+kU7htbYVBuwZlhsyLAwYsbRObt2+YTukVl6xcU9os75pLHQsBegQYsTYOEc1FR2DVAqXRjbzsTi0qM8IpveNU5GDq0yOqcWchd6vvBzSwsJ+HE9BLQT4F7/4RVJy3Q9jsirQueCWfGTk13VsscUWaZ7Q9NPy/dRPKL8qVtdBWfmVd90LQX4DbUOHaYw2gvy2swX5HW8E+Z3YmpJfHn/GI6VDYwg1afZh3+NAfhm41sOk8FBhm+Kuu+5KqpDcvyYh4Y6lOI+iNkLKh5n4QpDfQB3UJb+A5Akv/uUvf5mW9FFPQHEnkSqKQJmzOYiaEF+/QQSptUKLpW545mogCPnVR4VWyydWE0EoNIJLKZUTK9df6LLrsA+hxAiuZeKEO8sFzucjvNoyRPaf19OdKlCUVXkWuSNkG8mUa6zS9NZbb53mR30xL0ukzoCljPzN7vWuq5BNDTaOy0dWhRr5HwQOAMeyD9fMMdcLQX4DbUOHaYw2gvy2swX5HW8E+Z3YmpJfuWKMJiRlYRpjdKrUjGEEwiqPz3vWz8DrBQRMVWjPowlxtu1ll12Wcgu7cw+HFW0jv0iBNWURHEWM9KEgv9OPJuQ3w/uP5CLCeVmgyaxtbY6nzFqmyPvhPaWWGh+7Iyv8jQh/85vfLPbaa6+k3vqtis3eH2MpdZhTzJJMVGSpJNnBZX+IH4XZPqaiD4saofJ6Z43ziKccZOHNiLniV/KYKdbW+5X361qRd4W2kFvnzu4V8SPvmWNBiLm+K4Rc6LOQ8F5AuindChwKQ6eIR7XnwCihwzRGG0F+29mC/I43gvxObE3JL6WAkqK66cI0Rk0biNlkQPHNxLVuEZgM90Q4JvKKWFGS6oJxiXCrQivssy3OhbaRXzmOluYSUos4WOM0yO/0YzLkdypgrEL2kD6F/pBeebIcXMKmq6BSsjxe25p3KL7yW70vqikLE1apGan03iB6SK8+610Tckz5bRox4vfO1/rA3te8lrpjILgIuNBs+0a4fa9+g+NZr/21r31tus4c5owEqyqNxMsHVtkfIRf+baxyzu6NwlmWaWIPKTDWDXnPQqj1GRW2KeieZz8E+Q20DR2mMdoI8tvOFuR3vBHkd2JrSn7f85739F3LcdwhdJGRZ23NOhVku4F4UUTc9ya/ZyQ7rjBpzoU2ORbaRn7T/NHVgvxOP2aD/MpjFc4rTNlYiQQibvp5r+rp+qJ3RdVp6/8ipPYjzBkBFSrPgUjxtcav/FrLElnqyNir+NTRRx+dHFj9QM12T6i5CKgcXvtAuJFZSxzZn9QLIdecaRxrDz74YFKBEUtKrZxfdozr0lSxFgKtLbvsssnR491WqMr6weUUDOOMMG+5wlRkc4mCWgi21AvjkfNyfdRexNff+hhFvh+C/Abahg7TGG0E+W1nC/I7EcKOTEIL09qCIL8TW5DfqQPDkuIrn66JYpvBIBQWmKvF1gVjG2HWHnvssUmFdc4m2kZ+hXgiLsLLc2PkW+c1MH2YafKrX3FiyXWl1CKA8lwtW9arXoG+d+edd6aqz8ZR/RjxtUQQxVeoM/IoJYEKa7xAhr1bcoR33XXXVDWa8sqZZf104y2Sap1vYdIiO+ScU2mRZCT3zW9+c8rN9RtFthyHMm3OE56MKFc5xISC2xapR16pvs5LNWYpLt5184DcXudcFU0ipJrDzdjlvM0T5pR11lknLdG04oorpvoQyDTl2LxbJxUkyG+gbegwjdFGkN92tiC/f4GJ0KTIYDahIoNNmomJt5dXty0I8juxBfldeDB4ESbKyGRDnRFm938yii9lh3HNOG1SEXpY0DbySw1zv4WZl9s4VC+fTTQlv/oVkqWoFEIqXJfiqpjUIHDqeuaHHHJICk22pq2UD+9qFYnM+Pu///uk8B533HGpkjFyaX4VWmxNX2qx90TFY+T1gQceSOMHQiwMWZ4vJVgTIuz/CK5G0WVvyDdHlBFnii/yyvHmOhXHqvMeCsumBDtXRF3RNsQUwadYC89WyApx1S8pyQhuL7gGx7ZP16Yfu2ZkXo2I0047LRUcc4511xsP8htoGzpMY7QR5LedLcjvUzB5q7po4pT7w/PMMKjbEEe5QpZ44NltC4L8TmxBfhcODE0GtXGAccdAl99XtzHEGa4qM7vPdRQR0IeRbAb1e9/73rSvfkb5MKON5FcYaWBm0YT8qnIuggIRU12YsomIIZDUW2Od964qcom6iZQipxRQaqaKzKIq+oHCqz8KHUZI5QObLxFoqmxWXym4wqiRV++a+Vcu8T777JPUUuvpIqTCg/3W3wipIlkIsagDx+kOQR4E1+UeCsVGninGSKl74Zwo2ipYs23N60K0FacSBo0I6xODljNCghF+odXmV8q1GgjGp6ZRYkF+A21Dh2mMNoL8trMF+X3KaJajk9cfpP42AaXJZCbEyeQtTKotCPI7sQX5XTggoKqjCo3Up+TPNWkMSmOIkNkmxJeBKaeO8+rJJ59sLfGFYSe/1lhGYhjjCEiQ39lBHfKrH1Bf9Q1qrWWp5JnKN1XJOBcnQ+aQW+MbUprh997HU045JRFf46IIp0HzpIgL0RvW6zU3UkHlBVOAFcfi4DJvGl/1dyRXIaqzzz47qbqbbbZZCotGPo2xV111VcrlRXCptIpIXX311Sn8GBmWU2v5IeH2yLN706v4FqXV0kx+73jOkdL7mc98Jv3O9/KL/R9xV91ZpWfbzZ07N9m65gJjnPOYqbEmyG+gbegwjdFGkN92tiC/RSp0wUhnHAiTbAJGggkcaaZy8YTzDrcFQX4ntiC/CwfEExliWFJUmjTGHZKFUFFG6oDhKSxa/xOGKbe4zcQXhpn8LrrooomQyLGklK222mpBfmcJdcgvomhZobXXXjutRWupHs9P5WXjm++oqYiw8cz8xbHBqQscw1RR5FS/lFJQZ51d4bwKVVGZrfsr/Bd5VCzK544rL9f5ODeq7pve9KbkvKLqCjfWp3sR2AwkW3+59tprU/iz49m/8GWRXJTWRx99NDnljBOiUsz3thW6bMygSmeHmTmdyi2SS99D9HPRPoWrKOZykPVNlZ/lt88UIQ3yG2gbOkxjtBHkt51tnMmviU6Ipbwinum6xnYG48BEijQL/zMJMxSC/La7BfldOAivlBeXjeemkCtqfU1G+yAIW3Q8/Y+i1Mb83ioMM/mtakF+ZweDyK8UBPObHN0XvOAFiRh6nuVwW/Mgh5GxzpimEJPIjZ/85CepbyF9Cj1RYm1TFY2h39mH1CHvLrKI2PqN99iYSnWWNyvUWgEp3yOWij6dddZZaS7Wn82pznMy46rzkIdrPEBu5dYi9v5GUtUgoNZKT6L4WpM3j1Pug+PdeuutyTkglBrZ9H2+R8536623LjbYYIP0zhv/hWvLnxbePN0I8htoGzpMY7QR5LedbZzJL7LLMDApIq1NICyKd5jhIVSTwQ5BftvfgvwuHGaK/DJIqTXW4pSnl/sgA3phm33PJoad/GYylJsxLyo7zzwGkV9kVMhuJrTWuu0HocWU2ec85zlJNTX+bbPNNqnpZ/q0Zn6370ceeaT43ve+l9RVv5Vrjzgil9bA9TtkF/n2NyXXWIko2g8FVjixiCuf+c74q9nvZKH/UnCRcGHRG264YYpQoG47L3nPSLbjUoSdi6gt5BhhpgbL0S3DPqnQSLu5gYr+jGc8o1hyySXTdfdTw/2Ww0FqhhxhecmTIctBfgNtQ4dpjDaC/LazjSv5ZaALVabaCntuAsRXIQxhUXKCypUkg/y2vwX5XTjMBPllTDICKTxCb/VJnzEu5Tfq0/pik+Y3+rUcvkGhltONYSa/cn6dnzE+N8/CMwjMLAaRX1WVjWPCdJHTQUDQhPUidAgsVdbvFZ/SrxBCSx0pLqXgldxdebmUUCRXdWRNESpjpr7EuSyMGfHNoNAizkipiAH9zbGNt4pbOYb+3BR+g/Qi5op7IaqUWSHVHN3mOOdNvUXGFfoyh/uc3bLjjjumquX9lmXznpsjEGnzpjQA90pYN8dZGf5vX9Ro6rA+5D7YVu6yeaNJvwnyG2gbOkxjtBHkt51tHMmviVbIk9wiE7AwriZNqJRKtPKYupdQYEQH+W13C/K7cJhu8svApdbIKVboJiu1iG/O+5WXiBTUbR/84AdTn0YSFP4ZpJBNN8rkV9imAj6z2ZARJCWTX2usBmYfg8ivXF19kfqLfNUB8kcl9ayFSqu47F2k9vs/ZRjRVQALKb7rrrvSfG8uRDyNnwpnKWiljx544IHpHHNKgr5KJaW+IptUUJ+prmwZI++ZvtwEWUkWzaV2gD4jIkEBLWN19zztXMzjily5VkXAVl555RR+rRCW3GD7y+fcDTaEsce9MAdobIryPOCYHAbvf//7k/Ltfi622GKpIczu5VFHHZXOz31zDwYhyG+gbegwjdFGkN92tnEjvyZJC+LLP+KNlgvEO1y35YIaN9100/wwyzKC/La/BfldOEw3+WWYUp6EM+Y+yFgWpimXkCHZFAxwhryCOwr7DAv5Fa7KiEc0ZrOppGvc0weC/A4PBpFfyqZleZBRSmMdGN+omgia8U1oL3I4Z86c4uUvf3l6H+S+Oi7VVLEo4yGVN4dJUzblztrettRPZBCZNC7YXuVoocc+EwpMcTbH9ls7txsIo9+rPM2Btemmm6ZqzIppcWz3IpTsAO+wAlxUak4C6/MraEXtRu7tz/xIkXaM7jBljnD3VfizeyWfWQqUY7rWe+65J9kC+T6aYxX2Wn/99dMz0bf1JeRbuDWH3iAE+Q20DR2mMdoI8tvONm7k16SEyJiYTSImnCbNBM84QHKrEOS3/S3I78JhOskvkmopE2uE5vU8EV/9WThjlUNqEPRrxi8lyrjFeB8W8pvJpvdsGFqQ3+HCIPJLjWSXIaEU2jqgvCJk1EqkTPgw0sXhRMXUV4yRCkIpHqVaMwJJORUu7f1AlpdaaqmkbsrpFXaMKMrN50BGdDl1hGXfcccdyelEBaYW91JbqyAMm2PGsk32KayY+mue75VTa/+iGVyfEGupDsYSv/GvQl/GGOsf2681jRF4ynR5n0guBdt1qfrsuqnBlkiSa7zHHnukPuMemD+QemOiYxhnVKcWLm1O4Qhwr51DPwT5DbQNHaYx2gjy2842juSXQWApBxOZCaxJQ24ZEXKKqhDkt/0tyO/CYbrIL/WIGiNPH2EFx1I0R6hz01BJYLzaJ6PePo0Pjj3b5Nc4guAjBMPWhKaGAT4cGER+b7755rQ8ERInBHkQEENEWbi9eVwIsP6IsOnPoir0M31Ff/Qe6EMIn9xfSiryzIEkUsDfCKmoClWjKbuWMEKUhVPvueeeaRw13lp7ePnll0/KKxVVPxSurVCXPGJLa6mzoVaHa1aYSpqCfRgDOIyosb1Ir8+N0yJGKLDGEYpxN+F0D4Q1s2HsU650VoipypxscuDdC/vUVxFghN9+zRXWGzanUtDVJXDPyvnAbAn39KGHHpqf3iA3maOhH4L8BtqGDtMYbQT5bWcbV/Jr8jIBNQXSG+R3tFuQ34XDdJBfhqKKqgxW91rfdZzrr78+PZteIdL94PeMcwZ1Hq8YvsNAfo1TSIXxZNgaotNd2CcwOxhEfj0viqjQZWS0u4JxNxA1KiQyRpmsU/hNn5FKRAH+yle+klIPrLMr7BfpQ0iRZe+ziuCcJ8ZM5ybs2fEoq/6mwspNlmMutQjxNAbr+8cdd1wik8YWBbaEKCuY5TP/asbkrbbaKhFsaU1IqbxeIc0IKTUWQUXCRYs4nkJ3CKXw5m6bwLW5BsswmSuFNXO0SZtC9v2d1eujjz46hTMj7/k8EeV+aRj6uWu1P7+1NnE3ebeNOQfZR75333339Cwp0ZOxYQKBmUSHaYw2gvy2swX5bYYgv6PfgvwuHKaa/CK+cviEIgppzMSXCpKN6KZg8DLY7ZNhmzEs5DcQqINB5Nd8J1wZWRR+i6AJyS0TLP0JyeUIorgiyoijHOFBc6T9W5LIWCj/95hjjkkVoM2v+m0Z+plCdPZtvEQqhTtTml2Hvue87NNvkWZjAHKocBXl1dxqTX5EmWpKmdZX/R8BtS21m9qsujNnmRxlxbrcA6HMlGIE3XlQlpFxSrV+L9dXiDYbRr40tVkhPPtRU4DCbE5wzxXHQkKRUaotMk6JlsvrHiLhdZZrku9szjG3uHfU6DLcE/aGJZrM05pCWVTpQGDY0WEao40gv+1sQX6bIcjv6Ld+5BfZZbDJWxO6J88ryO+CmEryq7iVcEmGLMVRn9XHVHWWI/foo4/O+1V9yL1jxOZ9lhHkN9AmDCK/wGFE+aRILrfcckmxtBav8GGEzviFDFIrVSJG4qzbO6j/ZlK23377pf3JvRXKrNgV4lqGPk0hRTgpusi21RKEZCOtVNcyKLFUZGOtsGD/6vPUTuNL1dztM/O7fVOanRulFrlGapF7NTsQUmRZfjE7QP6vuY/qTWlW7ZpjDMl2b6QfUHCpvK6TAo30UtSR/mWXXTYRV3m/8pwVuDIvOG63A6AKzvt973tfCvlGxqsIs+uiVlt/2XFcV/c9DgSGER2mMdoI8tvOFuS3GfqRX/uztAFPclsQ5Hdi60d+GTaKwWgMHv8P8rsgpor8IqkUXyRVf2NsM+TlLiK+P/3pT+f9oj4QZwYuxbdKMQ7yG2gT6pBf89Jjjz1WXHLJJWl9WwRNiK2q5tRQY5nxX84qUocM1qmYbo5H2vQXxEzorjSEnI9fBhVZri3y+OSTTyYSSoHl2MoE0XmKyNC/qa5UasW1qLi2p5DWBfWU4s0Wod6q8dHv946dibNcZudozDGfK4BFYX7ggQfS/IiEC6GWi6wYFkWdUzRXdc5/KwZmPKkDirgl1twTBL8bzo/SzUEh/Nk5+SwQGHZ0mMZoI8hvO1uQ32boR36FdTEGeI3bgiC/E1s/8sujL7eNoZcb44xCGXgKC0t+//u//zvltjGUL7vssmTIZsOYcU3BqbtsSxmIgjzGz372sz2Jc5DfQJtQh/yC/qNCNzVVVXPhtfJiFTCjUJ544omJLMoJ7lZhq4Ak2pe+QgmlFpv3jIPd86rwZmoqu8D4qh+LnKE2OydzMnKrrzsPxa3kAFuv13JFddTTDPuSa4w0y/dVzM5Y0TRH3ThAffZbaS4cZmoDCKGWz0zl9rd7t9Zaa6XljhBh+cUqSJtPKexI6iC4l+6HStnuSa80DteGdCuK5Z4GAm1Ah2mMNoL8trMF+W2GKvJrP8InESWKFOO/LQjyO7H1I7/yuRRtYYDk9vOf/zyplYGnQDURCiiMUFGZpk1YJIVDP2Uc61/uMdIrTJNB3BQMbgYs1abfOqJBfgNtQl3ymyF6AkGlZFJDqbzCf/WJugRRH1Eo6tBDD01RTopIGR8VtLL/MvRdYypCK0KGg1g/RrzNN4pbUX85umyDmBtfbVdXNc1wfHUAqMbG8BtvvDGNRYOAfCKclF3nJCUC0ZXTi5SWGxXZOVrSyHVzfiKswsqFdduP8Us4NEVdFflB1+H+yxumvFPH+5F9Cr7znYztEgjMBjpMY7QR5LedLchvM3STX/sw4ZkwGSF1JtthQpDfia0f+eWdp0wGekMuGiOOykqpbdr8joGZc/uEOstxE/48mSIvyLJQSm1QqHSQ30Cb0JT8LizyfKcqMQeV+hbCk/XRbuIL0kH0ZWrp/fffn1RUob2aKCmkl0KLGJt7hCY3nZcdV0gwEq0QlHNDZLsVbHM/gmwMQDi/8IUvpHnbefgNsmsdYudEgRbKLVTcmMRRgKjLUxaiTPlV3EsxLPnRVOJ83p6J7y3dZB1fOdBVhDafN9Iv5FmBLPsPBEYJHaYx2gjy284W5LcZuskvRcoEmsMz24YgvxNbJr+89wwd4XeMoiC/Mw99Cmml2uprTeE3Qi71UarJIAT5DbQJM01+5fPqi8ZG1ZdVRkYmq+ZSfYn6Kixajv3dd9+diC47URErodfCkhFA8/JkQAVFPhWjkoMrMsSYwQHnX/Mb0iqiRNQHgqyAFRUXIX/Na16TCDNFVwEwhFjfR9qdk7GeKs4Barkliu8hhxyS9kP9riK1SLeq0ypIy6/2L7UbIbcvUSiu2Xzr3qy00kppuSdEOmpHBEYNHaYx2gjy284W5LcZMvkV5uxvahTvMM93GxHkd2LL5HeVVVZJ+VsMHmF6QX5nFqIoGI0MTUZ+Uwid/Ku/+qu0BAuDsw6C/AbahJkkv0id+UGeK1uPeotY9gKiRx1VoMkc6W+EGeHUJxdmzqSamn/VWxB+LGyYA5qyTGm1f+OGuR7JFZqsAJWCXkKUOcOQZgWtENiyLeBvObVIPTKMLCPWSC9ybVypUrnL4CTgNJUHTAE2n6iELSeYouweUM6R4zXXXDOpznXygwOBtqHDNEYbQX7b2YL8NoMJV8iUohq82XJ85SW2FUF+J7ZMfnP1Tms25iYvK8jv9MP4QWESktirAEw/UH0Yqor4NFGMjQ8K1dRZnzMQmG1Mlvxy8lBNKaR1CkqZKy0rJpzXUjsKXFF1q4AYCi8WNSPsF+FF9NZff/20fNBkluiRj6wCtVQI/VkItXlcbYFNN900nZdcX0spKeKFmFsb2PjhPPVnocn94LzlQ0utUK8AUUVYqdVIcJ0K2GXYHsF2TnPmzEmhze6d5YoUyLImsLHG8+teci0QGBV0mMZoI8hvO9u4kl8eYkWKeLObNJ5ik6kwKcS3rqI0rAjyO7Fl8qvJ+y1XdqYweA8C0wNGNgOUcmNtzcmoQwxvOYT6J5WmLhi/1BcKz2Ryi8cdnEIUr8lW+a6C98F+zSeTcVaC/krFG8V+24T8IpByapFH69zefPPNKZde1WbvvXW13aOq+2z5H2RWFfeNN964ckUDhFrfM6dQXTfffPO0ji8iauw0ZyLc/eDYzoHyiuhyYrlGy/84X2RWmDJFVZVlxJqiK+yZo0tuLgd1kwKEztv7JRSZIqyQ184775zqFrhPvp8sXA+yrzCivGL50a9+9avnr1vMfliY/QcCw44O0xhtBPltZxtH8msZBeFSJjtLGTRpcnmEwiri0cSwHlYE+Z3YMvlVyZTxE5gZMBSRJ0XG5OQ1XT4qG5oqtTKEGeJ1gRggBQxpy72EQdocCIpoGARkqoAIWQbHes+TqajOoUFVk1PZJAKgLahLfs177oN+IQfVeC+yZbHFFkvLt1n3V0iwiCbEsxzWqy8oxCQdgFpp7suVoTNZRY5VkDa3IqTCeeUD+52QXvs2f5bhGJ4phVS/118RV+dgOTLhxoiiQlAqJ1NO2ZiepTHa+9YdstwEzttxnTdnmetTwMv9HMV3JRCYDXSYxmgjyG8727iRXxOukGeqkAIWk2mWhxgUQtUWlMmvpRq+/vWvp1CtcW7C54SnBfmdOWTiq7Kq+18nFLOMTHwpTgxZxnhdMOQpTFR+RbGyYT9ucA9dO6KE8JRJhb99XiZFkLfzOdWMwvfud7877cdn+fu83+576/+2Ke83/86/nilHpfz7qjVkyyife96f7b0LFMP8e9/brruVz628nc/7HXc2UYf8uhdy2BWZslSbVA7kFJlce+21k6NviSWWSCRYSC4HRq5erFGFFacSYkxhzUvtuD+ezx133JHILfvPMWzjPZDzeumllyZnsX5te4QT4bUPfY4iKh9Y4Sfk0zl51n5vHOAIE6VF9ZW3u9lmm6WlkCaLfN6iCaQvOS5Cv//++6f5r6nDLRAI9EeHaYw2gvy2s40b+QXGAINmss3vh9UYaopMfhlEBx54YDIwxr0hQYzBIL8zByGOjG6qEuO0KYw3KnJzag0KrSzDsYTEyhOkjOnf4wohsQiAqrMIZ861NtYJiZWvadmoPPYhEEI3OQyQq2OPPTYV75EnmUNpEWLPVsQMUixlpBwWzRFpaSv5pBlCzlXoFpmj/+mTnFGUQA6SKlAPRW04dyG5VEFwrmXyi6ypHm67ckPAOL7Kv7FmbD5nvxtG1CG/npmiU1Re5FIubFZNEVF9R46rEGXzgAJN8u29D64bmX3BC16Qlv/J6277jW2QVPu0DWVXkTphzhRg30shUGDKc3TfhT7vvffe6T1xHCHUtqHsI7j6IuWZ00Hf9O54nnKHFR7UR7Njoymct317rs5blWUKsnfX+zNK83ogMCzoMI3RRpDfdrZxJL+BvyCTXw3howCPe2MACgkM8jszkNdrmRHhkU2LyoBwSQqRyutZlaoDxjXDF/Fl1I8z8TUOIEiUNeTEv4rxyL12XxQMEm5qyZhMPhBR9w6xVRBIRXTq4CabbJKcEMiMvEykZfvtty/22muvFL5KZcsFfhAj1YOlXGQgm3I6b7rppvQ5Z5R+6fdV66hTKZEnRMq5K8Yk9BZxda6ORU0UyupdkctpO805b7DBBqkgEYLsnbCEjetHBh0z/4tEDhsGkV8OCuvWch6ss846SYlFassOJv3FdvqhZ0MVdk8sTSRM2rJG5nTh5xwTHFRCkT1Tz5mTBKlEpJ2L56U6spzfXNxpo402SvtW6VgFdqHxfsdO8B7p987Bu+Z8NEWt5MjuuuuuiTjbbjLE17V69qK2vFeINEcOp02+F0F6A4HpQYdpjDaC/LazBfkdb8hbFvoVbWJjIEXu1/RCATnKDqWPytMUCsYgOQzqXqpgFYRfCntUPIfqOM7GL9KCZAhZFVIq7xLRUXAMMXV/rFGK2CK0mYBQR5EJBJVCiFhtvfXW6XfWK6WwIT9IteeEhFJnV1999USqPS8OD+SG4pwhRBaRdS5Z+VNoiSpYJm0ZlraRXypP3LlTnC17g3w5V8cW2utdQ64QaNs5H+8NMiRsF/mzPA+yjkD723YcA3Pnzi3OOeec9P9hwiDy6zkq3uQ5KLjUL11HH0Bu11133RQebTkezxfx91tjIsLrc89EsSzk921ve1tS51Vd9pw4Czg53ENpCEi083TvPE+EE9HtRWS9SxxZIghUcfb7ySjvHGGWJVS1WZ6z0G0k2nP17o6zsysQmCl0mMZoI8hvO1uQ3/EGEsAIjDaxMZIRg8D0gGPBckRU2ypFbxAYsX5rH01+75mar5Al6tJk1KRRAkJirVRh51l5RzKFPiOQH/zgBweSX0BoRUtQ2Nxj5Fc+JcKR4XMEGSGmpPYjv0gtAmM/VOdeBOjLX/5yCrVFwITzUiGRPMSvm/yWobCZZWyE3SJYQm2FYW+44YbpXmQgScJ1kTH3YZgwiPxSbi0zRI1VfGqQk8dzP+WUU5JaqwiW+yY8mIIvP9hyRVRhajDlHCHmFECGHYMTwrq6SDICS2l3X+tCqLtQZMsDeQaeGaLcBMYC0QMcOog7pd+1c+I0cZAFAoGFR4dpjDaC/LazBfkNBAIzDc4FZImBOxk1DXGWT0oxlo9aFwxxRXaok8gR58+4Q66m8F9hxmUgtcJ/5fJOlvxSAYWXlkE5FDYrvHgqyK/nT+lF4JEu4bUI2Z133tmT/CJISBFyhOTLQ3bOzmPJJZdMKiaymxvCh/gp7jRMGER+OXiWX375VHQq50EPgvstJ5dNYG1zdh0nCOVU3jVS6z65F/qQc8jh6ZRgpFgIeZN+7d577s4T+bU/Tpn8rg0CUo/ceg+cp6bwnXfI+U0mnSIQCCw8OkxjtBHkt50tyG8gEJhJqPKqyBHy2q3G1QF1iKKFtCA2dUHBUzlWfqhwyMjzewq9yC+1DKFRzKiK/FL1kKJB5JdCX4bla4TiUl67ya99e65NyK/fCFmm2iJmCB9leb/99ksErJv8OjcFrpyrZbFy1ACF0fXZVji8fORykwbR5H2bCQwiv9aTXW655VIOLmdDHcjfpvKuvPLKSfF2T9xbv3f9nB45/FwfEsYsZF5BLCq6glpy6atC1Lvh9xxh7i/l3rvjt557HXBmWRpJ6oPQ9RNOOCE9WysyyCn2rAOBwOyhwzRGG0F+29mC/AYCgZkCY10VWM3fTSGfU5iz3+dqxHXASGYQv//970+GfOT7/QWIIwIqhDwrZO6X+0zZRX4UvEIKKe353ikGp5BRP/JLQbRma4YKw1RVpAzpQVoUzaL6AdLjPOqSX+RJwS0RBN4NBBbJlcsr/1SOcZn8IsqItvNUHbz8DiJrKj47Z9WKFUHTKMveG+faTeRnG4PILyIoZNkyQipw18G5556b1GIOikFOIveb04STRH6u+ypXu47S6reiMISeH3PMMek9UYNiUN/0DBFw13P22Wen3wrVVjTP8+bMiP4dCAwHOkxjtBHkt50tyG8gEJgJIKsIlTYZ4us3n/70p5ORjDjVhdBmeaGK7yC+Eeq8IBBSFYGpdp6NuRwZNY77DAEUUqqKswJYCKL1wIVDyw3N5BcJ2mWXXRKZoeoirc997nNTHiiS494jagpeIbZCjanLSBYiar/yg+V7IlO2cW7+lX9KEe5WBBEzhZccg4rs3B2Loqu6MUJcJr/+FlorF5lKaKkmpF0kwr333ptCtCmXCLl3xv4sA6TyNfKLnA0TBpFfZFCOtaWKEHgqbT9QyhFl1bUHFfhCMN1TUQOeuZBzRc8GFa7zO/eRk8P7pSCV+1xeAqsK+q3nZ/1girTCZAg3x4fIhMkUxQoEAtOLDtMYbQT5bWdrRH4XX6rYYJe3FC878cvFDid9dUJbbe4hxdMWC/IbCAQWBKMVyRDqjEg1hYq7iC8C1J1D2g8Mbcqg/D/LqzQpvjNOkB8rbPXQQw9N5M8YftJJJ6WljYDSpqgRgqPIkbxM5BHZpQ6CSsGUOL+lFiO/FEQk2fb2Kx9XvnUONebE8BuE137t0+9tqwgVNRaBRbAQ9KpqxZwqQpKRWr9zPGSMeut5U2533333RLiQJOGx/o94CW/WFGkSTUCNRIKdg/2U74Xw8DqhvDOJQeTX/XINyD9VViGoqqJPnAjSETwLjgbqt37Tz1Fk3WTKsnxoz1WBKc8ih8VXgSLsuQpzFoqdc4P7KbV+w5ni+XBweFbeBY4L1z9szyQQCPwFHaYx2gjy287WhPxSdV+43s7F2tu+rlh7u+MntGVWeWmx6NMWS8ZCW8lvDpuT3zSZJjzwhz/84by9BQKBcnEqfaspEGfqDvLs77pgFFMbrUvq3yC+vYGwyKV2jynkHA0cDhnIkSrKVFBEU26tZ+m+WtYIMlGlmMrbRH6FRVN0834pykhTJkj2i1T6XlVp+abGUYQ679eYzHGR1eJu2AcSTXl2DEWX7MdxfEctFiLr35wbjNSXm3NGsADhU4naO2d/zg2pG8b3ZxD5Bco8dZ0Kv8MOOyTFVci6fol4WkJKSgBiifhqHBT9oiuEtcu1tUyUkHm53Uhtrxxbz5sTwvvDwcEBQfXvRVw9NzaE8zR2WB8Yuab0cqzINw8EAsOPDtMYbQT5bWdrQn5t87SnPW1gM0m1kfyauBlijCcGjxC8Jk3OERWBYhAIBJ5ajojxyuBuQlwzGPcUHqGOlKm6QJiEfMpftJ5vhDrPLHLOryVxMqkMTD3qkF99gWqK+C699NLJTlORWai5NXopw/KwF1100VTkimrOsdFLwUVMOQNUyxZaLi9cVECvsGWh6xwrzlNkASKLcFcBGeag0Gc5H3IRLWS8Tmh0IBAYLnSYxmgjyG87W6Ow56c/PRUiEerG29ur1cktGjbkCVoVWeRXqBWjoW6T58STbekMYWCBwDiDgUzpkTdI0WNMUw6bNMqTsEgqZJNcS8TLMixCVUVhOJfAzIKzgeJo+aFeRCew8KhDfkGfoH6rtG1+euELX5iU4Gc/+9lJ6VVQDAE+//zzU473oNBlKvtqq62WlsJCaM2B3dDvhF1T/hFtoe0cWd152+D89Hfh9yILEF7bsyXMy/3OJxAIDC86TGO0EeS3nW0B8nvERsUiH9u1WOSvdluwnb91schaz0t5Q3LuRq2SoonXeoUmXR7spten0AbDgkdbsRXOgUBgnEHBkXMpz1CBKksMNWnCMBnMjOVBBXTK0HepRvJHKY69wioD0wvPgcNDmGtVnm5galCX/GaIyJLLyyllvWVLFFF+FaripBg09yGhHEpINHvPUlfCp7sdTELEOawUUJMP7Bjd6wz7DSIs9FooOhWaOm3JI5FUnGeBQKDd6DCN0UaQ33a2BcjvCksVi6y3zFMhzuW2xtLFIks+fSTJL+PYZM6AEBrWNK/L5C1fTFgWAi0cLMjv9MM7SB2cakUgK/mTVQs5QpA1kQTjDA4lxY4U0FF5t2lTWVfIrCJKdeB5URsZ8AxoIdaTfYaBQFvQlPwuLORRi4yiGL/4xS9Oc2Y3chSVKs4iwTiUyw4QYzb1WHizfGskfP31108OK3ZkVG0OBEYHHaYx2gjy285WJr/PeMYziiWWWKJnEyqlYMmokF/XwVim+Movakp8Gdvy2qxZqUAKBPmdfjCeFMOhFKhcOpUkh4JPeUTeJgPvkudvLdFxhr4hlHKy6o2+SDWuGzLreJQlhJm6FcQ3MA6YSfJr3DU2KnK10korJTW3DH2O41BFacslqeascnbui37ve+HNl112WbHNNtukZa9UflYbIKI0AoHRQ4dpjDaC/LazlcmvQlWqeMqxq2rCF4WyjYphqSLp29/+9hRi1XTiRZx5vfPEne9JkN/ph2dFWVBcjSE1lerv6aefnkICJ6s+qFKrr6h6O86YSfLrfaAQq2hrSZ4gvoFxwUySXwXnRDhZA5ii252OoO+pxqwuiHOSO5z7ov6sevgZZ5xRrLfeeolAK4RHATaXRp8NBEYTHaYx2gjy285WJr+KPfUr9EQNGxXV13qPiukoUuWamwDZQnwvuOCCFDJdvidBfgfD/ZIPpjq2pUTke5XDhC11Iry+vGSUvLJrr702qXtyxJBU76ywWvui2FreRLXuL37xi0mBlduWn62wO2qsfZRx3XXXJTVDOJ/thcwiUap9V1UnZqQJt7Zsj3NX+KVs5Fnuw2+RX793HhdddNGEVjYcvTOqGfvcci5VBWHahpkiv94ly4upXmv5k/wc/Os+lgtoNW2jokS5DpWv5V56LuD+ejctRSQ8nQrHaVOVX80R5D2n0iE/5ftiP2odqPgrCqYKttEvPSPRQyuuuGJak1f/nqp7bEyWdmINWIWYVC22NrAaDFNJrEQVGPdFGLzgBS9IBZ+MA3lZJu8jZ+gBBxyQrtW5qFisj4N31bhn6aapwEyRX8/Q+6FPz507N42x2enoXwXmttpqq+IVr3hFyrk37vo818OgAm+yySapkrQ0IUSZTTGVzyYQCAwfOkxjtBHkt52tTH55Yk1yow4qkbUGkV9GGTLFq123qUCZq1BmYzIjyG9/5Bxp60KqBPvyl788KQXWfWQ0MphEHzBckciMr3/962l74eme34477pjeWfca0Tz55JPTvhhgSNPuu++eDHIkGfF99NFHi8MPPzzto4x99tknFVZybEVf1l133dQoFCIDymCoIUWMv3zuKqTuu+++yfjzPcPW/1W6ReIPPPDA9H/N9gxi+89h8kIEXSslxPfbbbddisDot8ZmGzAT5Nc2DG3rinu+2ZBmVJ955pmpj8o3bNpEcyCDKs+OAvQX9+Nd73pXukeZyKj663qlsrhmjp9u5xDokxw53kvPVH/LpFUlXyGuqgTL4eyG39pef1fISPSQpv/qe5yQUwHviX6s2r5xw/VRITfccMMUrTQVTlvvlXHmZS97WVpCy73iDHAt1sh1b90nY4N76To5SY1DzgVRRQatOy2nncNtYTFT5NdYZvxE5r0rlhxyvZwBCttxorz3ve9N/ZCT3DzJQcjhwZkowkp/4iQY93oIgcA4ocM0RhuZ/K7SMUj/ptN+G60V7Red9tJOGxfyy2hjFFuPl+FCbeO5r9uExDL0GN1VeaFBfvsDoWSgUgAY5Uggo0jxFJEHiCoCiQz6fwbCjNgqtsKApDx4Z6nGCLW1leWhMcyowwxuxtjWW2+dCig5FgJqH2Vsv/32xfHHH5+MSAouA5965PfdEQEMPuRb/juy69wdy/WoSozwebcYvjfffHM6L8ag7ahScsMXX3zxpGq7BtfKoES0Kca2Y7gj7pbpQRzaiukmv/oexV5RHVWdM7nxr3eLov/YY48lQtakcYIw2FXBFabZdrhPVFtOmKxOypNfc801k2LLyeJddN2cL8ZE/aAbnud9992X+hhyh7jZD4XT7yjLVQTT8fVRaq9jZFU954VSZstAqDgjVYlW8TvDvj1T0RtVy+gh8Pqd8/e9c9OnllpqqTSOIK5l2AZxp8DmNen1b/3U/XKO3TC277nnnkkx9167b8YNxxQGzJHqetZYY400PziGhgQiyO6D67MNol7laGiKJuTXeCKCxjyvuJRxxj3zDF2De1E1/7tOjhP9mZPSO+N+3nPPPcmhwYmhcJV7YnxHhu2b2iu3V96v76rmy0AgMNoYG/K7RMcgndtpO0RrRdu+057TaeNCfl2fUFkEBNlATpo0BgzixYioQpDf/qDgUkvvv//+eZ885ZAQkolEIhz9yK/vbE91987mnF/GHKOT4ZqNcCGGKoky0Bi1g8gvMEoV0mLwdYNxzJhTGA7ZZaQjBfZN6XAeZfKbwehjDM+ZMyftW2gpI5gyREWmdOd+h1QwrhGMNvfF6SS/nBJIEPXNvc/P2zM75phjEnF68sknK8lYPzDoOT6EoCNayHDbYcyiSrov4L1D7KjlyGEmJAggEsS5VxX6DO67pWusD8sJxWlD8eOwqSKLYP9IlRBhY2Z26HAiGQekGnTDs9PPEE3jhP6OQFlWR0RFVVoA8qsv61/gN/r/s571rNTPuomX/4v02G+//VLNB++K+2GssI+qvseBxillDHMfwXVbx5qTTXjve97znqRyl4/nd9Rfc453TJoGx4P7t7AqaF3y6zzdI+PsOuusk1ZuMI4ttthixZJLLplsN+ft+uzT/csw9iLvCL5rN9Z5PpxEIgo4L6WcvOENb0hjLJWb4k3V9y6V9xUIBMYLI09+eX5XWWWVNKBGa2dj0LfZ4K4D14f8Zi98UyA8ihr5twpBfnuDQYiYMHq7Q/6EEyJLDKnJkl/3nSKbIQeUCsHApUgsLPllIFMTDznkkBTKR/FiLHIaOQ/vUzf5dW72TQlBaMshmM75+c9/fjqnQw89NCklmpBb19KtVrUJ00V+ETAqE1Wf8uSea5414iGMt2nRK88I+UP8OCL87T1EwtoM98B7mJebydB/qJTecdeuX4pq8X4i/Z5dFWzrPuf8TfO9SIteYyH4jXfe+60fypfVJ6m++lrud2U4Pme680bSvUPODdnqFcJsP56f7fzrvBxTv8uOqTLcG1EbyC6V3ztF3UTyEO0qUJNFGbgHYJ8INjXUuVHGORnsowznj/yKMvJb1+c+UOM5bxYGrnsQ+fWcP/axj6X85Oc85zmJ/Ip8cr2eO+eI+yYqZdlll033xPjqPXHuSC3Hg/NHfqWSyNnmfBLOLOrGvaYeI9iuieLdfc8DgcD4YeTJr0GSh/Wv/uqvorW0UUJHfcIK8jt7YGQrioP8IihlMKAoowhNFflVCIoB2Y/8UooorBlIjPw6RjcjtYr8MsIt2VGH/IJjIdLGOsaf82akC210vG7y6z1BkK1j2R0aSpUWDuq8GJTl5trb7IiaDvLLGSBc1j32DLwH+jAlDZmgSiIXTfq1bf2GgkWtEoruGXuP2k5+vWveI+88MlkF9xkxoggiUYhiP9gn1X2ZZZZJRKpXqGyGe2lM5DBSWEs/RWgpwRRCZLYK+pLzkmN6yimnJGVSGHQvh5B3AOFVSdi1vPrVr045zXLoe70TxiP9GHG1HWeWe+C9GgTjF6VXiL3x3rlKlXBs41AZ3iPjWTkvmvKNmHvnFgaDyK/7L5LBO0Cxd62uWYQNVdZ1GKO875xHwtqt4evZcPRxBlG1PT9jqTHLeYvSQYA5Do2D+qW+Wla8A4FAYOTJbyDQBgT5nT0wnJHYl770pUlBKYOSyrASpimMktLAqPOMNFW55QX3I78IJgXH/0HIJEVCXi3D1L8K4OTnbj+IOAJbh/wKt3R8hp5wRcYjUu15q+jqGGXyy+i95JJLUoErzqV8XhmuLy8L4n1CPBiQwjDtp0rhagummvy69+6p+yI8FTxH/U2YOJLXK1y3F/weGWH0e66Okd+NUSC/noHrUqCpV/6y/uY+K8CEQPaDe6NfUAKFO1MJKfBVOcIZtvfc9F3PiQPI2MvZ4LgIbRXZ1FeECxsXkGZkVtpBFfzeMeSeUl6NMRRKqiaV0zn2Ci/2/rgey/dwQhlP+kGfVPzJOyNMHCnUt/Vd9/Kggw5K5LCMTH79Jr9T8n0VunNuC4NB5FeeN2Ua8UXKhZlX3QvPFhF2jqJROOX0NffEuOpcEWhVtEWmKBhJ9TXeuvbcbwKBQKCMIL+BwBAgyO/sQqghI1WYs9BSSi9lAkGkSAiXE3ZITUVoGctCnrPBzZhngCqeY51fap8QakZvVpMUlPE74XyehbBkRqfq3qotK3TjuCrCrr322guQX6qr5TqoOjm8McO5UaEQc+eEhHmPcrVXhnMmvxRuxxEeutZaayVCK+Q7N+cs0iLfC0apc7IdZcx5dJPlNmEqyS+1z/12b/U9/VZzvynuSFV3cbJB8A75PdKMgHQriqNAfqlwcnO9n8Kcq6B+gXfQuzcInAOUyuWWWy4RS6RK5AQC1IuYItRyWzmdyqqgqsgiOTiHqO3d8Hw4uPRf6i/HVa9oDOcllFq/Q3rB+4GUuzbEW8hyFfR7ed5yg6mZ5UiDbtin98L2tpW3q//n8/I+KcBGRS7DXIH8Gm+cKxgfkGShxwuDQeRXUTj3GZn1LgzKMeZA4nDgDLCck99xPhg358yZk5yJHCUU/+7onUAgEOhGkN9AYAgwneSXYcE4kjMVqAZCKbec4SdkjoIgfE5oMMeBZ4JkMgopK0gtEkxhYWwzGm3D8GKkyV1TSEf4IYWCsWu//i+XT6VnBh0yRglGqv3GcZFMoY6Muaz4ODfnI8SPklsGhYkaJT8OYbaPfG4It2MgBz5DKqjVDE+qCeWq3Bj/rkMRHGHXrpN6zMhH9IX1thlTRX6tBavIEZJUDnXOVWuFj+YqxnXBqcB5omgP4lBVrGkUyK97KNcXQS0XmCtDniqn06BwZ8+T40qkBAIkLJma7Bnpa55T1XiqX+knnEBl+D0FUf+sus+IqxxTzimOJWqkPlVF3pBPobf6djlf1zFUb0fiqsgvhwnnB3VTn3Yt1MxeodUcVoivMYPTrVvx9r39IfreqXw/OPkQYg6c/JlxwjER0oXBIPLL4Wd9Zg4QRLgOqL/CzEXWqJbN6WiM0wdFuvS6P4FAINCNsSO/DIxo7WhVRsuoYrrIL1WDMUidWtg8rlEHY1W4I9KJZFI7GY7l5yHfzH2Uy0kxcc81nwMSpLiV6s6UI+SRgamCKzXQfinKZQOVscsAtE/fM0rlQgpjzOoNcp4/rwrn1F8Y2Axz+6A6+n9WHqm5fiuX0d9ltbfckPd8vUgdImZ/CJ3wybZjKsivcF2VdIXIukful/uPULlPvmtKfCmKiLN3BPHqpQiOAvl1r/Qt5LfXsjrIkwiF7iiHMuzHeJdz16nI+p/PkWvkCGmsqo6tb9pGJXZjLoeSJnVAf+Ug8qzLoCIjunJNqcaeAwWYsuu3jl2GsZcTxHXKq+Wg0jikRGlYYiwrrhnOXXSIKA/X5Xn7LULuflTBeOOcOKdEhvhNbsi/e+hv98j76T6ZE6jBUjqMM+DYxg1hyEK0FwaDyK9IFY4DDjfnWAfuvXBxOd3qJbiWcqXuQCAQqIuxIr//r2NgmMCitaPx5I7LxDYd5Jcawcjh9efJ7zbmAtMPaitj2nMNzD4QEvmBHAlCSZs2Ia9ywyn5SAPSChRz/QzZaUpO7YNTgqMBcS6H4XYDiWk7+QWh+YiXMPoqyFcVwturwjEY34QTy09H2vKzAKRSxILnhBCWvwP/58yhrlJmEUFN1AYS6VmXYUz2jDmCFI/i6EB2hWULX86pEd1AiinEIkrsX/qDKAoE0z665zfOLtElokMs0+M8jeuOSamuUpjVIkDCXYfc3nJzbM4u78xb3vKWRLoRT0qxivLIfo4w4ChTVwAh7XaiNsUg8stxJGQZye+l/ndDNApnhaWPhDcHAoHAZDE25Nfkxev/u9/+NlpL2j//0z+NDWGbavLLccA4ZxSq+Nlt/AVmBox7hqtnE5h96GfCSC1/Ih+zaaMkUp2QGsRFX6UsyjWdjOJrH8LqhW7qq/2IL4wK+RX6K0/esjpV10wNFD3RT6EXpYDYWgapCjnCwbquVaTRvacAcwxSWTWku+r+2jZHfeT8XfA5UqaJEqmCa6BwU3oRa1E4vapJi+qguiLV+Zz9y4npOquKfwn5dXzn3t1UwPZOek9FE4gscJ3OhZKcI0vA/TJeiXxZWAwiv6JmVL3muBAJ4z72A9tNGoZ1gBHmrFYHAoHAZBDkN9rQtiC/9VEmv/ZlTUOhthSJcbmHwwgGJnVlUO5ioH3QTxEeYalU3zKRqAMGP7KjsBUiWKefjgr5de3Cf6mTcnYDswvOUcsHUaaFXS8sBpFf4d/UcAW9qNOZoFfBuSH4VF9r/oqQ6OVoCAQCgToI8httaFuQ3/rI5FdoHlWKCsUgD+IbCEwPhLlSgxUjo2Q2gT6OxDL8hUoPUnwzRoX8gvunUJxCVYHZheJ75p+FLXTFqWHOMQeJZPB3dy40+EwYtgrdKjerd0CFt72+oSG9IpjMaXKal1hiiZRyUDdMOhAIBHohyG+0oW1Bfusjk18qowqjDPIIdQ4EpgeMfBV7Edd+RZl6gUosJ1W+ZpMxbpTILxi3hOyamwOzBznO3i3PY2GAqFrbmPNVFXzzkfz6KoiGkV/89Kc/vXj2s5+d8rOFaYuG0D8QaAX8VlpppbR83NJLL913+apAIBCoiyC/0Ya2BfmtD0YLg0M+l0qlYSAEAtMDTiXFmuSkyqNs2l8Z9gqhIX1NQ6WR7VGoup3BiVBX9Q5MH7zT5iDPY2Hw4IMPpgr3liKi1K655pqJDFfBsbzLnECI7TOe8YxUyXmZZZYpll122ZTfKywa8V1llVUSkRYtMJn5MRAIBMoYe/L788cfT97HN516anHfvfcWP+sMxgo+qOD45jPOKH79q18tsP3Xbr89rSl4c8fweeIf/qH4zJVXpiqLa6y++gLNGn4nnnBC8XcPPDD/t9YHRU5+8P3vL7DPf/jFL9IadvKfbuoM8EhM9/66m3XyHn3kkQX2gzgxyixyX/68V5M7o3LiEZ3f/PQnP0mfuf7zzjsvTVp/87WvFb/skKryb1SgVKTkpM6E5Tquu/bayvPLTVVH293x7W8Xhx166ITv11prrWKzzTYrzups9/ePPbbAscaN/LpXqo+q9Nm0WZvR+yWMsGp90HECZYz6Xa7y6r21DqblPraZt45nr6IzDCzVU4XYUTLKBqHiOdbjFbJXVXymGyq7WsaoW9li9Hnec+bMSetvHnbYYfOXzZlqqJirimv3UldCD50HBXO99dZLa5daJ1hhn+k6D8W/qvq0gkAKUTkH46n/Z2JoXHPPh8HoRdQUC7r++utTqGjTc/JuWe+ZwtXUkFcYyNisMFEgMIzQZzloqLnyc1W6z8utVcEYROlFbK3ZqxL7oosumtbyRZ7ZYZzClmdSwXsYxoBAINB+jD35Rbh22223RAC/c+edxSM//Wnxlg55XGyxxZLxa1Aub//FW29NJfoVElKl87KPfrTYcostEgG55AMfmN/OnLesAEKbCeRWW21VvOpVr0oGdHmfv/j5z5MhvN222yYvKWMv7+f9HZKLICKp53cMn/z5N7/xjUS+y/u5/atfTUUkeF7Ln1e1Hz34YKqe+MxnPjORgVs6x/U5su8+WIAeEXvoRz8qfvub36TvOAoUxLCu4cc6xPkfn3giFckwYVk+IZ9buVlA//EOyfh6hwBYRsJv5ffk74U1ndYxJhEAhOI3v/71/HMcJ/Lr/USmGLaTaULEkJbJKFGjBORE+PeWW245v4jKfffdl95x+ZWqnXIcCbHj5KpS3owTCKt1KJMjaV4FX/ln9uE91v/7KVaepWPpR8YQv81Auu0H2VPoiLOL42Lu3LlTbuAh7yrMGj+68/kstWLN2oMPPjhVhmW0MjY5BqrWRp0s3GMhldRO59Hdp4VFej6nnXZaumf+5XzIBXOoST4TIjybYKgL5UR8OViaphW4D6997WsT8S2vp1wHwj0tgaPwT/ldCgSGCRyF3lEOcmot+2AQ9AMEmT2lrxu/LWUkt1c49mT6WiAQCPRDkN8e5Pe5z31uImSMUp/l7avI78u237644J3vTEpsbnd3BvDTOwabCoUUD97NOuT3ti99KZHavB/kE4m25uGdd9wx/3PbZFKaWxPye03n/JHbzTbdNBnAp3bIa/7Ovi/tGJ4rrLBCccWnPpXIq88/1fl7++22S0T3hz/4QfrM5OY+/fUNN8w/t3KjaiO0mfxSmZCR/L1767uddtwxLWD/q1/+cv55jBP5DUwNOACol5wqWbEVDWF5DP0Q6dAXOXF8bkmVbhgrhI0Lx/NOMsQQDu+/vkhF7bWkje1U792x8z5zWlE/LLdSJizCXRmHuVCSnFHkkGPIuXWHHlIYVY1WFTfvh7rver74xS/27COKMW3bGVOMV8ahMvnlJLHcyPLLL5/ugeqpGmURQWPAdgNZRvw4BspwfQhslcLjuuwP6X3BC15QSX6NQ5p9eD4Iu3VIPUf3g0MAYTROT6VjoC4c071xPkKdPa8mxrjf+w0Cj8Q2Ib7ulfureJAK7kF8A8MOEQ1XX311Wsu4aT68fjFVIdiBQCDQC0F+e5BfCoiwZevQXfT+98/fvor87tAhjxd3jO3yfhE7n63Q2fbb3/pWIqp1yO9XvvzlBb5DRFU6ZBx2h0t3t7rkFxk9p2PAv6JjgL+vY6gf1zHqdukQ04cfeih971yFQdvXrrvskkg3Ei40028+f8st88PBkd8Xde5R93l3t0x+X3/88cVPfvzjBb77fsfQPmD//ZMhHuQ3MFkwmpAtaQnlvEhkFeFUTRRsZ53XXuQ3g6Iu+oNKLORUH+S86ReeTB2kWCBJSAsCXCa/jm1NWBVuqcP24zdUZGt7It3d+/YZMi8sUD637zmQEPoyye+G/VGdEe111113AfLr/ghBFrGSf2+/iKfzr6pebLx75zvfmaJZkFLjqfORtuA3/t8N14gsuweIdRX5FfqNiCPkGbYVMoksgmuRSvKlL30p/X+m4J641jPOOCNdA6dD9/PpB/eWo8S75typv3V/77nnUGfEt+r+BgLDBu+8fl9eDzkQCASGCUF+e5BfaiiCy2gRQnnP3Xen7avIL9IqZ1XOsHZvx1CTu8s4RaJzPu2wkF/XwpA+4fWvL777d3+XwgspWp+9+ur52yDA8pqpuu+64ILibWefndQshP6xn/1s/nbIr6UKhFAzjLubnGdEOZNfeb/Wd8z3ikJ+9VVXJcKCEJRzrIP8BpqAQnrJJZekPvdf//Vf8z59qpIpApLfJSQEIaSMDlqiRg71BhtskPqHcQKpLe97EBDDMvmlhOjrwno/9rGPFSeccELKAUXQjQu9iJFUCFEotvf36aefnsaTOmuk2rdrKJNfyq7853POOSeF0+bzQKYVT6s6DwosMs0hKBzcvXMOFFH3fhAo6N3kF/GnrnNalEm8GghIMRUdOCKMncbBmYJ7QO12j4Rce+51iStwdJgjPG+/b6LacgQgvsZmjo4YBwNtgnc/ohQCgcCwIshvD/K7Y4foUWyvu+66ZLApVEWVrCK/c1/60tQO6pBdDenda889kyJ8YceIy+HJw0J+5evaH6KAbFJyd95pp+LYzu/KodRyleULbr/99knBYhy7R+V9Ib+qMzqu4j7dzT103zL5pUDt+/KXz79XB3YMesdGWNzb8vGD/Aaa4Mc//nFyViGWvUgKNULepqJFFNxeqmkGwiN0WAEXYdBlRbkOuskvEicMWGEnDiMEnLKXVdheIbGI56WXXprGKuGEmTwzMgehivwag6yxqbgUIi3PV869MUqxsJ93xqQqWJ7E/uT5O+9VV1013cc6/bSK/CLQxhbKbvm6jU1IMYUebIcIyqFuQkAnC8d4/PHHU7ixXOiq3PB+cI0/+9nPUn653w96z8pAfG+77bb0TEQmzMT1BgKBQCAwLgjy24f83n/ffcWPH344hQgzxBSF0rrJr7xZ25988snz2xkdg/LjHeO0HOKrqAvFdTbJr/1ReYQQUlrPPeecRHoZxwz1nMubm5Bnn1OJrvrMZ1KRq/L3yK/K0IoHyfvtbgoxlXN+Gb+Ol++TMOj9OtdGTbrhc58L8huYNOTAitjgYKqCXDTEU+ElfbAOIUHYOGYUb6EW39HpD3UIZ0Y3+UVmpA+IJpHHKrRVrixFlRNJVESv8FYVT52/KqhCsevm0/Uiv+oaGAfs1zUJC9cnffbVzlhSRbrcM2oz0iviQ3RHXSW8ivwielXkV2g45fftb397+j/yr2K35zDdZND+EVf3SwGupsTXveTkQF6zYlwXngHi6/rdk0AgEAgEAlOLIL8DyC9lVJgw4oZYfrJjDCncMijnt6rZB4VHuG/5c+cgp0zBGySx/N1Uk99vf/vbxd57753ydG2bG2N8ow03LK644ooJvxFuSZVSYbr7u4XN+UWmGbWM8yOPOCLCngOTBmKqYjJyWQUkz7tsyZ9eBLMMobz77bdfWkZK6Csiq9ibolp10U1+/Rb5plCXSZUcOU41ZBLRqwLVWQQK0mrZpl5Ft7rRi/w6HjJdBvKdCth1zrnKOYDYIb+U65VWWilVqq4b3lhFfsEyS91hz0Kx3Tu5wOAYCDny20RFbQrzBOKqCvdkFF/n5hlT6SnVTYg6Z4bq+I7tXgUCgUAgEJh6BPkdQH5towjMlR0jDOk9+qij0kLskyG/yN0Wm2+eiGB5SR/HUUhnnw4p/d53v7vAb6aa/Fo6iTH/nne/u7irY3Dm5vp27FyzNY/LRac0BW4QCrmG5c+1qSh49cD996fvkP8oeBWYLBA6fRlhrQJSY0kfxYMGkRK5qMiLiAe5l8KREVPRG0gkFbkOuskvMnX++een/mQJD3Au8myRUWtvVymF1GGhwPq3/qsYlL432bBnS4pwFBx55JEL3Atq9EYbbZSWXKsimYo/yccV7SFse9lll01kuE4/7UV+kW0h3OWCZM6Zo8KzAvfNc5hO5dd+EVfk072aDPEVKn355Zcnp0CdZ5OhmjTF1zvnPQ4EAoFAIDA9CPJbg/xq1riVK6gi8dOe9rRJkd9PX3FFynllRDME7R/xVNTFUj9vOvXU+WsC59aU/CZ1uWP8/83XvjahWdtXqLPr+MbXv77Ab5FuIY8UHQZn+btB5FdI+IcvvbTymFRuyx31I7+Kbslj3GSTTRa4/iC/f4F3F/FgXE+mWVuWE2eU4frkryJ1VcSDsqZ4UK6y3AveOSGnlvqitOY1b91Dii1yrYJxHXLTTX5BKKwIEGOIZ4OUI5urrbZa+rtqvyI2RF8oNJWXD9piiy0SiR2EKvLrXaJmWwJJzm5+R1yffuoY3UDA1UAwhsn3dV+EJjuX3/zmNwNJaS/yqzaAugIiQJzH3XffnZyBZ5999vxt7d8xOSOmg/zap2NTbJFXVZ2bwDNz/zgv3Oc6kQUZiC/F17Gr7nsgEAgEAoGpw9iTX2vYHnzwwcXJHSNXleafPfpoKkKjEBNSlrej1MqHZbzJdWPQIqbWwbVMDxJc3m9Vs718V0VlkEm5t4goFUcV5K/dfvuE3wgLpgjbDnnt/r7chCXLBaTcIJPd7fKPf7zYc489ind2ri9XoM4Nkf/c9den/Ea5uuXvKMkqQ1uHs/y5pkI0FYjxWnXMt551VjKuv9Uhzkj0m884IzkYyvuQB8nYdW89j5z3G+T3KVAhGdbCMBnXVLImTf4gEqfI0yhD/qxqzJREhKIb1srl6LLskXtaBeMEBRLB9T4q/FRWQK1zu+OOO6ZCTFXH6IY+oLq0pYwyhF8Ln9bvrf2qkJaoB0pqFWmiBGcl9Ctf+Uo6RyHenGKnnnpqz2vJUHRJLrSUhgz78E45rv1yGjgX6Q/uYZXq6bydI0ec0GzXJCyZw+xb3/rWwPDnu+66K93/7j6N8EvFQLylf1jT3DjGIZDxox/9KN1LIePTAeMfJ6S1nKvWK+4H99J78v73vz8pt03GLBEF3g99NEKdA4FAIBCYfowd+X3yd79boAmztSC7ZX2szYtsyi2jzljSp7wtQnZjh/QyJi3hgxBbquczV15Z3PHtby+wba+muBXFR+VkpBsZFmZHea3a3jEoxtdfd11Sn6u2yc06vYy3d7/rXZXNcT/aIemKWLmW7t9TZD/aORfVn8ufK0Rl6SaEufy5pshQ1bFyc0xkVyVeuZa3fuELyQlQ3od7ItyS8cnIRX59joSMO/lFbBjWiIviPwoEIXl1G4L2ta99LYXrUuxGHZbw4Yix7mw3KMPIKxLXK2+Ugkdl1E/sq5uMeh7UuWuvvTa904MgVFcobbeaq2qyvko1NRaIoOhFYhVfct7U6LwNZZIzSv8aFJ6rj9que01j90DotWJ1Rx11VHKQIGC9yJ/r8B4isWW4DvdjkDPANbuOqnvvXlN6hWF7z/0/w9iNXFN9LVs1lbBvud2cGULiJxPqnEPBjeNlJ8cgcCB4P4Szl683EAgEAoHA9GFsyC8wHP/YMdCitaMxRHsRgnEAwoT4MI4VAGp6LzgOECTKIueC5XFGHUKahceq+NyL4AbaBURfuLV8Z2R1qmBfnEkiIkQDTEbx5TywRJRQ6bqFv8C2+iTFt8pREwgEAoFAYHowVuQ3EGgT8nIrFKUmhjUwzOWJvvGNb0xKpbDOcSC/IJxXrm2dPNTA8EO4utBsyvNUgvIq+uaLX/zipCJMrD187LHHFp/73OcavWe2ld/LofXQQw/N+zQQCAQCgcBMIMhvIDCEUP0X6f3ABz7QOBSTcc2gl8OpcizFeJzIr3BvirdQ2ariUYF2wVrhwsKnUsn3XshdFvKtkJ+K1U2aUHLEl3rba2mqKuibrkU1aCHc8X4GAoFAIDCzCPIbCAwZGPsXXXRRMpLlUTZVlVTNVVFcOGXOWR0n8useyL2sWjIo0D5QZZuGJA+CPF15vmeddVYqcKi/NGn6kgrNiG/d/mk79SXUjJAvPu71DAKBQCAQmA0E+Q0EhgiIL8VXAaHf/e53jYkvxVfhMCHP5VDpcSK/gcAgyA23tJEiXJZsatpU329SpErfpPbK39fHq6p6BwKBQCAQmH4E+Q0EhgRCnc8999z5IZGK8fzbv/1b7aaiL8VYjm93qHSQ30DgL0B+9ZHJhlJbps566HUgCkFFbCkM+nUQ30AgEAgEZg9BfgOBIYGlVuQRCsO0pMyVV15ZuymMJX/x61//emWIaJDfQOAvmCnyqy9azuiCCy5I6xlHqHMgEAgEArOLsSC/Cv7I8frud78775On1me0puztt9+e1rakuvVaSkbuoKIotu1ex9FvGEHUNseogpA331k/+Etf+lI6j25lzjEeffTRdAzNuTVd2mYQGF7WOLXuq0aF6M6LdH3C+ZynJsRvqs+jfK3OQxhg2Si84447pjzHrw0455xzkkKkoI53pEkT7nzTTTelUM4qBPkNBP6CmSC/1im3XrzKzg8++GAUtwoEAoFAYAgwFuTXkieUMQQBEC3K2utf//riqKOOKo488shUGRcJrlpShpGElOywww4TtrnnnnuKk08+OYW0IYrdQCYRY4qe4zje4YcfXnzoQx9KhAQUNbrxxhuL448/Pm2jHX300cXHPvaxKQuRQ2CvuuqqdM3y1TTHEyr7xz/+MW3zhz/8IeWbvuY1r5l/nscdd1y65qkio0J5b7755gWu9ZhjjknXmu+rJUBU6h03AizkmZOlSZ5vBufNXXfdlf6tQpDfQOAvmG7yaxkkzihpCIhvIBAIBAKB4cDIk1/VOCmuBx10UFonErGw/Mv2229fnHnmmcXll1+eCN/ee+9dnHrqqSk0rRsIqN9svPHGxYEHHlj8/Oc/T158ZBFp3mOPPYrrr7++kjg/+eSTxaGHHlrsueeexWWXXVZ8+tOfTmuvbrfddikcjgqKXCKcthP6aruTTjqpmDt3bnHfffdN2kArQ+Xf3XffPZFfRPPjH/94IrfuC8LlPlF6N91001QB1Xk6lx133DFtRzGeivNQiOm1r31t2me+1hNPPDFdq2N4PoxGxqX/j5NaEuQ3EJgZTCf5FeVjDPvEJz5R/PCHP5z3aSAQCAQCgWHAyJNfhBfJfctb3pL+j0xRFqm4lptg/Gjnn39+Ira33XZb2q4bFFyEccUVV0xhbDz711xzTSKH8rmqVF/Heuihh4rllluuuPXWW+eruEJ+t9lmm5SjiRxffPHFac1JS2eA333/+98vXvSiFxVvf/vbJ4QdI8yUUWT1iSeeSJ8JsUOceq07+Z73vCeRdL/LBp/zR/pdD3KE9Dov15ZB8V533XXT8jndId+qEX/lK19J15aX/KDWUpjvvvvuSmcAR8PBBx+8wLUK850zZ05Sv52bfey2224LqNLjgCC/gcDMYLrI7+9///s0BitaZ34JBAKBQCAwXBhp8iu8meq76667JsURGDsIHRKWSR6ydfbZZydSJg+1CggJY4liudlmm6WwaWSSYou8VQFppSQLIUaOHRvZk6O57bbbJtLLWKKyItCZuDgWgrzVVlslI6ub/P7pT39K27suyjWC+I1vfKM44IADite97nWVhBEhtW0my//5n/+ZlIn99tsv/YscXXjhhamVwRmw5pprpqV3ukm1czzllFOKrbfeOh0fKRdavsoqq6R9ul/d8L3zsMQI+I283/XXXz+R+WyMclhQqam/44Igv4HAzGA6yK/5xPgmxabJMkiBQCAQCARmDiNNfqmhDBEkUl5tFZAvKiTie9555yWS0A+IK0V2nXXWKV7ykpckL3+VwlkFRI5SKt+V8ozsUVMpqMigv5Fj4dRU2fXWWy+pzT7rBlUB8X7Vq16ViOnb3va2Yq+99krh2f3gXIXi2b8waw159zniVFaw/f/0009P16uKcHelUiQN4XLcV77ylSlEe+eddy5e8YpXpHvfj8QxPKniwsXlNwt7Rszzb9zXLbbYIjkvqq5/FDFd5FfEgffWcwkEAlNPfkXwIL7SOES9BAKBQCAQGE6MNPmVm/vWt741hfZWAclQjEq4s9zdOmFqiAT197nPfW5SdJuEtlGX5dSuttpqxSGHHFLceeedC4QSU1ZVYJaTu/nmmxf77LNPIqO9yJCcYXm8L37xi5MKLXx5kDGHaFNrhRkLZ0bEKbgZfs8oRNSFim+00UaJWGelthtUZio4on7YYYelf+tUNqWI27/z2GCDDRKRR9zytboPrku11Kow7lHEdJBfDouf/exnyQn00Y9+dN6ngcB4YyrJrzHwuuuuS5E8ofgGAoFAIDDcGGnyi8AxUqiSVaD6UnyFCtetyElBQ8rWWmutRAzlqdpPFZAY5CMrw1RlBpN1Wf//9u4D3JKiWhuwgAISBCVKkCyiIoJIBgcwgMKAklRABEFUUHKSJFlyFMkIQ0YkI1FQFAOIATAhomK6Xr1X76941av991tOHev09N4n7TNzwvqep56Zs7u6urq6wvrWWrVKGaJEI57yEaBYoJFiZFB0aOS9G1izuQfPO++86T1Ete4EJFtd/Os4HFGq7XNeffXVq3333TddQ1gFa2GNXXvttZO7s73CrBrdCBkFAKJOIaA+nfL6nfLAs7iaP/3004mwIe2eRVGRSTPLMfdyigARoicDek1+uctrY27mos6WipZAYDKjV+TXPHbttdcm5VIEtwoEAoFAYOxjQpNfZ+U6qkdE4zawLgpYdcUVV6Q9sN2AkLBA2jeJGNoLKygT0vnII4+0ClHIhjNs7SNuXhfxmcUZ2UF8HX1k3ysLLnfowbj6/uQnP0mRkueZZ55k3e62PxYxUpfyPRFvll/BtpBexOmAAw5IAbq4Q7PONvcbN+G9uFrbw7zIIosk628nkuXZBESKhtJV3HN9I9G08/My+eVG2LaHeSKil+RX/0F8WXvtDx/oOwYCkwm9IL/cmyk/KZY6xX0IBEYb+rD5PtKsT835JL7N6KfhyEuBwIQmvyI9I3PIXRv+8Ic/pKjKgk4NJASx7ooSvcACC6R9qP6219a+38MPPzyRxyaQNoG1XvaylyXrZR6k/uVmbb+u6MvIN/LoqCX7fV0vUxv8fvLJJ6egVwJdObqJQNaJeApspS0Qogz/d6TSVlttlVxjuS8vvvjiyVI4mDoAd2ikbdlll01WYu1TRrYuoQ24XHNxLvdWI2xcybmEZ5KmXFbpiy66KAX4mgzoFfl1P8XO6aefnvpfEN9AoD+QX/M/LxRz/1CTYHzmrGOOOWZSBeULjC2Y63/3n/9Z/bqWPyLN2vSbX/+6+kPDS41nCPmyLX+k3qT/9z//k0hwIDAUTGjyi0jah8VS22bZRVhFfkaA28haBkJpbzBih0DmKNGsl1yGBYQS3bhJMghWztd1n3pk92iE155eRwuxhAoqJVCUiMzckVmSJffms4mb4CLtHvciOspHxB0P1Ab7dgWQ+uxnP5vqwYqN5DraCHlnjWWJVqa9yLkOOZnAmxOMNmP5YKE97bTT0v5kZdjTjFg383sP+QT70u7utzgIbmX/sXcgWILo3CzBrk0W8tYr8qvtkV4u45Nlv3QgMBQgv2IOILEUgENNr371q9Pcyzsmz1mBwMxGkN+xk4L8zpoU5DcwHExo8os0cSFG+tqiICOeLKb24Jqk2mBQIaDy2acrInEp7NjvymV3s802q+65557pv/4LFibW35NOOqlacsklEymUnBUsWJb9w1yRd9xxx2ruueeuFlpooWqxxRbrS6yp3KOb5I/gtvPOO/e5TbuuLJaIjTbaKAlkTdgP7JkrrLBCtfTSS6ck2NSBBx6Y3gnBRTbVo6xDToJrNdvooYceSpGeWY4F0lIPrubej7t5215hrtas3ssss0yqg2OR1Mm+6zIiNyuycikAJgt6QX71wU9+8pPJXbz0NggEAv+Ged3cbHuFeWeoieLU+JosirnA2ESQ37GTgvzOmhTkNzAcTGjyCyyagkdxEW6CBZS7LwGok/be4sLCi7TJ2xxkrJfII2sbN7omlMtSbE8Yq6zoxaya7lGu5P/q2UyOAspurCU8k9uwlC3ayuEqrI7+34R6IM3O4+Wuff3116c9a0ird2IhRJrb6iER+JptZM+c91aPfI21G6H3Tv7fhN8IjqzL3L0Fi2Htbka13mKLLVIgLPWbLBgp+UV4uc77vhbc4ZQTCAQCgfEBc3yQ37GRgvzOmhTkNzAcTHjyi5CyWiJTszJwEnJo72reZzariAkXbqTVpNxGTmcWEHhtoS5N6wkrtD3Kzg2eTJYVR2HZE33iiScm6+1QEnd8ln37tikXgvgGAoHAxEaQ37GTgvzOmhTkNzAcTHjyi3RyW3aMzqWXXjr918BYxm677ZZIHIv8ZAIXeu75zgq1D30oiaKAizji27TQBwKBQGDiIcjv2ElBfmdNCvIbGA4mPPkF7s2CQiEVgbEPwbyQuJjQAoFAIBBoR5DfsZMmC/n96bPPVo985SvVVx95pHrqySerX/3yl635ZlYK8hsYDiYF+Q0EAoFAIBCYSBgp+X38m9+sjj/++GrPD35whvTRvfeuzj3nnOonzzyTYnM4FeJnP/1pazllQoqOPvrolP9bjz/e9ztvLgE8254lOTnjxBNOSOdmt13PiRffl774xerSury269JeH/lIdeYZZ1S/eO656tFvfCOdrHHSiSdW33zssX515W0l9sinzjuv3+/DSaNJfj93003VwaLTF+8o6vyRRx6ZTtzwnjnvfffeWx1av2+Zt0ynnHxy9exPfpKIq61W4oR89zvfqX75i1/0e6bTQMRd0X7+/tEPf1h99sYbq7322qvaaurUauuttqre+573VEcfdVTyPHvu5z9P+R568MHquGOPbX22dMjBB6c+VT5rJCnIb2A4CPIbCAQCgUAgMM4wUvJ77z33VOuuu261zjrrVNtvv32/5EQJ8SS+/73vpVMhHEf446efbi0np5//7GfVJRdfnE58cIrDWWee2Xft7LPPrt5Xl6nsLbfcMuVR5jve8Y702/vf//7qsJrYHnnEEenv7bbdtnrrW95SzTbbbOlIxm3e9a70+0c+/OEUGHLXXXetFl100XTChd/LtON735sIGFJ4x+23p5MlnLRxwQUX9HsHwTY/XJf3rrrs/Ntw02iS30984hPpeDXHdpbvqd5vf/vbqwvr98rkFWl95StfWU1505v65c3pqJowI5+UFMstu2z14he/OJXf/LY77LBD9Y667DvvuCMpPRBf32Tbbbap9tt336Ss+GBNZvUdRFxgVPdRJvjtDW94Q+vzP/ShD1XP/PjH/Z41khTkNzAcBPkNBAKBQCAQGGfoBflFHo895pjqa+JGFOnrX/taOnFiKOSXBfHwj388HWG46aabJmLbd60uS5nKvv222xKh3X677ZJV02/f+PrXq8cffzxZi/395Ycfrq6sidQcc8yRjj50SobfH3v00UTekF8EC8H2e5k85zs1GeOSi/w6NhJRRr7uufvuPlfd8UR+fadPHH103ztqn2uuuaZ659ZbV6u97nXpb2Qf+V1ttdWS1b5sk5y+/a1vJaKM/K6w/PLVYnW7rLjiiulY0NKyX5Lf/F03WH/91Gdc14aswSzSFAs333xzUn4gvxtvvHGy8LY93/drWplHkoL8BoaDIL+BQCAQCAQC4wy9IL9Tpkypzj///Nbr0lDI76233poIrXT8ccele0rX55wQsDfX5NgxlIhq87rEjfb+++5L5PeiCy+cwVqI/K5fk7FrawJY/t5MyO9KNblD5lZfffXqiMMPT0TctfFEft/85jdX5557br/fkdVbbrmlWmCBBZJFVxshv2ussUZ1w/XX98vbTMjvq1ZeOVmOl1tuuWR55wafFQMl+bXH90N77pks8U888US/cigtdq3vFavFfmDkl+LD8aJlvtFKQX4Dw0GQ30AgEAgEAoFxhl5ZfpErRLBMmbQOlvwiPvaTbrThhtVnLr88WXSXWWaZ5DrdzNsr8sviyb35rjvv7Je8V95XivxyA75q2rRq5512qjbZZJNUP+WPd/Irscq+5jWvSYTzB9//fiK/r6vbxf7pZrvcV7dn/q7Ir/t8W1ZdBNg+6vyNS/KLFB94wAHVKquskvb4+rYP3H9/suLKXwa9Qn7f9KY3VXvvvfcMz2d1z3uIe5WC/AaGgyC/gUAgEAgEAuMMvSC/3I8Rpz333LNfOvXUU1OewZJfFsC999qr2nbbbRPx5OLKqrh+XX5JjqRekd+FFlqoWnPNNavNN9+8X0LckCzPzeSXq/Wtt9ySnmuvqvpNBPL7vaeeqqZuuWVyAfd/5Ne3WmuttWZolx133LG66KKL0n2Z/AoG9uQTT1SbbLxx9ba3vjX1Ce7TJfn9ef0tBNbizrz88sun+3xb+68/ff751RcfeqjPZRr5tTdZnubz9Y3TTjutX/1HmoL8BoaDIL+BQCAQCAQC4wy9CnglvbsmO2VCuOQZDPlFMqddeWX1lre8pdppp52qh7/0perzd91VHXzwwdViiy2W3IxLAtwr8ouIcde1J7hMZ5x+eiKCTfKL1AmohZyJcv2FBx6YEORXALE3vvGNfeRXcKzddttthnYRvfnuz38+3VeSX3t1uUmvvPLKaV8xa3JJfuW3T/db9XdTPuUIjwF7qV/60pcma/qDX/hCal/kd4MNNqi22mqrGZ5/2qmnVjd/7nP96j/SFOQ3MBwE+Q0EAoFAIBAYZxgre34dnXNQnWeeeeapFlxwwb5kL+pLXvKSdDzRs88+25d/Zu/5zeTX3wJhsYC+7W1vq06vSbLow+Pd7RmZZ7XNbs+D3fNbkl+/UQTYF331VVclK20mv1zaf/CDH/Q7oggZ9h1F6PatBb7StrHnNzAeEOQ3EAgEAoFAYJxhrJBfLsQsjSIP33brrX3JPlsk0x5UkYFz/llJfqWrr746Wak322yzVM54Jb/ayLm+lA7HHHNMIqcjIb/2A6+37rppbzQSnMmvPdJvrcm1/b7NciTRpXkLCIwV5DcwHhDkNxAIBAKBQGCcYayQX8fqbLrJJtVRNTliEcwJYXXu71xzzdV3FI/8s5r8Kos1eskll6yWWGKJcUl+uXTb16zujhrKbt4jIb/uP69+Bhfqueeeu4/8akOKja3r1PwOrM0Cm4XlNzCeEOQ3EAgEAoFAYJxhZpHf/fffv5pvvvnSub32cpbpgppsvX+XXZIl1bE75b3I7le+/OVqttlmq/bbb79ElPzeK/K78MILp/3KzTohhJ6njDbyi+R96YtfrHbaccfqxS9+8bggvyItI7X5Hd+++eYpyBWlxOWXXdanWEB+/SaQWdkmOWkXpLmN/Era2T5qrsyZ/D79ox+l85RfWZc7pe4vRx99dEpHHHFEtVZNlO0xlu+5uhzkd5111knW4Lbn71L3FZ4C+XkjTUF+A8NBkN9AYILiN7/5TfXlWvD4Ub1wNfHnP/85ncl4YS1UOJ/v1/XCTZDqBIvLd77znRQp8sknn6y+/e1vV1dddVX143qh/N///d/qi7Ug8aUvfan661//Ov2OQCAQCIwmRkp+HVVzwvHH9wVBaktcaa+sCQ2yaU/oRz7ykX6JZVdkaCS4zTKMTCFcxx57bPXDH/wg/ebfk046KZHap+r1pHmPxHL8zcceS89F0nM04ZwuuOCC5Got+FKzTo7ZOfHEExMhRK5ZJZskG+ETfGmfj30sEbvy2nDSaJLfG2+4IbWhKNX5HT9W11vQrs/X365UDDhOiLKirV0k7UL5IMLzYYcdVl1z9dV9xDknSofDDz88fVdRvCkLfCd59QEu0NzZ7QsWQEzgMPuC3ev/Rx55ZLXHHnu0Ph/ZdnRS+byRpCC/geEgyG8gMEFx//33V+973/uq2267bfov/8Lzzz+fNO4WL5pYZ/L5G1HuRID/8Ic/JE2y4wostpdffnmK9og4//GPf0waYAve/9QL0Te+8Y0kfNhXFQgE/gXjDgEw7jbccMNkXWEp+6//+q903dijVCK0ui6fM1L/8Y9/pOtt+NOf/lRdc8016dgRwqr7jWnj8u9//3u6f5tttql+WhMHf997773V0zVBCUwMjJT8IpRPfPe7M1hVy4SEIquP1kS5LXG3RaRYdZGktvu5wyJcmWT594n6HlZl1tnmPZKyEFQEHQFvlu3etvpI7hEIyj3e0bOb5Fny3va5diLgQ0mjSX5ZXtWzfEeKAYroZvtpq2beMmkX7eo+38Ve7Gbb5n7hu+Z2k0fZ2vYLX/hCiu4sqrfySvIs+Jly254tIb5t32K4KchvYDgI8hsITCCw6H7ta19LQi/trKAV11133fSr/7Lgnn322dWrXvWq6pJLLknW2htvvDHt5XEUwX/WglQbfve731UvetGLkkvTL2ph5if1Aodc/7JeEP+7XvBpdPfaa69Eku+5554kvNvzEwgE/kVSWG3sUWT5YPVi0RJwB3kF43bnnXdOe/tcp1Ayfo877rhEctvwzVqQ5EZIEfW5z32u+n5NQFhmHnzwwepvf/tbUmotvfTS6XfkmzVGvsDEwEjJb6TepdEkv5E6pyC/geEgyG8gMIGAfLL07rvvvmlvTpP8EogRU0Lwz372syQ8/eUvf0kuVM5nfOSRR6bn/BdYi7hNv/vd7077tpwniPTefffd1UEHHZSsvCX5ve+++1JeZzs6ZJ+lK+P6669Pz2HxEhjlscceSy7ToEzBPBBnQv8pp5ySXKhpilm0EAXk4TOf+cyALtqBwFiDfi64jv14tgoQiL/+9a+n8bTPPvtUzz33XOrbvDA++9nPpuvPPPNMclFcYYUVkvKpiZ///OdJkSU4jbFu7LDwnnbaadXjjz/ej/yysrH62jP40Y9+NI09cwXw3DDOWKEfeOCBRJIzjH9WHvVx1MnDDz+c6up9vve971U333xzem5Yk2cNgvyOnRTkd9akIL+B4SDIbyAwgYAwssp+9atfTZZXh82X5Nf1l7/85cklmYtyBpK68cYbJ8tuCYsKIRzxRH4RZNbiT33qU9WKK65Y3XDDDf3I70MPPZSIqgianm3PkGdyk+YyzaUTAXaAPgIuv2coz3EYu+++eyK755xzThL45VM2gZ0rNfdOlmoCeyAwHoCg/P73v09ncRqbWXGDnBoDzhxFTG0b4IGRrbzGBcWTSLlPPfVUIqIlEFFjbamllkrBcBDhb33rWykoEQVYSX79TuGEgLM+I+GIMkLLS+Q973lP2iJBMWUf4G9/+9tUT3VhjWaJFuDGNQQZ6VW2e1w3rpH2wMxFkN+xk4L8zpoU5DcwHAT5DQQmKAioCG0mvwQl1p75558/WWhZfDPOPPPMZEFy6H8J97Dy2Es4++yzJ8EX2eUy3UZ+f1UvRtdee22y+jpKgou06yI/shSzSBG6WYvsaUSO1Qn5FXkSASDwu8+/CyywQHXXXXclAs66xEom6JbnBALjAcYQRZNxWCqcBJBj+aXYQVYplnhNZLjPNgTbDYxlWxpKGA8sw7w7uEqz0Ao8R7l16aWX9iO/3/3ud1MZWcFEgWUcCnhHoUT5xfLMamweMA6Ne0om94jka6wiuDfddFNytXYfZZmxy9Xa34GZiyC/YycF+Z01KchvYDgI8hsITFC0kV8L8bzzzpv2BGaXYyDAIqzcjdvACov82jtoobnssstayW9zzy8BnEvlnHPOmay/gmrZ2yixchH8f/jDH6bnC9TDFRQE+UF+CfKsTVymuWQru3TZDATGGxBgJNWYQVqnTZuWlFH2/773ve+dnms6sZm+195RNG3eDpRRxpGxJ38n8mvcsuLyvjAOwbhEYuXJrs6Cbxm3iy++eBLcPXPVVVdN+5SRZbjzzjuT4kqkXb/JxzIt8mxg5iLI79hJQX5nTQryGxgOgvwGAhMUbeSXMPuSl7yk1fKLsJ533jBCBaEAAG2/SURBVHnTf+mP4ZJfAre8XKa5d5ZHZXCLJnjbN4z8us4tNENZiC+rEwGfSyYBm0s3oSIQGE8w/uyTdUTL9ttvn4iocffss8+mPe8IZSfyi8yWVuOMkZDfiy++OAW+8xsLruQaF2cKMs/L5Jdbdo46jegecMABKaAe7w7lGPP2MgdmLkab/OYIvyL7ivjcjArcluSTvzxaSDRgvznzNx+JUybRjJ07SyEjErEow8ZEpyQ6c45CrczmdcfteH55fu1op9EmvyIki/AstV1vJvm1gfbRTn4T4Vl0Zp4f+bcy+b7O4KWk9k3MVyI6N9tXeqBOX3744fQd3Ouetnzl80cjBfkNDAdBfgOBCYom+QX7b+37E2G2FKYdoj916tQU9KYNwyW/XDU9C/mVx35eAa0k+4i5WbPwNsmvZ3ima1yluVkL4vXa17427TO0hzEQGE/g5vyhD32oWmeddZIixzjJ1lx9XL/u5PbMpbn01MgYCfk1Pm0rWGaZZdI+4DJNmTIljd1Mfj0/w9gUZdqcwW3bWOfyTFEVHhkzF6NNfhEbysb31P3yzjvumOE82GZCrpydS7lz0IEHJuLsdyT06KOOqj5c939kqCzHPdzpnWPrrGBE6eqrrkpnyOq/bemWem1T5l133pnWBUqj8jrXfr9f8ZnPpLOHB0PaR5pGm/w6PsjWA95ZbdebiTLhkIMPTvvxtZfffI/P3XRTUkKbI5r3OBLKd3D2s/N9b6q/i7nFloyyfaU9xOf4+Mf7ji3ixWX+MreV+cTqoOR75CtfmeF5vUhBfgPDQZDfQGCCoo38EohFlEVEc7Rnro6EcosUTW8bhkp+WXWPOeaY5E4p0uzcc8+drM3ZvdI9gu7ceuutScBukl+CN9dsC6rr6gnIM2HcvsNAYLzAuBO8bc0110z7bAWUKvGb3/wmkcl3vetdfR4ZxpmAVMaOPfB5DJQYCfmVR/RnQbcQcwkJN05Zc93fRn7NG8a0OcE49kxu0ZRqzWjxgdHFaJNfxFTMhfnnm6+6qO63/m7LlxOr4sdrQiRI28orr5wIc7526SWXVMstt1z1yZNOSmcD599tddFP11133WralVcmq67jvRZaaKHUN9vSrbfcksjvJXU/pUzK/TgngeA23XTTapFFFklkr83a3Os02uSXlRXJRzDbrjfTOWefneIBLLroomnd1AaUAHd//vNpuwWllVgAOT+FxEknnli9rh7vp5x8cjq3+YzTT09zlrxl+0qU10fU5WbySzHtm2+33Xb98gnAJ27AR2rC7Qzg/LxepSC/geEgyG8gMEHRRn4tEqLCrrTSSmmvoUBWAkgRFM4666x+x5yUGAr5FcHZc0WQJUwTAJBhUWFdIziz5FqA7WVEdJvkl4X6K1/5ShLk7fclmDvQn1BDC23PcCAwHsBdmGvzS1/60uTyTMHk75wQYWPAmDIOuQoSmI0FAa1Ecjb+2jAU8usZLLSsRyzKSId9u8ad44s8UxAtFmHB55DlJvn1jDPOOCORaPOGujt67Pbbb08R3h2BFph5GEvkF7ESuA35QYT0IeQnX0e+tt5qq0SmnDWtLASWJXO9mvgeesghiYAhv86c1+/K8tsS8mvMHLD//v1+Z7F+7NFHq3nmmSetF6ym5fXRSGOJ/CKk795hh2qTTTapVnnVq6rt62/ypXpucO2ZH/+4urgeu8svv3wKbJfdlrlIr1GTZeWbR/yG/ObAlLnsTsk3f2+95nOTLn9ngWYlRsSb13qRgvwGhoMgv4HABMXnP//55DrW5srMtcnit/DCCyeLDW19tz17rMOOVCEcW2gQ6vXWWy8JvXlvrjIIywRpwovyuUXm4FWEFIK5ZypLhFlWJBBpluU5/w1ItWORBN9xj2QBZVlGjgOB8QDuypQ8+jFhFAEtk33sgr7Z+846TOg3niiUEEoBpjr1d0IqYdUeXETIvjtKqSuvvDKRX6QYeVa+MiikkA9RnY13+YxjBNgzWXOWXXbZFLHd/bZGsKx5TgYlFFdKHiTG/P418XjnO99ZbbTRRjEuZzLGEvlFZE/+5Certaef767vveENb0i/5zz2/erf+9frD3L6xYceSmuUhNzJk8nva2vyjMQ1k/IyYetEfiUkz3qzxRZbVI9/85szXO91Gkvk9/777kvjmiVX2xirlN75um0LvL0owbWN78pN3KkM3Nbzd87kl7W+7TuU7uudyK/929yjlX3fvff2u9aLFOQ3MBwE+Q0EJikQWRbUX/7ylzOcITpa4GbFNZLFKAfQ6QbCHQuYfWcswW1BfwKBsQxjiyux83QR3Way39HRXfo6JZHzdLkKIqqIb7dxwnLM+4KiCyiPeHDYE+++O+64o+/MbOB1waWZQoyrNaGRIEzwRRLs11PXDMSdhTdHegb15Inh3GD15KqtzmWewMzBWCK/33r88WrfffZJRPZHP/xhcnNGPu3LLfNxlUWE9EOKE3vMuejm68ivcbHcsstWN9Z9u5n0ad4T8iK/FEqeWxIz7rUsnS9+8YuTy+/3p+cfzTSWyK/xyDvjhuuvT27fxrYtRPn7Ia0I8itr8mvMC15F0XbUkUcmsprLQX4RZ8qu5newH/jRb3yjTxGB/FLeCTZWfgsKj13rZ0ypyynL7lUK8hsYDoL8BgKTFAQnArJ/ZxaG88x8TzcSEAiMZei7SHBbIrjl8eBfv7GgsrwO1Ofld3/Ol+/Pf+fnluXLXz5THs/q9Mwyb0Z+jnuk8hmBmQdtPlbI75VXXFG94+1vrw488MDkAo1QvfrVr05u0GU+RNS2GGTJHmBeC2U0YOT32GOOSUES53zRi2ZIyrQVRl7k17nUykGCc+KFsPRSS1Xb1UTc/uKJEPBqsOSXeznCKrgYl2PtKQCY6Oyl5VU057POPDNFdmehX6tuR0GpyrZCflmH55hjjhm+w4ILLlidduqpfZZ93xOB5ilSfgv7ff2mf4zGdwjyGxgOgvwGAoFAIBAIjDOMFfLL0nrwQQdVy9cklMcCr4B99tknbVNBnsq8CNBVV12VCNebN900WRBLUpTcno8/Ph3DJfpwM7EesijKi/yuWxMrrta2yOTEfd+2m2WXWaafdXI001ghv4JICjxlK4JtCfb1iq9h+4NjzHI+bS5AGbfx+eefv7r2mmtmCEiF/LpXGc3vwPtD9Oj87ZBfigl7rPN34FqNiKuPAJhl2b1KQX4Dw0GQ30AgEAgEAoFxhrFCflkMHdXl2CxWXVZGpArBda48YlXe6xgd+Vgnm+fW5j2/gw14lcr58IcTKc4JObv66quT27O9rqycbff3Mo0V8ot0Ipusrb6DtPbaa6e9/LvU36jcg21f9GGHHpriftiD3bTMDjXglS0Qt992W993eOK7302u11tNnZrqUT67VynIb2A4CPIbCAQCgUAgMM4wVsivaP1vq8mN4Eoi+qf04IPVZ2+8sVq1JkVbbbVVIlo5P3LK6muvLoJUljVU8tsp2rNnOHJpMu35dTzRG9ZYIwUbE7gqfwsxAXb/wAfSqQvl8VMst1zMX/GKV7RGxB4q+W0LeEXRQTnBQl+6t/cqBfkNDAdBfgOBQCAQCATGGWYW+XVk0CeOPjrt4xWhOSd7SpFMkcmnbrllP2IlITsHHXRQtdhii/Xbezsg+T3++OQuXT6rTNx1WRE7kV/PEXQL+UUEWSHL66ORZhb5ffvmm8/QHoJ7aV/W7le+8pXVVdOm9TvbWICrc885J0WA5pKefx8M+bVv1z7u5jNzKgNetZFf39r9b1xzzWRdLq/1IgX5DQwHQX4DgTEIAWREtHQWZ6+OD1HOgw8+mM7eFdhmNCA67A9qgedL9QLoHQYD7+m84V69ZxtEmRbZ2pFNvQThRt2dW+nYJ0fKBAKBwMzAzCK/Ah7ZzymQlKi9OTkii5WWW+veNclsuhfbm3vTTTel+1mHs/V3IPJ73LHHVvPNN1+/Z5UJKXuyvq8T+ZUQO8fjcbdtulaPRppZ5NeRac32sC8X8WUV9o2cy910Yb6jXp/eufXWyQpPMeC3wZBfAatWrgl185lTpkxJR7UpQ95O5JfiwVFH9hznQGW9TEF+A8NBkN9AYAziz3/+czoKQsAK5+j2As7g3XXXXasTTzxx1I4MQi6d2SvQxfPPPz/9185wtqkjGATiUL/RwJ/+9Kek/ReABdHuFZyTenotHBA4dt555xToQ7AXJHi0lAuBmQdjhKJIH+0VRFJ2ZNd/1oRltGDcUfTk447a4Pef18Qmu0R6R3NOr+EYNWcEI1Dq06u5rA3e2znHxnsJBNHRatrk3nvvTYqwiSIsjzb5ZdXTXiyxbelT552XjtJxXvTdd9/dej+LpLyO7cqBqpDgK664IhGyTJ5yEnTJMTzNZ5XJvtIfP/10sjxfUa83yi7LkFg7RTO++KKL0hFizeu9TqNNfrk0O2KorT2sn6ywl1xySQomRgHdvJ/rNzf0yy+/vK/NKTe0tX3RpVt6Tso879xzW58pldGeP/3pT6f6qWdZBgv0vffck8r5Sj0+y2u9SEF+A8NBkN9AYAyC4P2JT3wiHRORz+gcKQiHFkfk7C9/+cv0X3sLCz1yLcJjUwht4ve//3117LHHJq2z6Jz+Hg2cf/751Yorrli95S1vqR599NHpv44MyIPzWe2HOvTQQ5Pwd8EFF1RbbrllteGGG6ZvRjANjF84X9oY5LLXK1CK7LHHHj0l1E38uhbCKXqMrTYlDEHx/vvvT++1yy67pHM+HYVyZk0U/rshvI8ESJOxsdtuuyWlm3+ddSxKbK/hnRAg7/NcTXoyjEHnGDs31nuqx957752I10QQmEeb/EYafBpt8hupPQX5DQwHQX4DgWGAiy7h7tJLL01CI2HqiSee6GfttOjdd999SSN61llnVZdddlmyPpTuwM8++2x13XXXVeecc0510UUXJUsM4pTJL7eie+65p7rwwgtTHoQLSexErFxjaZHfM6dNm5bqJT/Ce80116Q6+T9h8bzzzqvOOOOMfokliBXIgsJyw6VXWd6Tdt+Cnp/veQ888EAiftINN9yQBN6ByC/yqC6sviKCshS3kV/P8bu2Ka06XI2921e/+tWOC59naG/RQB2boS07kd/f/OY36Tv4jpkw+Ja+mWc038X3OfnkkxPZRTZAmynjBS94QfXTn/60o9UtMD5g3Oywww7JbbJXMPZ5C7DMjBbMKVOmTEleCG1bCZB6yqZ3vOMd1SmnnFKde+65ac/maqutlrw2egFjiLeF8YGEU0Dtt99+yT3TXNILmBvMRQ8//HBy+fSdVlhhhWTly2BpdsTKFltskQIfmUMF36GgMm+Nd2iDIL9jIwX5nTUpyG9gOAjyGwgMEfa1siawljhLD6naZptt0hEDyJXryOW1116b9kQRvOQhbH7gAx9I+0IzqSOQbbvttun61KlTU36WWW56yO9rXvOaJESyALNc2s+D2Haa7O+4444k2NrXo0z/svCwhnjeWmutla5zT2aFcTTB5ptvnpJAGc77IxyyALnntNNOS++o7vKoI4JHqCTI+786Ezy1AcuKPVgDkV/tJC+hGAH2zE7kFwH37sqncFA37uCbbbZZItBt1q3cvsjLIYcckr6B9+hEfhEC1jIWYsoD99ufZJ8SQtC0iHn/G2+8MREHz5dfmyLpjvbQdkF+Rx+Izi233JKUFv79/ve/38+rQR/g6srVL7lZ1uPDPaUCyj0UPPJQLuljSGMmv8YcV2XX9QVWU0JtJ1BeIVby8wigTCIA6w/GrfGtT/s7l1sm9aSYAnn0TX8ri3KJ4qd8vrLVyb3mHP12Shfy6zqPBcos0HcpltZcc800pppQB9f192eeeSb9po25hFOGtXmmGB/OWdVe2dXZO7N6m4+a85e/KYzk976+j3pRXvmu+bklXP/FL36R5gJzqKBKvEhK8qt9t9566+qII45ICivv8sgjjyQSbqvCeIc2CPI7NlKQ31mTgvwGhoMgv4HAEEGII8ARFgWQevLJJ5N11ll63OsQH9ZAAhdCTNgiSBPs3MP1GGFiuWSpYF0kSLL6IrlHH3102puK/BIg/U3gdZ2Q5wy/NmJJYFQvQm/e20Zg3n777ZNw3CS/BEcWqKeeeirV37NFg1QvgqJAJYJdsFTJI7l33XXXTfVxL3LNnZAQbE8fsqzO3civ/Y4sTeqqjqJPdiK/GciJtlK+dkTGWV47uYRnqy0LD8GZyyWi34n8EiLVRb1TQJBagBbAA0H/2c9+lq53gjogVSz8b3zjGxNJzwJ/YPTw9NNPV/vvv3/qC74bK+Nhhx2WLPVIjv5EOUJx4ogPJJbyhpIjKzMQ3wMOOCBFNJVnSk0aKWOQPWPWmOA1wDPBdUmf8ow2Ysn6j9wikfmZlC4srAgjxRhPB+PNeNWHc7nO5TR2KE8olLwDwVm0XOPeOypXXQSUU5b3sMePosv93lWdWXE7kd+bb745zSmC4oA85gvvZd96EwRL487RM95Df6f8Q2Ttd28jpvbvq2e+Zvz4XuYK475ZL397J+QVmfUM3hjq45vlupZQpm+M8JuzfP+m5Vf7mtN4pWSY91ij/T7eEeR37KQgv7MmBfkNDAdBfgOBIYJQ/PrXvz4JUKwVOdlvxsqA7FrwEEIuxsiT4EiENMQRqUUMCV8I2a/qCTzj1ltvTQI7IiYfwY8bIxAoEWcH9yu/ScgQPq6FBGUCOMFeObfddlsi103ym4GoERIJ6oRbC7b67rvvvkmIRsTzOyIFDsQXwIblmNDO5ZCgDvIqvxP5tUixUBHQtY+/B0N+AWHOBAE5YBVqA0FalGzRSdUTSSCodyO/oH0J0SxIrO1Ij/YrrYRteOyxx1LbIcvLLbdcUhZo026EOTBy6J+UDcYVZYyxwwPB78gTgqqf7L777mmfKcKm780999x9+0IR4Sk14WWxl4eyyJhDgI1z41l/5y7rOgXP0ksvnVxpy3GbgXhReBkX8utviBePAn2iJL/6h3rIJ7Fwqq8+jowaP+oluqs5Qf0p21gt1dv4lo+yhRWTlROBpABwNE0n8pthzAp6pd3UefXVV09W6jYYGxRIvD+Md2MWWVavgWAuUS+Em5IhW5yboByQx/jTPqID27LAu0S7dYP3PPjgg5NiMJNf7evbm3Mp8jLMb/qMOXy8I8jv2ElBfmdNCvIbGA6C/AYCQwQh1BEKhEtWmZxYXQhUSF12CyT4EhRZlwityyyzTCK1FkUCMbfZNithGfAqR4b1G6sn8kvwzoSzBPKGiBGw1Q9BJXh6Rhv5Rey4enJVZpHhcgj20RFuWVLKd5QI/yyxBHVWUgJ5BkuUPX2dyC8iTxgVFAuRYBlCNJSFaDbdi0twF2c5J9hTAnQSiBEKCgDtwFrtGSxUXD0RjG7ElKJC280+++xdI1BrN1Y+dfAt1Z1igNXKsR6ISDfiERg5Xv7yl6fxw6LISihRWhiHSJz+wipKOcETw7flpWH86CO+oT6ijNzv9AtWRpHWM/m19aAEksjS6noTyC5PC+V6Pi8R9eIVoK+U5LcEsk7xRIHCygqIqbFmjJXvaKuEcYDI+z+CmPevqj8FFMI+EPk1R9lCYYxTKBkfbe+UwXtE25ortIt5bSDFEBx33HGpvt4FeTYG2+ql7uYMHjSescQSSyRlnncfCG3kl0DMcqx9zMkZnoFQ82oZ79Bmv6/7ThspiDRz03/UY7O5llsbfhvkd1RTkN/AcBDkNxAYIgjTXBORWQJmTtwb7RFkkZQQV4IycoessWRky69FkZXQ70htht/9jahm8kswhoHIbyZkhD9CP7fDNdZYo2/fahv5ZT2yH5bV2ntlILTyEljLd5S4F3LBZm1iJWuSX5adTuSXgK8+LGPcVaWVVlopKQWcYUgo7QRWLkL0XHPNlcrpZCn2/twnWZnyXmvvwaK0/vrrJ+Gb4N+EBZTwjwi87GUvS/uz2yzsgJggMCzMJby/voHAdCLOgd6ARZRFn6UzJ+SMxV/gNt+Yaz6FkGvve9/7EhGinEB+9R/eF/pDG/QFShR5SlAK6VuszU345oiz/qyv8lYwxj1P/2ojvzw2kFBkzFwB+hyL6Qtf+MLUfymd8jsaJ8aQ+URwOV4Txn0Gko8wG6ttJNM8kZN5xFylzrw8tE8nyM/NXP82L7W9f4Z39WzvQflkbvEdtBvlQDeSTXGB+Bqz9t8PBm3k1/xoXjMX5T3UYI41z0wUyy/CxfobadYmSgh9q4Sxba1tyx+pN+nPtZzRZggIBLohyG8gMERwUSQocqXLxMjkS8AiVCFGLJvIMTdKkI81kEtjJr/KYNlAsEAZBFouyEjVUMkvq6pgOSxXuV4skkg599Am+SUwEpAJ4yy59iETWpVLOLU/jwWrtLD6P2JHwCSIu5cbZNa8sjrtueeeHckvKzTLsPbJiUDM2nPqqacmV9U2eC7FAbIjf3Z3zc8tka1o5TPkZ8FDRhwz0xYky15Awj2rPjIw33zzJbfpklhkIPyINYtyLkubC1S2wAILpEBepVIj0Hsgv1OmTEnKmJx8E1ZJ44CyRP9EhpFE/dZ3y27PSKJ+1yS/SJ6xYQy0RXvuRn6NHaSb1ZfngDlAP5LMC4ThkvzqM6yS9vLaX15aoFk8EXV1RIDzO+b/m38Ec2PtLseo53CFbiO/yvVe5rBSOWOsCqbVtHKXMA6MbZ4XrMQswZ2gbXmPlGPAs1mqbScQZb4N8lAWLLXUUtVLX/rSRITbxngTbeQXjGdjX3/I0MbiAZhPAoFAIDD5EOQ3EBgiuAazXhCqkMgsqCKK9gISPpEv1k0ulYRp+2UJqlw1kVrC6pFHHpmskQRyf3MDJlT6nbVkqOSXaycBGrn1PGBxYZ1lxWySX26L6kNotDeZ267EGiyv/XyIgz3D4D2dkSkqNNdvLqQsbSzMLGwEe27erKadyK8y1LtMAoMpg3u3620g4HPl5N7JlZnw7538vw3NZ9j7RwlAqdD2DMIzsrTsssumNvbNWIlZgbmvK6OEb2LPt2+e9x6zwAh4NttssyXyMxihPTB86LsIFrLpe0lIpe+nD1M8IZ9chX0LCYGbd955E/n1f0QW6cvfSt+wB9Z2geGQX+OCFVe/1GfUybjUJ+wFpxwpyS+SqB/zvigVP+phnplzzjlTn0JU8zuaJ+wFlp+bvfHttwzvzvOhjfx6T0otZLsMImXsUgJwu+4EpJQ1m3JBfZsW5xLmNCS3bCPvZE6j9CsDUGW4bt5ZdNFF03vZFuI5Te+KNnQiv5SR5iieABnmKko0c20gEAgEJh+C/AYCQwQBlIXT/jVWQsLaQgstlFwkCb+uE8CQzEUWWSRd56aIyBLmECwWUNZfgij3PvmQRnlYiBGpoZJff7PCsmioj+dyH0QUCdJN8stqRrhmyVlwwQWTpUVSJ+QZQbBfj4VNWRIXZcG0EFvviWBwC9UO3gHZ4F7aify2oVvAK+9EyEd8uVMjDwR4SgUu3e4djHvxQAGvBCkj2GuTbK2i0PC+iHfeC52hXr4h4pHb2vuzWNmL2eZWHegtKJf0M0oYoDDS9+yv10/0TWPBmESskFAKEK7E+rZvyFKsDGRNHpGQ/a0/Dof8IpTIISURGCOIMPJLwaSvZvLrGndmfYbyB5GnSEH2vJMxKniXvoXQ6veIvDohzBRbLJjKE7AKEXUPYtkt4BWrK8Ud5Y05SDtQenkve23bgKSbu7hle29WbXMaYt4G3iy2dRif9j2D72AM+kbN8QTaBlFFYL0vMm6+YrHPcQ86oRP5pYj0PEmZnuFsdnOHCO2BQCAQmHwI8hsIDAMEVwIhV2cWUoSVoJXdD10nYLNUcikm1HKrRai4KxJiwb8sjiwU9tEqE3EikCK9BMdslfIbUky4U34bEDdCO4KKCHPb9VxlSEhttoR5FgslS0iZPDO7QCOkXKeV5T09m5CNKOTnsToRVLlvej8kQ1uo72BAsM11agOrlHK9ey7T/7l5IzmDeY46aYdOpNQzCOTqnd9Nffzm3jY3aWVpT/sStY/AYdoTochlBEYP9sRSPvBOQHqQLX9nV1mEDrm1/9Z1FkcWXQofVkXfSt92Dwu/PJQdvAQQ1uGQX/0SuRJESnm8JJRJAaWf6zOZ/Crfs7k2Uz6x1kqUY37PY9T+3VyWelMwmXeUheyKRO0YIs9huaXA8d6dyK96IL72GLtHuVk5Z/w3oQwKMYTRGcHGQo4Gz/Oh7RgidbeFQ71y2/o+6mWuaM5f5hTKClsGWN6NR3MLpUC3LQ4Znciv5yiPq7h29b7eg7dJJ6t1IBAIBCY2gvwGAsMEgpOFNAJhk/D4GxlmAc3kCVFDjkpBjhDrNwJcL0iTsgl26qV+I4U6K0tqqx8B0zt6j8ES3okC7eG7aZsgvTMX+hoCSynD1ZiiB3nzLcD3yNZRHhP2elNkII5ceCl2jEtl3HjjjakMLv6UKn43hhApFsMSrLI8P9rIk++vXIosFlh7x5EvyhvjUp0RbiTZmFE2z4YyUZQhxiC/e1mklYV8csPP7+h5yCwlm/ojicpXb/e19Ue/aQdKN+3AhZriJtexCfnV0z5hZBu0D+WeZ+XfmqC80+aC72kL7Z6tr014rjqxeudxJFEuUa51CjyX4RpFAYWEeaiE52lPbagvUI5ka3QgMBQYA8ZNm+fCeIE5hSKYwt2Y6xXMCbwpeHgMV7EkKj6PN2UEAqOJIL+BQCAQGLdABBGwNisnxQyiWRIuCilBj0qih4gqoxfKIiAIKs9zelGmMpSlnm0E1Tt5HuI4WOR2cJ9yRwNIaf4+2StmVkA9tKG+0KtvHBgdIGeUS4IJUgZ1U3oMBeYH8TQoYmwbGg4oi2yJoGgbrzAn2mJhe8dg9tMPFuYQ3iZnn312XxDPoUL8BQS4UyyPQKBXCPIbCAQCgUAgEJjloNwRg0EMBV4TvSK/PALE6dhnn32S2/5wwHNBrAdeBrMKlAO2+/Au4c1ge0ep+OP94rccKwRs50F0ebXwpqAE0L4nnHBCUjT4zfYFXiS8NbQ7j4usTENseXlQRmT4TjxMbPuh4LLVyhYUwUB5ebTF8PAtlakNeZuwoqund4K8TUw9tTEvDfnKZNsERVruFzxQlOP53qXp+REItCHIbyAQCAQCgUBgxGDlR0a4rwoWKHK3Y7HyPm/xMVgHS+uerQT2yiM7XNQFRhPYUZA1bvN+c4KCuBLutd/cEXbIGLKDfHmm/e8ZCBUC5wg9bu72+9tTb6/70Ucf3RcorwRSxeVWoEd1FzzPVoNMJAWts71AHi7Q9s47Pq+ZWD49n6cBMudYQEHpBG3kmp/J3lDBo8Q7qxcr60477ZTO2/c+4mYoV8BFBB9ZzRBjAOFFat0vsJ2o99rXlg/uys4PP/DAA1OwPmX6mxUWceYmrW3tq8/QVmJdsIQjoIL3Cc6nfZHqcu89IKu+gxMxdtxxx/QM7+C4R4Rd/3BEoCB5tquwTvvO8kniL4i3ICie7608/UF9czsIBKi/tBHvQKBEkN9AIBAIBAKBwIjAqscCh9QIHCfK/m677ZYsrggWl3Ouw4K2IS4Z3Ii5OSNNSJsgb87jdh8yJ69gbqyKCBHCJXK7f0VqR/ycj48YZbBMCi4p4juLoMjkTlZwlrXzppHXEvLb945I5br7V5A2BBaRRaRFc+eei1gjajmf0x5EWfcMe2m9q8jqyttll13SKQveEUlkXR0OEEp1F8ANURQkTp0EcaMUsNdWG6oz63mGWADqoS3tV3buuRMaKCi8x7Rp05JiAMFUrr8Fm/Md3Ktd1JtSIsP7Ob5t4403TgRZWzveTB4WadbpEvL7zqzD2gVx5oLulAVxBygYKEqQWN9UPVl55dNnKCMEBkRwEW/WYX1A+6uzs7z1B++pDwYC3RDkNxAIBAKBQCAwIrBqIiAIIjdbx4/5F4lFipDCbuTXEVoINCLl6D+kyD1cckXrRnRYBLktI2hIIDKIKHUjv0ijPCKhi1yOGDb3ubMgs5A6uo7brmewDnsfkctZLUvy636kT7kIJCuwI/lYpJXFsu15LK7aAIEUeA9JRlCHY/3l9ityvOO/3M/6yVVZHddee+1EILuRXwSRhdV7ioLPdVo7IZiLLbZYCoLFqgoIOnK5//77J0tsN/LrG/luor+zQrcFlKM88P6OTmSlV2/P9o21N4+BkvxmsHZrX0oUz/J/760spN+7ZFdn7t76kXLaYkAEAhlBfgOBAhZrQWCG65Y0VFiILLD5mRZTC8dIJm6LigW5LarqUGGBs8+pU/RG7lA0sHlv0MyC9uIq1SlapcVRnSyUsyrQjj1LrAui83KDs9AHAoHARIQ5F8kSSMk57BnWMr+zLForBiK/5snmnl8kzZFciE5eG1kWWQO554qQ3o38IrIIUrc9v65zz3butrI8y/yNeCOCTctvBhKMzHElZuFF4tRZdPbVV189vS83aetAfk8E3Bo2FHifM844Ix2zpp4Z1mgR753RzwI+XPLLamutz+A6TNngjGz5R0p+ta/9wfKz4HN/ZrlGdD2L/NMkv9qRTOZoMuS+bHeE//Wvf31SOmhjyfdRB0S5aXkOBEoE+Q0EpsNkaXFBRvP+pNGGBdVeIIurRd2+JwvRcKMlgoX4rLPOSsRvpCCs2OdjAcpCiIXcwge07wQdbmW9gIUYoba3qpsCQHvR+NOEt8H3o3m34FuY1X1mwuJt31h20aOpZxWZVUR8PIPQRJnTtkdvtECAtTdRfyeUEc648rFCDBf6NiFS2SMFZdSjjz6aFED6NkHavjvwN0EUcfDMXsF4NDa77afTvxEOlrZOcygFHwvNcIMODRfahWKQ5VAdfU/ExjvN7PlhIkJfsxastdZaaf7O0A/sM2XJtY60kV8u0QhRN/LrfOzyCBzzgrWJJRSpbCO/9usOlvwa5xSW9uyy2HIBtp8UwWP5NOaa5Nd84BrSi9SVZ3/by7ryyiuncj760Y+mtOeeeyZyhlAOtf8bf6zK2q50m7YWI7fzzTdfR/JrnVaPbuTXedqOfcswh1i7rKH2YreRX/UZLPkFVmXfWlv4FhQGrPcszm2WX+PVvmPf0LPK+ZdrPUWFentumRDi4Ub0DkwOBPkNBKaDptZiR6CcWbBYLb/88mlPkcXEvh1uQCOZuC0WFjoL1khBiLWfSZsQDjbYYIO054YACwJkCF5Bo9sLaAMBOOwLKqNVNkGAJaRwfWoDQcHCbt+Yd1D3mQHPETlz1VVXTUKZRZ51QhAQgsTMJHATBawRrATGxcwCN0UC5Prrr58ELlYblqfsEjgcEL5XWmmlRFpHCkSXcG2vG+GVsEjhBfqgPi+gTVZS9QLmJO6flGudYMxyTzWXEobbQNDebLPN0lw3M0Gh6Jxf5IFFzl5D/7cXVF2DAI8MSJX+wUKHjGYYP8gwt1pKLPtOkdRyfUImjbdu5JeLK6KZgYxafxAySgwBsXzPDPWxFqrPYMiv51JGm78pZxB5ZHWVVVZJ/1LwluTXOKMcRvbUjUKlhLqxpiKPAlRJlKG77rprIupDXePVzxhHNhHIDHOS8hBtCnztYHxR3oF2MNbe+ta3Dmj5Nc/ltdIcw0Jt76+yDjnkkLQHWH7wXLIBS/9gyC/FmO/Pmu6bqqvv5ptxr7bXuyS/vi8FlaBc6tCUB6yt5mft7l5JPSk83B+K5kA3BPkNBGqwZtAuWlSyi6/J0wLFgsiKiriY1C0eFgjWFr+7Fzmk9fWvBdR199Mk2+ujHBErTfwWTGVAk/xacEq3Z2X4O9+rrKZQaRGxMHs+oVdUy07k18JlkbBw5UXOYu8+9Qbu0jT06qxO3kl+JITQaKHidsXdK5NfgSlojdVBvm7E1bt7J+2p/XJ+dfM7AUObWMi8P+HJ+2srz9CmFlv/928uk5bYt9JO2sMCP9dcc/WRX3nK7+n+7KLWK2gvGnJBT7xXbmPvtNpqq6Von1l4CAwMfYyCg3Wg+Z30GX0CqdFP8nXj15h0r7GijxgjZbu7V38nEMsrTzkmSvLrPuOSNcFzMvTLfK+5oLRKgLKU6brnqVcn8qtcZWVXSO+ibt6vhHK8k3/NGY4McQ+Bl3BrDHhOSX6NZ22k/GYdmzBGlK3Oysrt4XdtMnXq1D6yaI4yfrSjZ2pjbS6IDvKS20oZ8ilTXt+zSX61sfeQR9783F5BexKSRYtlpSPkm1+QLRYz7Zjn3MDwwYK33nrr9VnptLu+QnlF2UBpSrmJ8GTPBH2HdZULaya/LMUCMiEy+h4yY01AhvRp5erj3FspFf2f1xblrP7uun8pahHTkvxSmlrT5Cmh73qO9VNe0A/VnYUSUSzJr/FE+aTeSJv7c1JnihbzB2VRbgteBqyw2qmcjwYLbUapao0xJ1nPrGX6tbYwvpTvb21nPbUeCral/TP5tX5bo9TDuBMh2V5n75PlFdZk453Xkr/Nf9rX+qlcVnhByPxm3HpvxJxywXrdHE/K0Las6nkNVw4lHtd19czk15FH5htyjHqb63xDiWzi+/gG2l5/Up7ytQ+LsP7X6zkkMLEQ5Dcw6WGSpLGmwURY8qJoUeFWZYIVpIFmlGXYQmvBNvm+4AUvSNpYCwAXHBM1zTbB0QJrQXJNOTSztK3II+LnuU3yy0pIw0pDasGk6eYWTftszxSh0YJl8ldPi53FGSl9+ctfnoQKWnXPaJJf+QmWhIrbbrstvYMFarvttutbYMA1ZIP7FCERabMYEQBYUh1BoS3ss0J+BfCgGbfwaSd10SadhEntIoiGqJvyc1siCFvMLcIiOr7whS9MC6uF2O/qzM3Zwqk9COA0+gRt76W91Nc9uZ0sgC960Yv6yK9vS2hghdVWBBOWAW3SKyA7lCiEDWQgAxHXD9Q3hOzBg2WAYEQAy/AtCdEUCfoEoYzQaiwALwTHclDIIDwim+obFCJZINI/jVMWKf835giLBDL9qUl+KaxYbrJQ7F9jw72OMXH8CaVSvm7suseeNgKdfJQtxnob+SXUsWzLD+aCbG0xTtVJPZRjLFJYGStcR7WR/o5YayeCpz4v8qx2Ml/od66Z03Idm0BWzUva1TsRVNXZu5inEBPzEJKtP7vGwmurBkuf8hEd1i3fw3Ny2xGqlSmvCLnKyOTXc80JIr/KYy427j23V1AX9TOvaR/QpoRv7aSPITOBkQExMj/rjwisedl4tO4Zq+ZaLrvWWmPSt9CHuTzrv/qYMWrdM0cbu/q6Pm9ez1Ze44W1Uz9iodXvkE1rinHtuiBK7vGbv82722yzTSJ0ogE3Y2Igb8iTeiCs6q6PW9soeJG9TH7NFcq3BlnvKHSQMMlWHP3KGDR/WHOslfq0KMesp8bYcGAcGpcIvTXG+qvv8pSyvhlvFNDIr2+AiCKQ66yzTl/kZv3eHMQ7SR5j17yzxBJL9HkoWZ+tV4hoVmTZV6wtlWMu1JbkBmWol2dTLHF7922M+xLK8B3JDso11s0V1mzzNQWduVx7a3/KDAHEvJtxm5M+YC631vouZB4KDXW2H1odtHcg0A1BfgOTHiZtpIqAWO61tfCaaC2qFgALl0UEQS3JL003jTRh1cRtYbKYECSRX4u4BYV1AcG08Fs0slWoE/klTHMrsoBalC36Fr4FFlgguWURDhFfiwOiR8ggHCub+1Gb5dc9yCzBA0G3CKrPS17ykrQAETzU3cLmWia/FhOLKkUANyTEAtmw+CL9yLaFlUbZYq/OBI42WIwF/bCYaleL4Nve9ra0F4yw7l2WW265tFASSDL5tTCrG0GZdjuTX+1GcLYwax8u0a4LADLbbLMlIYTgQ2hBaAhHnksYQ1RZzQgETegXBCTv2ZayBaKEewhJpfDu2YSmlVdeuc+yERgcjD0CTxZUtbcxYwxQthBkKWVYLZBHbW0M6LOEUoKW+/UVAri+pAxjVh/VzwiKBCjjUH8moJfkV5n6Cy8C3x0IvvYg6j/qoO8RAvNeRyTAGHLuJWHRmFEHRKuN/LIIIclIABgHxgnrLeFUHbJixbgmWBIgCYuEbe9LkWSeUVd9nuKHYOw91JEg6b2NqyaMe2RlhRVWSAKkOnt3LszGvechNcowDhFvYx35YEHSjlwTzZ/mRJY834xFRnnmKGNcmykjK7yMEfVFOJTrufKYZxCgrKwo4TftQZjulJrj0lhFWBDgPC7l0R/0JQo8Fu/AyGBusw7qc/PPP3+yqtvri6SYy8G/XFatG67rO8aHtRLhAeOB1da8r9/xyMokyDh1n37ExdZ8APqp9do1z5bP+miesJ6CdcL6zALcdN/XH5BWrr657hKFD4JOgWKNNKb0fwRW32kmyltjVH7PsL76TVnGkzqVitGhwrpN9jD+zTFIHzJY9nlWarKE6/o8sq8Ns+LHXEKeME7JJdZVc5g1HGG2VpIRrLUZlEOUiSyr2sB6rc2t4/nbmvf8Lp9v2AS5Sd3ISca6srRl9nghw6grpYN81stm8j7KNg+YYygetYW50zX3BgIDIchvYNKDG5D9fCZ+i0L+DaG1eJmwwQJDuCTEleTXIkLgAgKUSR2xMpFb0C0kFl+LE8GLYI1sIkkm8U7klzaZi5OFxL0S4ZJGVj4Tv/8jfBbtnCdbONrIr/eyB4mwz33IwkEQoX21KHt/vxEiaHMz+SWwW2w8r7nn13UkJT/f4kWZUO5LKqH9KBY8HwjIBFP5tUG551d52ogQpNz8LbRXJr8Wb21sISUUg/fwDbLlV1sQYjwnC7/aUh6W77x4Z3guwk8bPvvss7cmQlLuL92gPT1bu2vPwOBAeMyWkkyCfCe/ESS5uflOrhGes1cG8osM6w/KkMfviB1ipY8hgcgsC6YxoQwBypBlypdu5JeAj1hT2rBK5fJZYlgg5Dd3+OaZwEmsJRQybeRXn2Qd1Y/dzwWQAE5Q18+Mdf2RYkudM/lVV/kJ9eYKdVE/AuAcc8yRCDSh1e/eybgkbDahXZFo75Xrq+0QW/MJYZ1liYCpfZWH/BLss7u1e0ryq60oudSZUsB1+XjBILvIL+GaII3Uu65cY1w9vHcpfGdoa33AfNWW1E/faELZUob6aXNeJpR53jfQG+hPiBAlbZOYgb/9jiib3/O3KfP5f+4TPAkoR4wd/ZCCM99XwnMRMoqcPPaVkZH/zuW2wXxgffMMY0aZOa9/y5TLaqYyv/uNZ3XKc9ZIkZ+fUxPN6zmVyL+ZL+z5RX6z51tbfiiv5evNfOW1NuTrZcoo/y6vN1OJbtcCgU4I8huY9LDYEZaRTAtVBm0kKwltL4GNhYl1pUl+WTizNc/kSwhGYBEu5BfpKUkSskfbTZtske1Efj2Xa5I9MdyIJGSPAG+hIgQS1pH2st4EYUJnG/m1MCP0rNEW9t133z0JoTTziCBhhQUKwfVOgyG/yCNBOINVjOVZ+7SBtt47s/4g3qy0hFxCfDfySxjJxLUkv4R5z8tWA5APWcgBrygtWBp8j9yWlAbIBqLfpolnASS0I+VtiZCl73SC9mVxU3eCPCLULX+gP1jP9Q/kNws1+iDSgtD5P/CwQFJ9W5YN5Mf4Mm4y3ON3llRjBfnVB0v3ON+LBZClyf87kV+CrP5p/OY66G/IM7JJ6aXevETK760/r7jiiq3k1/tRILnH+NFXKF4QUoGCkEau/tkjoyS/nk3Boq+BOiG/6lvOTdqMUoyVpwnjjneJZyGuxr37jAHXlGmMIr/ZXdmYt8WCkkH9pZL8EvTNVf6fx5c85idkl+XMXOQ7cIfOkMdY1hbasgkkQtAglva2JJKuvtMJ3gsx037Gpvma26znBnoDbamd9f/c/5rI1/MY6gZWQOTXuOh2X/nckUDZypBG2i/KOg3mXWc21K0kv4HAZECQ38Ckh0WJJbYkvywtyCAhGXnlXuisOcJjk/w2NdCIFqtQJr/2oGTLMHC1IwSz4HQjv4RDJJXbIMuW5Pn+9i/LsXLUI1tEgfsna0ob+QXPYXnxfAK+IBgsJkgtl2X1J0zDYMgv4kw4yRiI/BKo5WdRIqiybrEgIbHeoxP5za7eUJJfbsxcV1lxMnxTpMj+ZOQXqSHYE7pzW0qEd+3dtt/P+7IedEq5Lm3gSs3yx70OgfEOSFRg8CDoIlZN8otg6YPaV//Xh40ThMhWASRXP0WyMow/fY4yJJNffaIU9pA1xJcFuRv5tc+Vy6Xk+TlRoBmbXNx5Vri3hDoYd23kF1i3vOvuu++evBl4oxhnrNy8MNTZuDQuBiK/+jwX61Ippu76fBv5dY85h3XauGLx5XrMQyO7lbaRX1Zf4x98o5L8soqbO8wHys9gFVeOPOILsLwam2VbivTLZbzNRdvY0x68XdqSa53Gpjrl2ADINYUDYl7O34Gxh5L8BnoLfd+cZC4xdgKByYAgv4FJD0SJ8Ix0sQBAdt1l8SX0EYy5NxOYm+QXyVIGEHART0SZMIv8EuAzuSIEssoQ7AjYSFEn8ivwC3KGlKuDxOrEIkzYJbQR4lhN8p4ZEACENbMT+QVkk5BOwFU+CyeST1hFfgXGgcGS39JC0438Ekq9K8uLhdZ7EoAJwzlI1FDJL1dmgizBPQux2hKZRlgQAd9DOyNECE9uT+VwL5e/CXUj/PsmbYnSgCBeQj/QT7jYsqAT1sKqNDxQ7hhLJfnVJ7j36reClekT+pJ9fSX51TcySQPfV78syS8FknszEEp70QYivwiTQDr6GyJcJvNGjsjqGSX0lW7kF8nkkZCtpcaZcT3nnHOmuQQZRgJYagZDfptHHXUjv6Ac5NEcY0xSiPEs8Z5Io/HSRn7NG+AbleSXh4u5w/gsxwlPFfWQR3shuvYtNtvS+FKfJrSJOdcc1ZZ807bxrM14nfA4MTbl0yaBsQ+eU755qcwJ9A7Gi7Gb5ZhAYKIjyG9g0oMwSZhGjDKJZK1DqLgaWhhYKwVyIIA2yS8Cloka9yHWRQSUIIb8in7I2uE5CB9CLfCF/yPVncgvUspyqHzCIyEcGUUsCZTqgBhw3SWcW7gI/4RiFqhu5JdlmmCPzLIyIedcNVmZkFDvA03yy8JKyM4uv0Mlv8qQH0HJgq2yuWlzDdb+2or1xzO0WQ541Yn82jum3SgKvL97tJ/r9uYiAp6Ro1Bm7TY36j322CMR41xuCQL/kUcemSJStiXfukl+EV39gzXb++sDXHFzImAEER4cKD3005L8+k3wGO2v/+hPvh2iWpJflkv7bzPcR3HFHdq4QUwpvIybjGnTpqXxwOOjG/nlSsxFUBRl7sj6rO9KKcVDxHUu0EhW2a8QPdbiTuTXcyhsWJCRZ/1LXY05hNw8IVIu9Jr8akv7aI1nba1f+40SjWJBPx4q+aXI0gbmQGMU1JXSjRXPd0LqKYoE2dGOkrlWRGiKiBygp4Rx61squy1pu6b7pufyEKHQZPnNyrtAIBAITD4E+Q1MeiBLLEyIEKIFhMvdd989Ccn22bkumql/WW9YJjL5FenYvleCIeLLdZKwSAAj+BFaXZOHIK9MLroEMkSsE/klsBOoCZjqQOBDhpWT9/JxCySky+N3ew6VTwDsRn6RVe9B6BR4iuDKKoIQeH7WAJfkV54cFEh9WE6GSn4BAUUQ1VF91d2/SK82QcbVzTN8j4HIL0EdsSDY25etHQjtyA+XSkQAiSC0a38kIT8XYSKAZ3JVwvcg8LM4tCXfB9EoQXhnyeLGiUhRQpSJlTm/Q6A7kEHjxDfL7Wy88ApASvPxIogwZZJvbzwgVfbm6x+2DrA06reiPedzLo0RJBrBQoqU5TnGqT2l3civ70dZow8hjOqgfJZk/+qPxgCCrG6uI8qUMwhpJ/KrD7Iaq5cgUSzBnmUbA6Wb+unLUJJf7yOPaOK8ReQZKvnNyj3KAZ4k6qzdkFRjTF83Dr23saU9BiK/nmfMaWtzivJ8D+3Euu2aMimYsgeL52pTykhlZJfrEhSGImBr07ZkLvA+JdSFJdv7Ue75TjlRcGoTc0QgEAgEJj6C/AYmPQhtBCaWwRxQQyIAE8Dsg0XYBGdBzAhMhKxMfgnPLD7yIasslgRgxAn5JZQjy6xYrIyEwGxZJZyy8CC7hFhWDUF47DlWLxYK11mjuOASDAnn6gcEc/VizfB8wi+rtd+4HXaC8tUDuc1Cn/87tqDcV5WPVcgBawSSQSAkQighGOHw/wzPFT0VQW+Dd/VsQjXyTIC3/zgLrJ7lumcgk6ypyAlBOJMgZSDAua7qKQiVMrUzKz5yjhQQfLUlAR7B9q08155j9W9ab0cCbu+EeM/nlttMiE/+doGBoe8jS9mSZ7zo30gcRRRvBeSFNwWlh++L/FLQCH5EmSQf0iYf90l9ASFD7Cg/uBcjvZRb+pD+YGsCZZAxZVx6Pg+LPFaMU8+0Zx35k/TjbKk0HoxFChx5BN9SL4Q5E9g2uN87Ic2grsaTrRO8PfRloAQwNxmb8pgzKN0QSW7LrLaebX7I4DKKALbto9UnvbN65vdBrm2BYE1Hwr27d6IwQO7Nc+Yz4ygjE2zfQX71sP9dWZRk6mh8aluu1crVtuY3nh+e61/juAzWNVKYR8wh+TuXyTsi5YOJ3B4IjHVQzFo/s3eDucg8Yb7iQSLQIxmiE6zF5hHK89LN3P9t6TF+yUEDgbKanNQMPmdeMD/Y6mD8Ob5InXNcFPMTxVqe6wKB0UCQ30CgBsGHRXDatGn9rAYmYNaJ/BthkuCJSGXya3Jn8fCbiZ0wCpn8EuiQM+RNGqpAl59pESuF2RLcltUz71ke60BitYk6a+OmBXU4IEgrUztly3UbclvF4jr2QbmBMHGDzTB+CEgEK2SVkIcgUvggcEimo3IQV3tkCYIsqsZoBvLLBRahRMLk4VKcx0/eY4hIGs/+JsyV/cr4zvfm4HUlKJjspVdPkaH9XT6jDQRMZJDnSIb3RW4pzPLckQl6fma+T3vJR0ngGJlyXKm7dyrboYS5xVxmu4V30jYUSFko1Q62AqiLfxFKZF07ZBiDFAPmwlxX//f+2oGHiPwSYgzqZTxSmHmubzrQGB4qvAMPF3VrS95D3QO9g/5uTOqHGb4zKzvlhjHt/xSZTehr5mnKXopdfS2vq8DzIXsKmPMHgj6lD5Z5lWfeoPClFKKAoQSh9M7Qh/UPCh77xCm4kMKyHLKB8ilVlUHJqdzc/7WB+AUlkRwtmBeQXEp4bW3eUh8yCFmE1wNlIAUTpVYbjFFeKhR1lMNgHvEOFHk8mMr5qQljzdxEiUdpVxJl8pG5Uvk86yjSeJKY422N8BzfSVvKFwiMFoL8BgLTQRvJUpT3mnaDSbwkv235S/IbVoVAYOgwzhAiAlL2PhgImfyycHRCJr/IbSAQ6C0oEjJZojQCSh8WRR4ACJh/bX0xTpHZEogpgim/s7FZ7bPSCMFD7pAwZLTbvEChg1TZLmSLT+l1QSkjNgePDms07xD/R9is6YgYCymiiAiqr3nIvxQ5FEzWdQow93knyf95aVEyeQ9KJN5ipUfVaAFx5SlD4eAbeKZ38+48u7w/TzXbs+y9b4M2s91EHu2vnSiqWGjNm+7vBMo42yfIPeJ28L4pyS+lGS8Q2yWQb4oPcpT5OgfupLzjpcOrJCvIAoFeI8hvIDAdJn2LKmvHQFYHeS0sNKkWuTbLJWst112Tei9dawOByQQCm3HJijsYsOQQQgnMncDd2djt5oIcCASGB4QJuUJ+M2z5sLcb4aRg5oXAOoggseA2YU1FpiipEDFkGqFDptxju0InCyRltDqwHLMw2kfv33K8I63idagDJZj6CDhnfz1rszWem7CTEWyxYc3kcYLcmj+45XsPRA+JVz/eF+YdZ3TbGkB5h5yLP2EOG4yVerjwzuKWsPyyPAP3YW7KPF8AGWfNFXMDIe4EVmPvzkKLzNp+IgZCDkzXCdoISTa3ihVSkl8yFVKOFAvQl0E2ks/zsheJ5ylDuwcCo4Egv4FAIBAYsyAEUzANZp8ZEHC5GhJEO4EQK9BZuL4HAr0FkmNsITQIYAYiQymV94AiYmIjsALaS94GZSlDoDIuxUgqUqRsrsZtSmdwH8siK65YAM7xL8mvZ7Nu2gMueFoG0mfPOsLNssu6LE+eS1h6EVmkmfs/q6UI41yLQbkIr5gDOSI9CO5mb7k9s6MBzzVHipyunbOLdd6mkMkwqyoy6/0o5buBslGQPWeWI/wIfre9wk0g4SX5VSftJeJ90wpu76/vpK7ASq2duZoP5IUXCAwHQX4DgUAgEAgEAiMGhRJi5Yiu0uOJZdU+zqxwsq/bvnxE0n7vTkBkWRxZDBFIVmBbG4ZiRRV5vSS/SLO6CESZXa49Rx0FqESAkV9RyllJbb1A2FhQuUAL1sRDjDVXZPZ8BBkgovKwlGai7zr3Y4S7E2EfCRBEJJPFmYKg7Rn2YAsW6NQI9benuhtY2QX6dAKESPkC1w0FTfLLYqy9nZGeyXiGs8S1ec6rb6gjF/Nm5PZAoBcI8hsIzAJYIGmRLeAzW7NpUeOSza2rDRZO+6toif1fvuEE6prMoIWP9goEApMNrI0CWtkf2wkIMPdnhMe/3VxpARladdVVqznmmCOVy8V4KGiS3xLWYkQXmbWHGDlTJ+skt2ZWUidBILPcth1hZ8+vNdR+ZX975wzlsU67L7vxcsFGiFkykdBeA3FnVeWy3faO1nEu0PY1cy+2Pg0EMgAlg6j4jibTJkPZvtUkv8g2Czki3dynTQnCspzzeraAaPYv+y6BQK8R5DcQmAWwWDle6Ywzzpipmk0LM9cuwSQEm2jTECPltOL2S3Hhks++IQKL+wMDg1BEYGtr38DYBuHUt+ukHBotGGue220+oCyjiCKEEhAJ1QNZcAL/gjnXtw1X99EFy6O9pwIbtcGcaG8td2fuwINZ/xBNe28FvxIZGKkcylrUifzqE8aU9Y5l1nnhykd8KS+tge71LuZ0+4xzJHmuuQIzIbmlFVq9uOyqbya/xqr9z/YK2xfba3gPx/pxt87W5hKez4pL2TAYxYF35w6OvLKEI/4s4CJhD7bdm+SXXOG7L7XUUjMQWm2OmGe3Z/ObiM/6yMwIFBaYfAjyGwjMAjgOAKFce+21+2mNRxsWLovfYostNsPRLRm0whZ1ix7BxIJkz1V5zm6gO7jyCeIyGlr+wOiCwGuvH6vPzIS9jQLMUEx1AqGaAGs/nsBeBGxn5gYGBldLe0wFYop5bPTAxdc+2V122WX6L/2BBCFF9sS2WSmbsEaJnozYcdllfUX0ELrBoo386gOIIgsjl2oW3DLwlvWOlZL7bT5SDCm2NnLp5gbsCCRu2CJKZ1hjkWSEMT+PZVnUaASv2zFBw4U2cmzUyiuv3NqmFGSiNOv7lGwDgYKcy7Hv5Ggnbunrr79+UhAMVnnUJL+UiazP9vyWxxj5DvqLwGO5HbWX46fC8hsYLQT5DQRmAcYL+R2KgBH4NwgP3PRoykPQHl8YL+SXhU3wGsG7AgODNQu5IWg3j9YJ9A4sdQJbdSK/1hd7eAWsymdId4JvhjyJ1iyKMLKKAHNDzhGMB4M28mvdZXGk2FU2Up5hnbT/d/HFF0/7ZMszeh1dxEWXZdL4e/3rX58CfGW419rpeXlvaya/UrdAfMOFdlIH9R1p+crini1aM2URws8tnZV+pZVWShbkwaBJfgG5XWeddRLR1U7gO1grRYDOxJpbNOv6Nttsk7xbAoFeI8hvIDAATN726wgmIXHFcYRRhoiSjkYQHGONNdaoFl544XSuIO2mhQQsgjSZNMkWKIsn7bBIkW3k1zEMFkqHwDtKQdCJ5ZdfPi245b4b+TzLdWnq1KlJiM6k1qJlsfacRRZZJGms7bt52cte1kd+uWHtt99+Sfttz5B62bPUyfK78cYbJy2zxW2VVVZJbkz2ERHGgYbXcQreUVtoE4IKzb3fe+lO6h0IWsj80ksvnQTbfK6kxVW0TUFSuLN5ZwuvYCx5z5HvSJstoMlGG22Uvo0Il97bmc/2fymbda0M0kF7752VK/lGootmaCcCGm37YNz6AsODPqc/c0lkndBHMwiv+qkjSfQJeVg+uCiWCgmKClZUQp0o0fJ0Ir/u8zxCuOuEX6kpcOp7XDVFsVUuSxUvgCzwAcHfWHXdfj15SvIrr/HLwiSPcWhOaCO/hGukw15EVh7v7T7nfpbjzXzkuBH1Mi94BxFoh0IkBgvjQYAf9bj77rv7uYZqR9Y07e46Idv2igzvY2z6do7IIRirr7nS2EWcWN20WxOIrcA6rrM0lePvmWeeSWeumlcDowNjg6XWXNwG/Zr1EanqBn0E8UG4eDj4dn4zlq1ByHVecwZCk/zmccxl+fTTT09rajk2/d98b01FBEsCZu+rNdc6Yr5QBkU25Dpba/TNrDzWZ8kJSN9okDn1Nfctuuii1c0339yPrIO5iIWbNXegs3NvuummtMfXe2eLt/KfeOKJtM4hxWWAr05oI7/mM2NZ9G3XKR1YzlnJKeXzN0CSrb+UJNo0EOg1gvwGAl3AcmefDm2z/SoEMpEJLQB5bw3CaYEmUF122WVJILU/Rj6Lh4XvzDPPTHuFBNRwhh0Bd6GFFkrBJNrIL20zomoRcsQDoZYA/OpXvzr9i7RanFmOPYewq34EDos8oVYeQqdolCxGhEd14xr1whe+MAkRtN2OGbCYIwfqZtFBlJFfgrR89lpZNC1EykOULaaEV4skcq2ehFaCOfJgsfdMedRzzjnnnEEYHwmQFoujYxjUG9FESLmvEXgJV76DRLgmjBA+tKkFGBEgJFNoKEMbs/pxy5LHAf/KpXDwnViNlEkYtweMS5b+4JtrX2SXkJFBc01RIn+g9yA4Ub4QPhFC7pC+I8IDvqfvSLGjf+rjviMlTCbJhCwBdAhgvud6662XlB2dyK8+owxjhpJE3/IMShX9D4w7dZDPdeVSrORgNAQ8wr++ymrkWZ5rTFEUmRs8h1LKWM3Bdgjw8jh6xBjzfsgyMmec6uOOOtHn1I3gqS+rF+KtXsasuqqPcuRRhjmjl0CotYs5xPuru7FHIeHdshuluriuDcxted7yPn4zzhB+ecyfLEHcUI1xBMg95oAMJF57uabNzNO+f1ZOaHfzpLk19v6ODgRKpPTw/dpg7FlP9dduikF9wJpqPDpiJ68blEYUVMa09XQwW0ua5NdzrZvGh/5PAZoTUi1gl75y4IEHpj7GRdsajtTreyzG1nZrIi8pimn3UOQYW+Yk63omc/ofl2cKGf1/NKBc8596NAmuNjI2rP/dgotRAjinWD2NxbKu2p+CjSK4TenUBMW8b0xpkUF+oASjOCCrmLeRYMrk0gvAvfaNUwgGAqOBIL+BQBcgLiZwJBJRtIgQPAnarJiA/BLMuB1ZWAhVFk1aUhpSgjBh1AJq4lcO6wSB132dyC/C6Ow7eWmQWUEQU9ZjizfLCkFZ4A31Ui6iRrBgGSE8W6QtxKwqyiBQWMDnn3/+RGotYhZzgbcQN+Xcd999SXDsRn5Zhi1Ynul3ZAABVFcade9m8fRM7cEKvsACC3QkvyyvBGHCf1uy7wixLkGjjNBYJNXTc2iPMxkgRCPkDz/8cBLI1MXiTeAnNFlskV919XzvTjhCHuabb74UrMRvlBcsD0iuOrAU+C7OU3Tdc317AlZ5eL8FHDkTOCS0172H9nbUiH7ou1GyIJuUQ0AhNO+88yYPBKRLHv3Db4RRgh1LiL5uHLhurPqtG/k1/lj7kU9jzPijIHOf5xjPFCfGr+vK9TvXTXXSZwjMhHd9ST/TLylLeBoY08YRQRaBNs6VoY/5G2k0BynLmKF80r8J55RwfpffXjmCuDmGos7Y816Ig/fP0W15blBUtcG7UADp181EMG07t1RfR0CNS1ZmdaEksg+e8G0ccqH0furgurFMKYHsuO59kGffTmBA7Yis8O4wz1BaaHftZ35AMsyJWWlFaalcdUeY8zmy6sbabv4u93cGegfzu7lP39Tvm/CdsjeAb90Gc7c1S9+2/sqXiSRQ/Pqm+nzbM5pACKdNm9YX5dgYNOdbTylTrNc58eDK0Z4FoNPXeUNRkvEy0uc8Ux0lY8tvvMPkUR6LdGnZtp4LeGXOGE0guNa3pkVcv/fO2r4b+ZbP2COntLmk+42cYH0dCGQD+ZrrvWdYM5FibdcMLoiA86SjLCuJcyDQSwT5DQS6wAROUES+ECXCokWO8JvdeZBfv5UTNRdnVgsCK8GagF26FprgLbSExE7klyDPncpiAYgXUvviF784CQYWEARcXgu7BSNbRLg+EUyRQ6Q7l0GAcA/3KKSWVUQegkgWLixGhIVu5JcQmxdA96knAixvJtx58XRd3QnZ2qyN/CIwBA5HK7QlBKHpJkcA4tLMOkbQJiQpX9vI67nycAslBGsfQr56IB++gW9KYKFYAFaJ7OJOWMhgHfDOrAEEMu9HO06ol1jNEV1KjgwLO4LmWzTrHhg5KDUIaYQ5Y8h3YMHVdwEJRJZYiDN8c+QXoaKoYgFkpcrfWj8lmA9Efim2cp8xJnx/xIswTlBH6hBt8O2VRfmDeBIezRksv9kiqVwWSeRW/0LsEGHjOo9d48Z96tZGfo0T70PABYI5S6/+jiwaK8Y0V00wPowXpLQT+aW8cx+FWjMZJ8ZsE8o1JpF7Fl5zqLYmkLOWeQ9jFIGQV3tROiC/xpl5zfsgtRRp/gZkB5HPAb6MRfMhi7r2M85tz2AlzONNW1NMmGtzOeYo7YT4BHoP39R8bW1BJJvQL60l+kQnIqYM35cSSF/IYyDDfZSSvH/0r4Egn7ki9wv3+1s/bEvqpw7g+capNYrrrzWinM/9H6mmpJJHncv3sg5aE/Xb0SZz+rh12FyofcYjjF8KLPNb2c6BQC8R5DcQ6AKWX245XHSQSMIkQYrAVZJf5AvRymCBZQlCQFmkuO0RujIsiCxUhNdO5BcpIyxnWAhYiJBfVg2CKW2yurEaKU9dkGaEi8URSWMJzbCgW9ztZVIfLoWE3/wuYAElSHcjvwh9KXQQwC26+cgIAnpTYCHMdyK/SEfWOLcl7ZWFkQztgVSoK5c2ViLPpTFWFiGL8MXyw2pEI+9bIhgl+eWOlt1g/Uu7T7lRWiVK8qtM39/3ca/k/xQPnpWhvTyLhTgW8d6DJdO3QNxY631/ls+S/FI+lC56mfyy+hBkKZ8QtAx9rFvAK0It8qvsUjnib+OCwK9/I3q57yGK+uTcc8+dSLI9f8aWvqc+GUip8UuRZH8v0tq0sBjnLKZt5Jc1lStzhv5vbFAAIJreydgs3wtJMa91Ir/KZUU1bpuJ8sH9bWDh8j1Ynr2TOTPvyVYvdfCdtI9k/CCuFHdIkeciz+awPO5ZmpHWbNk3Z1BK+ubGl7a1lcT8lwm6tuKS6r1zXc3prGOuBUYH5knfRh8ot4JMRhjLxr81uW3t6zWs15Rmeb/ueIN50L5jCotAYLQQ5DcQ6AKWDcIbEsqFj8DMSspKQQAE17nrdSK/9r0Szk3oGYRelp9ull/3EISz8CeIhd+RXwK0BZU7Losnay5CLD+Bw0LLfZnAy3KTy0BI1cmeXoukOiiDBSXnsWgSqLuRXy6DbeQXIfE8pJtwCu5BuD2zk9szSxfhnft1W6J5bxJI70uwINhTCrCsU07Yo5XJDZLPJc1z5SFME7BHQn61MWUGAYMLpeQb+z27VwItP/fKsPz2FvopBY1xx3qn3yBG/kWOSvIrimhJbkvyq99wTS6vw2DIr/vL/q8vrLfeemlLAesPa6M+wwNEv2FpttUAQTOOkNTBkF8ksAQSybugE/n1zIwm+aWcQXLVLwNJp7jrRH6NAZYsXgxtqROxMU7Mj/YbG5OUdMimecNY9o5IqnnS/j9tYf9zSX7NjebaDN8Ymc4KwSb59Rz7Q70PJVeZfB/tDizyxq95MjA6MEbNpb6r9WMyw/xPAToaga7aYE6x3pbr13iCdjKvNJXngUAvEeQ3EOgCwiurBPdlCzqXYG6RBODBkl9JHuSQUEeAJjgS9gba8+vZ3CstBO5BzOz5s7ARoAmQ3K3UDdliAUVaLbgsHQgygZEbpjysVVw255lnniSUsNAoj2so1y1CJCJMkB8O+bU3D3kQaEbZBGf1QLKR9k7kl8si0qz+bYn1KbtRZyALLGHcRQn62lX5+RxIygrWNhYqz0SYEGlW25GQX8K370mZ4ZnK0UYIRO4TkF05kWP5Ar2BtvRNRVTVV7OShfKj6fbcjfwSsBBCrrXZiuu67zsQ+bXvlIAJxhVSa7zoi/qFPqYevBZc12+MIfn0MZZH+wiR0lwGD5Hs9kxRQ1mkf2Yh0LMRX3UbKvk1/gXy8b6ZUCrXPGMO6kR+1YPLpjHRTLZ1aLsmjFMunsa+OphXKOLMVeZOz1QP41q9vbs50JgbLvnVNuY83iXmBXMxyxGizRXd9/ZtgaKQcg5JDowefHv9P28PmKywJnJBDjIXCIwdBPkNBLqAgEngRBjtGWVdIESKqkootL+OBaEb+UUaWR9ZWFlulIO0EVy7kV8Con2E3HWRNVFNCfeEZMIe9z8ConooU6AcpMxvXJ1ZcJEDFmTuzTmPvXqZ/CLz6sQq4znIPmsa4j0c8kuwZ8XVXtrNb8r1fEGkOpFfddVWCGNbQlS8cwkCPXLvnb2vhEAjFhQChF/kh5DreyAj3FK5wsqDcA+H/NqTlPdB+i4Efe/r79LVTFsTsuUn4Ad6A30QKePiKhgNIkjBwLXduGR1pQgaiPzqv/qnbQMslAi1e+zPH4j82t+N+Hk2q44+iMwifEi4PmZcKlO/RnpZfj1PHzF2ETnjjWJNgCDXkGZB2swJxqmxbCsBpQrrpX2w5pGhkl97fhFF5NJzRHTVn40NbsGdyK/71JWltpnUs3QpB/0c+UXiuX3ztNAGeeuHAGWs4BR32t01ZBUpNua8H2UZwjwU8uu5xq57jEe/m2vs57atg0eGfiMpk+LR+wcCgUBg8iHIbyDQBYRoQiVBVIRfLnQsmoQ/JAl5ZOkUUKncn0cYFx047zMjFBPw8l405bASsbg29/UB8stSQmBE2JBTAiohDgED7kHIOCFS/Qh9yBzXS8K26zTOhGREnBDI2sIKo8xsUeYG6F7vhwgSdt3DYuJZ8iGwLKeETEG/3JMtKYBgaAN5COIEdoSThQwJZIVlyfJvr1yA1R1xoBTwbqzkolAjCdkSrD20m/ZTF4KvtrHPUH0J34TgbPnzLzdMhKK0NOsDlACIu+citL6h52o3CgTtWpLc7F49s9zdJhP0IZZHfV+fRjR9V98ZceWGbgzqz4hihu/HNVr/RJ4QJMos44cCC4F1/AaCyGLTRCa/gsRRgOhT7rWnlOURWBsRcfWQR9/QLynJjGfu+ggw8qj+npmfjYwibMYWC6W6cBlWH2VQInlX48/7+ducYNwh9GUQJ3VFOpF5Vmptpq9rN3V2r2eaZ8xlvYIxYE5Ud89Qd+9gzjHeKAkRWPVyTRtSYiHLSCmFHSLru2iDDEoG7WNuAuPTdWMQjEtt55tTRmlTc62xnF293aNv2E882S2SgUAgMFkR5DcQGAD22hLYJAIzIYtrHiG2JEgDgUCLBBO6kLNuQH4Jh0gpCyRBPLtZlvB8ZbJyZjLK1QzhyhZWQi9hUn2zi2gTrGDKQeZHQk4J3PYR2ofMaqQunk1wZWFikZWnlyD4cwnXroh3E6xolBDakWBOIaAt1G0kQJQ9V79ofk91YaWyd3Ogbx0YHpBMlk0Wf54I+i5S62//+u6sinmvJxi7SCrymb8LIsmKS1FBicPFHik2xpvI5Ff/RixF/GbNFEQpjzd9zPhjlabcYmVlyZSHB0iuj/pR1Hiu6KyInP5irzoozz08NiTKFXWjeNGH9TveC/LLqy+qd4Z66OfIpL4qv3u1jTZgTUaYKY3Ks3J7AW3Lmo3k+h7awJjQ/uplrvHO3ktbZoWAvymZ1Ne7mTsyzH+UXVmh6FvwCGHlzfBc99neoCzfyHtnmCd9M8Q6EAgEApMTQX4DgTGIkvyOJxBuEQ7WJBYvwj6LHBdq1p3xevzCUMEqzKUVIQtMHGTyi9jmI4XGC3g9sPCyFCPViLCtAKzRiOpEh2+nDRDfZpCzQCAQCEweBPkNBMYg7BN0BIl9buMNLKpcw7kD24MneBYSz72b1WcywB7QbOkKTBwgUPbD27LQZhkey+AVwQ1bDACuwkivve+2OfRqK8JYBu8W380WjkAgEAhMXgT5DQQCgUBgEKDM4MLL1XgoWx7GChBA1k/WX0G+BKebLOB1IlBa217uQCAQCEweBPkNBAKBQCAQCAQCgcCER5DfQCAQCAQCgUAgEAhMeAT5DQQCgUAgEAgEAoHAhEeQ30AgEAgEAoFAIBAITHgE+Q0EAoFAIBAIBAKBwIRHkN9AIBAIBAKBQCAQCEx4BPkNBAKBQCAQCAQCgcCER5DfwKSBMzr/8pe/VP/vf/4nUqRIA6S//e1v00dOb/HPf/6zev755yNFijRAsl79fZTGYSAQCExWBPkNTBr8/e9/r/74xz9W//Gb30SKFGmA9Pyf/zx95PQW//i//6v+87e/jRQp0gDp97/7XfXnP/1p+sgJBAKBQC8Q5DcwaYD8/uEPf6h+/atfRYoUaYD051Eiv/9Xk9+250WKFKl/ooTihREIBAKB3iHIb2DSIMhvpEiDT0F+I0WatSnIbyAQCPQeQX4Dkwbjnfz+4rnnqh98//vVk088kdIvf/GL1nw5/fTZZ1O+7z31VPWTZ55pzRMpUqcU5DdSpFmbgvwGAoFA7xHkNzBpMF7J73M//3n17W99q7rxhhuqk046qTr6qKNSuubqq6tHv/GN6uc/+1m//E89+WT1+bvuqi684IKU79hjj60+dd551R23356I8K9++cu+vF944IHq+uuuq776yCMzlPP9732vuv2226rHv/nN6tmf/KS69tprq298/euJhJf5JPfL+83HHpvhGpL+xYceqq695prqmUGQ8B/98IfVzZ/7XHXjjTdWz/z4x32/q/stN99cfe2rX61+9tOf9rvH3353XT7E/+qrruqYHnrwwaQQ+PHTT1cPfuELrXm0ywP33z9oxYE2uumzn011Kdt4vKYgvzMm39UYuOeee6q76jF23333VY/Vfd63b+Y1noxP+SRj8stf/nLq02X/kO+73/lO9a3HH0/9tixDPuPw61/7Wsrn/56v35b5cl7jy/VnG+VIxqFnPP2jH81wrS0Z51+vy1K3PDcog0LNO7eV4x7j8Gt1fc1bP/zBD1J9HvnKV2ZM9ZxhXnOfvK156qTObe3bTJ6tPHOROqjfeB+HQX4DgUCg9wjyG5g0GI/kNwuTRxxxRLXmmmtWr3/966s3rLFGSq9+9aurvffaq/ryww8n4VF+xPeM00+vpkyZUr2mvr5GnW+N1VevVltttWq99darTjrxxCRAZ6Fwhx12qOabb77qAx/4QBI0S2HxczUBXb2+9+yzzkoEeMEFF6w+uvfeyfqc80g/rcnexz72sWqdddapLrrwwn7XJILrru9/fzXXXHOlZzSvl8nz77zzzmqppZaqFll44epzN93UVyeEw/vsscce6Z3Luir3gx/8YPWGN7yhuufuu5MQPNtss1XLLbdc9cpXvrJauZEOOvDAJMA/VJPy9773vdU888xTrbTSSv/Os/LK1Wtf+9pqs7e9rbr1llu6Ct8IAUH71ltvrRZffPFEFgayyo+HFOT330lfo9TQt/aux8DUqVOrzTffvNpmm22qA+u+ROlBaZPzI6cUMcbn2+o+JO/b3/72atddd60uvvjiROiyEklfPfPMM1M5d95xR18ZkjxXXnFF6tv61e23317tv//+1W233TZDH6Ok8cx99tmneuK73+13TUKsKcJuq/tp81ozeV9jzHOP+cQnUn39jgRffvnlafxQxjXvoXh6fz3Wjz766NQe8nz0ox9N88uee+7ZL33kwx9Oc5V73Wcc7rzzzumZZb7DDj20uvrqq6snatJdPq9Mvg3l2xGHH57KlSj/1Hs8j8Ugv4FAINB7BPkNTBqMR/JL4D3yyCMTMTuyJsClxeeCWrhbdtllq8MOOywJ0ATTU085JZHkd7/73dV9996bBFLEmDWE4I3kIbPZoor8LlyTzCWXWKI64fjj+1k5M/k955xzkiC74QYbVEstuWT11ZqMl8TzwQcfrKZuuWW14447Vt/+9rf7fs9pKOSXxeqyyy5L9fSsHbbfvs/qJB14wAGJ0J78yU/2vYPyCdFIruuEXe3xwhe+sLr00kuTxQ1pKdNjjz6ayEAmv0g1klvmuf7661P7br311okI5DqUybO/8uUvV+eff371jne8o3rJS14S5HcAjEfyqw/edNNNSSkz5U1vSmPuhBNOqA6vydabNtqo2nSTTaorPvOZ9N2NoStqwko5Ren0iZoIynt8Pb622GKLarHFFqsOPvjgpFBS9he/+MU0Dueee+7qXe96Vz8SjdQddNBBaYzqZyyxlEwfr5//VE0Yc75czvb1eDFmy99zMndssvHG1Vn1+G+7Xiak+33ve1/18pe/vFp00UWTYsfvxv3FF12U5hjjplSEee/L6vFmnF/w6U+nv73zCiusUG244YbVu+t3LJP7kXH3spBTVnmWNijzrfXGN6axbX7SHvl5OZnfeGio60b1t9h2222rzTbbrFpmmWXSnMlS3bxnvKQgv4FAINB7BPkNTBqMR/J75ZVXJgH6PTWZLUlgTjvttFO19tprJ+L28Je+lEgoQbqNZLL4vrEWJBerBUzWZIK6vG+qhfkVV1yx2rK+l1UoE9uS/BI6WVLmnXfeRAJKIfT4445Lgj7L1XO10Jx/z2ko5JcLMuF1lVVWSVYfJJgVK9eJQL3VVlslAZmVzO/enYV281rgzcQB+Z1zzjkTac0WtraUyS+huXSxzmnTTTdNhNY7N69J995zT7VlTWgWWWSR6mUve1mQ30FgvJFffcw39W0Rz+80FDxfqknnNnV/ZLHU/1hfETbjkkWzzKtfsIIieZ/61KdS30RaKate9KIXJW8Nipzc35vkF9F761vfmpQ1V1111b/LrfN/pibfC9V90JjOv5dpsOTXs70Hj5A963dCKj9z+eV9Y96/H//4x9MYRV7l9162Niy55JLVuuuuWz09XUmH/K666qpJMVA+o5mQ3znmmCN5p3CVLq8Zy+965zurbbfZJrVVeU0yr7nOWyMTXe20yy67JA+ZSy6+eIZ7xksK8hsIBAK9R5DfwKTBeCS/5513XhK47YFtu24/HcsmAfDYY45JVpYDDjiglfCxdCKwSCjCSIglKG+33XbVB/fYI7lUf6gmnJlAluTX3wRcli9uiFnIJPgSkJHPG66/vu9ZZRoK+bWPea211kquofYNLrDAAundS+JPmH3d615XHXLIIem9j6sF8PVrodme4pyHwIxMEMi9N2G4TJmcluQXOfA+OcmzySabJIE+W766JQqFIL8DY7yRX/2FJwBPAh4DzW/r79NPO6368Ic/XN1xxx1pfz1LJetvmS8nLvLrr79+Isv6OELHa8L4o4Ay3rNFtUl+/cYThLKK90MuU77zazL9mte8JimQ8u9lGiz59b7mFMocHiPc/7feaqt+5arLbrvumly5EXzj8MQTT6wWX2yxfsqqTH6R53JslUm+buSXwssYZc1tuoVLXJuNu/3326+fZwwPF3OJb1PmH08pyG8gEAj0HkF+A5MG4438EpLtnSMQZsG3mQiPhG//7rvPPsnidPbZZ3fMS7BkTRXQCSnN5FcwLHsJ7ZnNwnGT/Lrf/kWCPUHY3wgfAdgeO/uNy+flNFjyS3A95ZRTqjeuuWYSoFnYPIv1tXSvROwRBxamRBbWXjuV7zk5D/I7++yzp7Zz/5vf/OZ+iesmIT+TX8TD/kT7BnNCshFf+62/27KHspmC/A4O44386tf2meu/TWKWk76EgCKClFAbbbhhR48DfYOyxdiisMnkV8p9jsuxvG3k98m6PsYc1+fsrcD67J4NNtigY98bLPk11rgpI+H6MhftV73qVdVV06b15fFuSD5iu8fuu6f5Y4kllqj23XffNC/kfMgvrxDux+XYku7+/OcT6ZWvG/lFbnl6INvGdXlNotwydo2/3Oba4CMf+UiyBg/GzXuspiC/gUAg0HsE+Q1MGow38kuQPvSQQ5JAm4XEbmmvWtjjwmyfa9t1QikBeN6a/E678sp+5Pfuu+6qHnjggfR/QXxYlNvI73XXXZeCOl137bVJMP/kSSdVq9fEkfW1k7A/WPLLXVRgIGSU8KqurFzIOgtUKdRzZyYQu8YNmoW3FLoJyYTpnXfaKQUoEnSnTAJpqW8mv6zELF0LLbRQX3rpS1+arF5cmzu9W5mC/A4O44386kv29NqTW+7HbUsI6gd2263aeMqU1us5GaeveMUrkhImk1/kVVAnrsTIpr30beQX0TZOKX8QUv3eHtsVll8+KaGaz8ppMORXvzX2javP3nhjer5+bY8vpRqimfNSCogm7z3sZWZ1/lEjAjTy6/r888/fb2xJxpZ5Qz7zmz2/3tPeeZbmnJTLA8Oc1TauvL965jHq/0fV8wYvmN0/8IGOisPxkIL8BgKBQO8R5DcwaTDeyC9BU3Tm9Woh137etjwspKyw3A5ZXZDV06dHUG0mrsPcdwnxotMqvyS/hMazzjwzCdWiNyO6JfmVuCC+thZGWXKQvN1qQX/76Zbj8lllGiz55ZJt7yzSuUot/LPaINqEYiSh3JOLALBUL7vMMtUB9b/N/dDZ7ZmFyf+1U5kcCUNozuSXxfuuO++svlC3ZUoPPJAsWwR31nf3lOW3pSC/g8N4I788EFhah0J+p3Qhv/qdIFkr1uTs8ssu60d+ETgWUQov1tc28iude+65yTIrErO+L9Cdvx3hVT6rTIMhv8aY4G32ywvmZf455phjUpC5t77lLf3cjvVxY+btm2+eCCpvkrIsKVt+/ds3tqYnc1rePpHJ75JLLJH2RHMhl+z7F/NAGd65WX6ZtKutF/b+G7e+g6B/bbESxksK8hsIBAK9R5DfwKTBeCO/hDmCqCBVLDtteRztIQCOQFXIGhJn71tpoclJEBouiqwwSB9BuyS/8iCKyCTLlMjJTfIriSjLPdE+vrfUAjG3yE4uz9JgyC8hmJBPiCZsn3jCCSlxIUWCPad5hjC3T9Yj0XTL3yXvMdKAV9zOuXWK9vxwh2jPZQryOziMN/LLDRcR1J/ayK9xan8vayNrqajEG6y/flIUNfNKyBi3aIHSEN2S/Lr+47ofXnLJJUkRpI/bw98kv/q3cbvPxz6WIh1zy2Yx7Ub0BkN+v1GTUHMIsmuPLdLPG8Mee4qm5jyU9vrW49Q80RYwLu/5HWzAK8+mzPO3xAp9zTXXpK0Kh9TzDGVA2/3mmP3qeU89t6jbQSR8ZyO3zYPjKQX5DQQCgd4jyG9g0mA8BrziCoz4ce1tnnOJZAmc8573vCe5/QrGI2rs22oyXJ6PK7GUEiqXX375tHeOS7XrTfKLtN1cP/OdNeFbbtllE/Fskl8CPrdMQa4Q8/POPbcrwRwM+bX3kZDNTRERVj+JxZV1iwVYEB7vke8RcZaw63pZltQL8it5P218f00wmteaKcjv4DAeA16xICJnxlWTgPEi4CmBvCKolFCOyOoUaIk3Amum448oWJrk17hkbd5rr70SCeVdwU24JL/69Ic/9KFECt9bj3/KKAHg8vW2NBD5Vab3RLodWcRLxHnCkvEpevXh9ZhrHm8k0Ba36LKsnIZKftv2/FKsbbftttWH6vctn52T+eXT55+f2iqflWwsl/PfeE1BfgOBQKD3CPIbmDQYj+QXAeTGjIS9b+edqwsvvDCdgyshbYRFxyGxFhFeCZksH4jkcccdl/Jdeskl1Wm1IL7V1KnVxrXwy1KUSWST/EqET/kRTmdlNskvwVJ0ZQK5I5juv+++ftebqSS/9iVzmS7TjTWZZu21r7LpOkmAdR6q41ZOO/XUfsLvQOSXMC3oDatd85ncqCkLBiK/iK+gW21RZpspyO/gMN7Ir6TfcSvWT2wZ0Kf9bqwI0sZTAjFkaTS+eEcgi2UEdH2ZAoonAYtq3irQJL8SC6695s73tneVt0ZJfpV1eT2237zpptUiCy+cvD8owPL1tpTJr/GgrDKxkvoXWV166aX73i8nhN8xau6n/Mq/D4b88uY4+eSTZ3imlM867kZ+KQjMM/bvG7PlNe1grDvSyPYQ0eIF/8rlO5N8IFf1sZyC/AYCgUDvEeQ3MGkwHsmvxAqEAO9QC9SEamSVoIwMc0PMVlx5uSE671PgG1Zgef3LospyQnAtXSO5DB911FFJUMy/SQJMcWd2f9sRRiIgE+Avqsn4QMIlwZlrJAEd2Sbol8m7OSaF5QpxbCvDecaeWZ6xao8wKzYrVZlX0g6IftvzJIF2WIUJ3VyrBcFqCvzSwQcdVL3zne9MFrGBCK26cT1FlPL3GM8pyO+/kzHD+klBox87Q5arsb4kmvhH9947EVt5EUIE2dmz9p/Kl9Luu1dTp05NXhyC0n1/uiKnjfxKlDFnnnFGIoUCUDXHqP6mHjwcEMOB+mcmv/lIpTK9vy4HeUfw/d28V3+mNFrtda9LZD//Phjyi7w7cqj5TG3BlVm+buRXO1BQTZkyJbVrec072zvsGCqKAvuPy2cY/yJBl/eMpxTkNxAIBHqPIL+BSYPxSn4lgivrI0HznLPPri666KJkYWrb0+Y35JUVVYTWT9X3XH/ddelM0WZegiNLCetK+TvLMKsM69R3Wgip8rlFsroMJHS7TnAXPfqztfDaTCzH3oXlqnRrLpNzVm+v61LW89FHH017Jpt7gSWEu+1ZOXkekkqw1gbcmtvco+315XrueJmB3hN5vuWWW7ruuxxPKchv/4QAUh4deuihiWy+uyZWPAtOPfXUpEgp8xqv9uHbky+fZHuC/bv6X9mPuflTWF3ZOBfY8/TPgw48MEV9p+Qqr+uv119/fVIaXdUSbKqZjAlbFOzpbybeE7whRFe/oQNZNE+ccfrp/YLb6euCw3Vy8b7zzjuTV0fbM7WFuUw+hJfLsoB7zTnNM8QXOOXkk1ME7PKaMWlrRGv5dbJnmgW9vGc8pSC/gUAg0HsE+Q1MGhC6n68F+j/8939HihRpgPTXv/51+sjpLf7xj39U//X731e/H6fpd7/7XVKGOH/2uZqAtuXJ6T/+4z9SPunb3/52+rstX6RIbem/63H4/PPPTx85gUAgEOgFgvwGJhX++c9/JuE7UqRI3ZOxMhpQ7t/+9rdEriNFitQ5GSeUtoFAIBDoHYL8BgKBQCAQCAQCgUBgwiPIbyAQCAQCgUAgEAgEJjyC/AYCgUAgEAgEAoFAYMIjyG8gEAgEAoFAIBAIBCY8gvwGAoFAIBAIBAKBQGDCI8hvIBAIBAKBQCAQCAQmPIL8BgKBQCAQCAQCgUBgwiPIbyAQCAQCgUAgEAgEJjyC/AYCgUAgEAgEAoFAYMIjyG8gEAgEAoFAIBAIBCY8gvwGAoFAIBAIBAKBQGDCI8hvIBAIBAKBQCAQCAQmPIL8BgKBQCAQCAQCgUBgwiPIbyAQCAQCgUAgEAgEJjiq6v8D6A4E3Ozs6XYAAAAASUVORK5CYII=)"
      ],
      "metadata": {
        "id": "cWgE-cLoXMZg"
      }
    },
    {
      "cell_type": "code",
      "source": [
        "model.summary()"
      ],
      "metadata": {
        "colab": {
          "base_uri": "https://localhost:8080/"
        },
        "id": "xhiFzPqVXztv",
        "outputId": "34b38349-0b40-4dcf-8a52-e340528edad5"
      },
      "execution_count": 20,
      "outputs": [
        {
          "output_type": "stream",
          "name": "stdout",
          "text": [
            "Model: \"model_1\"\n",
            "_________________________________________________________________\n",
            " Layer (type)                Output Shape              Param #   \n",
            "=================================================================\n",
            " input_2 (InputLayer)        [(None, 32, 32, 3)]       0         \n",
            "                                                                 \n",
            " conv2d (Conv2D)             (None, 16, 16, 10)        490       \n",
            "                                                                 \n",
            " conv2d_1 (Conv2D)           (None, 8, 8, 20)          1820      \n",
            "                                                                 \n",
            " flatten_2 (Flatten)         (None, 1280)              0         \n",
            "                                                                 \n",
            " dense_6 (Dense)             (None, 10)                12810     \n",
            "                                                                 \n",
            "=================================================================\n",
            "Total params: 15,120\n",
            "Trainable params: 15,120\n",
            "Non-trainable params: 0\n",
            "_________________________________________________________________\n"
          ]
        }
      ]
    },
    {
      "cell_type": "markdown",
      "source": [
        "The input shape is (None, 32, 32, 3)—Keras uses None to represent the fact that we can pass any number of images through the network simultaneously. Since the network is just performing tensor algebra, we don’t need to pass images through the network individually, but instead can pass them through together as a batch.\n",
        "\n",
        "The shape of the filters in the first convolutional layer is 4 × 4 × 3. This is because we have chosen the filter to have height and width of 4 (kernel_size = (4,4)) and there are three channels in the preceding layer (red, green, and blue). Therefore, the number of parameters (or weights) in the layer is (4 × 4 × 3 + 1) × 10 = 490, where the + 1 is due to the inclusion of a bias term attached to each of the filters. It’s worth remembering that the depth of the filters in a layer is always the same as the number of channels in the preceding layer.\n",
        "\n",
        " the output from each filter when applied to each 4 × 4 × 3 section of the input image will be the pixelwise multiplication of the filter weights and the area of the image it is covering. As strides = 2 and padding = \"same\", the width and height of the output are both halved to 16, and since there are 10 filters the output of the first layer is a batch of tensors each having shape [16, 16, 10].\n",
        "\n",
        "In general, the shape of the output from a convolutional layer with padding=\"same\" is:\n",
        "\n",
        "![form.PNG](data:image/png;base64,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)\n",
        "\n",
        "\n",
        "\n",
        "\n",
        "**Batch Normalization**:It is a technique for training very deep neural networks that standardizes the inputs to a layer for each mini-batch. This has the effect of stabilizing the learning process and dramatically reducing the number of training epochs required to train deep networks\n",
        "\n",
        "\n",
        "**Dropout Layers:** \n",
        "\n",
        "When studying for an exam, it is common practice for students to use past papers and sample questions to improve their knowledge of the subject material. Some students try to memorize the answers to these questions, but then come unstuck in the exam because they haven’t truly understood the subject matter. The best students use the practice material to further their general understanding, so that they are still able to answer correctly when faced with new questions that they haven’t seen before.\n",
        "\n",
        "The same principle holds for machine learning. Any successful machine learning algorithm must ensure that it generalizes to unseen data, rather than simply remembering the training dataset. If an algorithm performs well on the training dataset, but not the test dataset, we say that it is suffering from overfitting. To counteract this problem, we use regularization techniques, which ensure that the model is penalized if it starts to overfit.\n",
        "\n",
        "There are many ways to regularize a machine learning algorithm, but for deep learning, one of the most common is by using dropout layers. \n",
        "\n",
        "Dropout layers are very simple. During training, each dropout layer chooses a random set of units from the preceding layer and sets their output to zero\n",
        "\n",
        "Dropout layers are used most commonly after Dense layers since these are most prone to overfitting due to the higher number of weights, though you can also use them after convolutional layers.\n",
        "\n"
      ],
      "metadata": {
        "id": "gSitXN9-XQzF"
      }
    },
    {
      "cell_type": "code",
      "source": [
        "input_layer = Input((32,32,3))\n",
        "\n",
        "x = Conv2D(filters = 32, kernel_size = 3, strides = 1, padding = 'same')(input_layer)\n",
        "x = BatchNormalization()(x)\n",
        "x = LeakyReLU()(x)\n",
        "\n",
        "\n",
        "x = Conv2D(filters = 32, kernel_size = 3, strides = 2, padding = 'same')(x)\n",
        "x = BatchNormalization()(x)\n",
        "x = LeakyReLU()(x)\n",
        "\n",
        "\n",
        "x = Conv2D(filters = 64, kernel_size = 3, strides = 1, padding = 'same')(x)\n",
        "x = BatchNormalization()(x)\n",
        "x = LeakyReLU()(x)\n",
        "\n",
        "x = Conv2D(filters = 64, kernel_size = 3, strides = 2, padding = 'same')(x)\n",
        "x = BatchNormalization()(x)\n",
        "x=LeakyReLU()(x)\n",
        "\n",
        "x=Flatten()(x)\n",
        "x=Dense(128)(x)\n",
        "x=BatchNormalization()(x)\n",
        "x=LeakyReLU()(x)\n",
        "x=Dropout(rate=0.5)(x)\n",
        " \n",
        "x=Dense(NUM_CLASSES)(x)\n",
        "output_layer=Activation('softmax')(x)\n",
        "model=Model(input_layer,output_layer)\n"
      ],
      "metadata": {
        "id": "hEXtvSewZSY2"
      },
      "execution_count": 21,
      "outputs": []
    },
    {
      "cell_type": "code",
      "source": [
        "model.summary()"
      ],
      "metadata": {
        "colab": {
          "base_uri": "https://localhost:8080/"
        },
        "id": "ilRQj7jaf-k4",
        "outputId": "d9e7d85f-f4ef-4fb3-eb2a-053e0f627d95"
      },
      "execution_count": 22,
      "outputs": [
        {
          "output_type": "stream",
          "name": "stdout",
          "text": [
            "Model: \"model_2\"\n",
            "_________________________________________________________________\n",
            " Layer (type)                Output Shape              Param #   \n",
            "=================================================================\n",
            " input_3 (InputLayer)        [(None, 32, 32, 3)]       0         \n",
            "                                                                 \n",
            " conv2d_2 (Conv2D)           (None, 32, 32, 32)        896       \n",
            "                                                                 \n",
            " batch_normalization (BatchN  (None, 32, 32, 32)       128       \n",
            " ormalization)                                                   \n",
            "                                                                 \n",
            " leaky_re_lu (LeakyReLU)     (None, 32, 32, 32)        0         \n",
            "                                                                 \n",
            " conv2d_3 (Conv2D)           (None, 16, 16, 32)        9248      \n",
            "                                                                 \n",
            " batch_normalization_1 (Batc  (None, 16, 16, 32)       128       \n",
            " hNormalization)                                                 \n",
            "                                                                 \n",
            " leaky_re_lu_1 (LeakyReLU)   (None, 16, 16, 32)        0         \n",
            "                                                                 \n",
            " conv2d_4 (Conv2D)           (None, 16, 16, 64)        18496     \n",
            "                                                                 \n",
            " batch_normalization_2 (Batc  (None, 16, 16, 64)       256       \n",
            " hNormalization)                                                 \n",
            "                                                                 \n",
            " leaky_re_lu_2 (LeakyReLU)   (None, 16, 16, 64)        0         \n",
            "                                                                 \n",
            " conv2d_5 (Conv2D)           (None, 8, 8, 64)          36928     \n",
            "                                                                 \n",
            " batch_normalization_3 (Batc  (None, 8, 8, 64)         256       \n",
            " hNormalization)                                                 \n",
            "                                                                 \n",
            " leaky_re_lu_3 (LeakyReLU)   (None, 8, 8, 64)          0         \n",
            "                                                                 \n",
            " flatten_3 (Flatten)         (None, 4096)              0         \n",
            "                                                                 \n",
            " dense_7 (Dense)             (None, 128)               524416    \n",
            "                                                                 \n",
            " batch_normalization_4 (Batc  (None, 128)              512       \n",
            " hNormalization)                                                 \n",
            "                                                                 \n",
            " leaky_re_lu_4 (LeakyReLU)   (None, 128)               0         \n",
            "                                                                 \n",
            " dropout (Dropout)           (None, 128)               0         \n",
            "                                                                 \n",
            " dense_8 (Dense)             (None, 10)                1290      \n",
            "                                                                 \n",
            " activation (Activation)     (None, 10)                0         \n",
            "                                                                 \n",
            "=================================================================\n",
            "Total params: 592,554\n",
            "Trainable params: 591,914\n",
            "Non-trainable params: 640\n",
            "_________________________________________________________________\n"
          ]
        }
      ]
    },
    {
      "cell_type": "markdown",
      "source": [
        "We use four stacked Conv2D layers, each followed by a BatchNormalization and a LeakyReLU layer. After flattening the resulting tensor, we pass the data through a Dense layer of size 128, again followed by a BatchNormalization and a LeakyReLU layer. This is immediately followed by a Dropout layer for regularization, and the network is concluded with an output Dense layer of size 10\n",
        "\n",
        "Problem we see in ReLU is the Dying ReLU problem where some ReLU Neurons essentially die for all inputs and remain inactive no matter what input is supplied, here no gradient flows and if large number of dead neurons are there in a Neural Network it’s performance is affected, this can be corrected by making use of what is called Leaky ReLU where slope is changed left of x=0 in above figure and thus causing a leak and extending the range of ReLU\n",
        "\n",
        "With Leaky ReLU there is a small negative slope, so instead of not firing at all for large gradients, our neurons do output some value and that makes our layer much more optimized too.\n",
        "\n"
      ],
      "metadata": {
        "id": "bA68n2-gXcrf"
      }
    },
    {
      "cell_type": "code",
      "source": [
        "# training\n",
        "opt = Adam(lr = 0.0005)\n",
        "model.compile(loss = 'categorical_crossentropy', optimizer = opt, metrics = ['accuracy'])"
      ],
      "metadata": {
        "id": "5IeWiitYgM-d"
      },
      "execution_count": 23,
      "outputs": []
    },
    {
      "cell_type": "code",
      "source": [
        "# Fitting the data to the model\n",
        "model.fit(x_train, y_train, batch_size = 32, epochs = 10, shuffle = True, validation_data = (x_test, y_test))"
      ],
      "metadata": {
        "colab": {
          "base_uri": "https://localhost:8080/"
        },
        "id": "fWrVTDeAhkHs",
        "outputId": "0779e586-952a-4241-e035-58c3c5fb83d8"
      },
      "execution_count": 24,
      "outputs": [
        {
          "output_type": "stream",
          "name": "stdout",
          "text": [
            "Epoch 1/10\n",
            "1563/1563 [==============================] - 16s 6ms/step - loss: 1.5603 - accuracy: 0.4549 - val_loss: 1.2759 - val_accuracy: 0.5367\n",
            "Epoch 2/10\n",
            "1563/1563 [==============================] - 10s 6ms/step - loss: 1.1606 - accuracy: 0.5893 - val_loss: 1.0490 - val_accuracy: 0.6297\n",
            "Epoch 3/10\n",
            "1563/1563 [==============================] - 10s 6ms/step - loss: 1.0139 - accuracy: 0.6436 - val_loss: 0.9687 - val_accuracy: 0.6626\n",
            "Epoch 4/10\n",
            "1563/1563 [==============================] - 10s 6ms/step - loss: 0.9310 - accuracy: 0.6752 - val_loss: 0.9485 - val_accuracy: 0.6732\n",
            "Epoch 5/10\n",
            "1563/1563 [==============================] - 10s 6ms/step - loss: 0.8703 - accuracy: 0.6946 - val_loss: 0.9146 - val_accuracy: 0.6808\n",
            "Epoch 6/10\n",
            "1563/1563 [==============================] - 10s 6ms/step - loss: 0.8081 - accuracy: 0.7202 - val_loss: 0.8481 - val_accuracy: 0.7016\n",
            "Epoch 7/10\n",
            "1563/1563 [==============================] - 9s 6ms/step - loss: 0.7692 - accuracy: 0.7327 - val_loss: 0.8094 - val_accuracy: 0.7190\n",
            "Epoch 8/10\n",
            "1563/1563 [==============================] - 10s 6ms/step - loss: 0.7269 - accuracy: 0.7471 - val_loss: 0.8892 - val_accuracy: 0.6946\n",
            "Epoch 9/10\n",
            "1563/1563 [==============================] - 9s 6ms/step - loss: 0.6934 - accuracy: 0.7577 - val_loss: 0.8125 - val_accuracy: 0.7196\n",
            "Epoch 10/10\n",
            "1563/1563 [==============================] - 10s 6ms/step - loss: 0.6582 - accuracy: 0.7711 - val_loss: 0.8395 - val_accuracy: 0.7138\n"
          ]
        },
        {
          "output_type": "execute_result",
          "data": {
            "text/plain": [
              "<keras.callbacks.History at 0x7f9d6c45cca0>"
            ]
          },
          "metadata": {},
          "execution_count": 24
        }
      ]
    },
    {
      "cell_type": "code",
      "source": [
        "model.evaluate(x_test, y_test, batch_size=1000)"
      ],
      "metadata": {
        "colab": {
          "base_uri": "https://localhost:8080/"
        },
        "id": "PgP_HFeTqA6M",
        "outputId": "0a977e30-7a91-44c7-eccb-6f8f32ed7274"
      },
      "execution_count": 25,
      "outputs": [
        {
          "output_type": "stream",
          "name": "stdout",
          "text": [
            "10/10 [==============================] - 1s 24ms/step - loss: 0.8395 - accuracy: 0.7138\n"
          ]
        },
        {
          "output_type": "execute_result",
          "data": {
            "text/plain": [
              "[0.8394975662231445, 0.7138000130653381]"
            ]
          },
          "metadata": {},
          "execution_count": 25
        }
      ]
    },
    {
      "cell_type": "code",
      "source": [
        "CLASSES = np.array(['airplane', 'automobile', 'bird', 'cat', 'deer', \n",
        "                    'dog', 'frog', 'horse', 'ship', 'truck'])\n",
        "\n",
        "preds = model.predict(x_test)\n",
        "preds_single = CLASSES[np.argmax(preds, axis = -1)]\n",
        "actual_single = CLASSES[np.argmax(y_test, axis = -1)]"
      ],
      "metadata": {
        "colab": {
          "base_uri": "https://localhost:8080/"
        },
        "id": "VD2IDNUfqIWk",
        "outputId": "a7d939d7-0713-41e2-e3ff-1a810562600d"
      },
      "execution_count": 26,
      "outputs": [
        {
          "output_type": "stream",
          "name": "stdout",
          "text": [
            "313/313 [==============================] - 1s 2ms/step\n"
          ]
        }
      ]
    },
    {
      "cell_type": "code",
      "source": [
        "a = ['codegnan','python','vjwda','mern','jap']\n",
        "c = enumerate(a,2)\n",
        "#print(list(c))\n",
        "print(dict(c))"
      ],
      "metadata": {
        "colab": {
          "base_uri": "https://localhost:8080/"
        },
        "id": "oj7A75KGXz33",
        "outputId": "4188808c-112f-4f09-8c37-81c2e065c04c"
      },
      "execution_count": 27,
      "outputs": [
        {
          "output_type": "stream",
          "name": "stdout",
          "text": [
            "{2: 'codegnan', 3: 'python', 4: 'vjwda', 5: 'mern', 6: 'jap'}\n"
          ]
        }
      ]
    },
    {
      "cell_type": "markdown",
      "source": [],
      "metadata": {
        "id": "w5D4txXzXzF7"
      }
    },
    {
      "cell_type": "code",
      "source": [
        "n_to_show = 10\n",
        "indices = np.random.choice(range(len(x_test)), n_to_show)\n",
        "\n",
        "fig = plt.figure(figsize = (15, 3))\n",
        "fig.subplots_adjust(hspace = 0.4, wspace = 0.4)"
      ],
      "metadata": {
        "colab": {
          "base_uri": "https://localhost:8080/",
          "height": 34
        },
        "id": "3DbcHZGBh1yc",
        "outputId": "00cf9b85-6704-4cfe-cf2d-57cdf5a5ae0e"
      },
      "execution_count": null,
      "outputs": [
        {
          "output_type": "display_data",
          "data": {
            "text/plain": [
              "<Figure size 1080x216 with 0 Axes>"
            ]
          },
          "metadata": {}
        }
      ]
    },
    {
      "cell_type": "code",
      "source": [
        "#then we will add our required data values to it\n",
        "\n",
        "for i, idx in enumerate(indices):\n",
        "    img = x_test[idx]\n",
        "    ax = fig.add_subplot(1, n_to_show, i+1)\n",
        "    ax.axis('off')\n",
        "    ax.text(0.5, -0.35, 'pred = ' + str(preds_single[idx]), \n",
        "            fontsize=10, ha='center', transform=ax.transAxes) \n",
        "    ax.imshow(img)"
      ],
      "metadata": {
        "colab": {
          "base_uri": "https://localhost:8080/"
        },
        "id": "-GTmsPTtjt8C",
        "outputId": "bc3bcb42-a278-4b33-a9d7-79021f8fa017"
      },
      "execution_count": null,
      "outputs": [
        {
          "output_type": "stream",
          "name": "stderr",
          "text": [
            "<ipython-input-49-14a80dd1805b>:5: MatplotlibDeprecationWarning: Adding an axes using the same arguments as a previous axes currently reuses the earlier instance.  In a future version, a new instance will always be created and returned.  Meanwhile, this warning can be suppressed, and the future behavior ensured, by passing a unique label to each axes instance.\n",
            "  ax = fig.add_subplot(1, n_to_show, i+1)\n"
          ]
        }
      ]
    },
    {
      "cell_type": "code",
      "source": [
        "import matplotlib.pyplot as plt\n",
        "\n",
        "n_to_show = 10\n",
        "indices = np.random.choice(range(len(x_test)), n_to_show)\n",
        "print(indices)\n",
        "fig = plt.figure(figsize=(15, 3))\n",
        "fig.subplots_adjust(hspace=0.4, wspace=0.4)\n",
        "\n",
        "#then we will add our required data values to it\n",
        "for i, idx in enumerate(indices):\n",
        "    img = x_test[idx]\n",
        "    ax = fig.add_subplot(1, n_to_show, i+1)\n",
        "    ax.axis('off')\n",
        "    ax.text(0.5, -0.35, 'pred = ' + str(preds_single[idx]), \n",
        "            fontsize=10, ha='center', transform=ax.transAxes) \n",
        "    ax.text(0.5, -0.7, 'act = ' + str(actual_single[idx]), \n",
        "            fontsize=10, ha='center', transform=ax.transAxes)\n",
        "    ax.imshow(img)"
      ],
      "metadata": {
        "colab": {
          "base_uri": "https://localhost:8080/",
          "height": 155
        },
        "id": "5Fi3RIt3Y8S-",
        "outputId": "5170e34f-2c87-4188-98da-f889fecca5f8"
      },
      "execution_count": 28,
      "outputs": [
        {
          "output_type": "stream",
          "name": "stdout",
          "text": [
            "[5813 3691 4534 2382 9074 8820 5574 6239 3451 9326]\n"
          ]
        },
        {
          "output_type": "display_data",
          "data": {
            "text/plain": [
              "<Figure size 1080x216 with 10 Axes>"
            ],
            "image/png": "[encoded data removed]"
          },
          "metadata": {
            "needs_background": "light"
          }
        }
      ]
    },
    {
      "cell_type": "markdown",
      "source": [
        "**https://data.world/crowdflower/brands-and-product-emotions**\n",
        "\n",
        "\n",
        "---\n",
        "\n"
      ],
      "metadata": {
        "id": "flXWhK0yqkud"
      }
    },
    {
      "cell_type": "code",
      "source": [
        "# https://rapidapi.com/rapidapi/api/movie-database-alternative/"
      ],
      "metadata": {
        "id": "z8dwfTK6qv2E"
      },
      "execution_count": null,
      "outputs": []
    },
    {
      "cell_type": "markdown",
      "source": [
        "This improvement has been achieved simply by changing the architecture of the model to include convolutional, batch normalization, and dropout layers. Notice that the number of parameters is actually fewer in our new model than the previous model, even though the number of layers is far greater. This demonstrates the importance of being experimental with your model design and being comfortable with how the different layer types can be used to your advantage. When building generative models, it becomes even more important to understand the inner workings of your model since it is the middle layers of your network that capture the high-level features that you are most interested in.\n",
        "\n",
        "\n",
        "**Recurrent neural networks**\n",
        "\n",
        "A neural network that is intentionally run multiple times, where parts of each run feed into the next run. Specifically, hidden layers from the previous run provide part of the input to the same hidden layer in the next run. Recurrent neural networks are particularly useful for evaluating sequences, so that the hidden layers can learn from previous runs of the neural network on earlier parts of the sequence.\n",
        "\n",
        "For example, the following figure shows a recurrent neural network that runs four times. Notice that the values learned in the hidden layers from the first run become part of the input to the same hidden layers in the second run. Similarly, the values learned in the hidden layer on the second run become part of the input to the same hidden layer in the third run. In this way, the recurrent neural network gradually trains and predicts the meaning of the entire sequence rather than just the meaning of individual words.\n",
        "\n",
        "\n",
        "![rr.PNG](data:image/png;base64,iVBORw0KGgoAAAANSUhEUgAAAn8AAAIFCAYAAACj95tcAAAAAXNSR0IArs4c6QAAAARnQU1BAACxjwv8YQUAAAAJcEhZcwAADsMAAA7DAcdvqGQAADmpSURBVHhe7d3PqyRZft/9/jtGI7l2j8GL3oyE/MgD7U03xjBGi6ELZHA/YGgZ25hZFGZWLhVaaCH1Yhb2tATTILUxQpvGtsSjjWrh9lgGGeEfgvKqYSRvTGtjQW+v+3NvfbtORUfee6siM+MbGa83fLiZcU6cjIzI/J73jbiZ940rAAAA7AbyBwAAsCPIHwAAwI4gfwAAADuC/AEAAOwI8gcAALAjyB8AAMCOIH8AAAA7gvwBAADsCPIHAACwI8gfAGAzfPbZZ1dPnz69evz48Vd57733vpYs/+ijj677Zh0ALyB/AIC2RNxK8N54443r/NRPf+Pqnz76Ry/l137wqy/lFx/+vev83C/87HX/rPfgwYPrcUoKgb1C/gAArSjhi6yNovc7n/zo6n/+7//+Wvmj//KH1ykxnMqgs4PYE+QPANCCnI2rM3xLZe8+mcrgW2+9dS2CwKVD/gAAqxLhGi/nzonaqTOKYM4IEkFcMuQPALAKudQayYr0nfos36ukRDB/L1iXhv2NIC4J8gcAODv5m766vDsnYF0SEcw21t8IOhuIS4D8AQDORs6gRaJyVi1iNSdcHTM9Gxh5BbYK+QMAnIUIU7dLvK+TiGD9bWCek08KY2uQPwDAycnf9uWs2ZxMbTV1SdjfBWJrkD8AwMmoD3VcmviNGf8ukARiC5A/AMBJiPht4UMdx0pJYC5tR3hJILpC/gAARyfiE/Hb+t/3vU5GCcwlYRKIbpA/AMBR2bP4jSGB8+TrcnJ5HOtB/gAARyWT+yX/jd+rJhKYr4kpCdzzdwXWv+/LZXGsB/kDAByVnOEif1/P3iWwPviTM8Lkb13IHwDgqJC/21MSmH0UCbz0L4yuT3znuxHz/Mnf+pA/AMBRIX/3z6VLYP395/iJb/K3PuQPAHBUyN+rJ2cDL+2/huSy9twHf8jf+pA/AMBRIX+vn/qEcCRwq18YXZd587eNU/FLyN/6kD8AwFEhf8tTElgfDtnKJeFs5/Qy7zTkb33IHwDgqET+Ii1zE7+8WuY+HNLxbGC2KdJ3H+knf+tD/gAAR4X8nSZzZwPXFsFsQ7bl0CXeuaRf1sF6kD8AwFEhf6dPfUAkZ9vOLYL5m766vJvjfNsl3rmQv/UhfwCAoxI5IH/nSSQwMhURrEvD+aBIPml7TBks4auzfBG+PPbcNt0V8rc+5A8AcFTI33qpvxEcZTB/XxchHKUwyXGaS9oieknWrTN8GTNjzz3uqyTbSP7WhfwBAI5KBIL89UidGSwhLCnM8YnUldhNk345u5d158ZdEvK3PuQPAHBUyJ/cFvK3PuQPAHBUyJ/cFvK3PuQPAHBUyJ/cFvK3PuQPAHBUyJ/cFvK3PuQPAHBUIn/5IMHcxC9C/taH/AEAjsp95O+//uRPrh7+g+9e/fq/+rXZ9n/2z//JdebatpY8xzzXPOe59vvkrjH+/x//u6u/9db/e/1zrr1TIn95fWA97H0AwFEhfy+H/L0c8rc+9j4A4OiQvxchfy+H/K2PvQ8AODrHlr9/8+9/+3rMylQMa7xq//bf/oWr//w//8NX7en//SePrpenPeON6yclWP/wH/9/X40zClfG+7u/+Heunvz6v/jaY2T8Wuev/43/5yUJu2vcJP2zXrUn43O8a4xR/vLcptswtteyNZPtx3rY+wCAo5PJfW7Sr7yK/E3FJcIV8SqBq/vjWLk9lbOpEE2TdUbpqm2s+/U4o3RVn3FZxhkfq8at7Ts07iikJbu17K4xxn10aH+M27h28lywHvY+AODoZHKfm/QrJS+joIyJ1JTYzJ3JGpP2qdhMx89Yd8lP+o7CmNwlVWN7LZs+dn5OH3tuvTFTIbxrjOl44/Odbk+HkL91sfcBAEfnmPJXfTNmUssrGaPapqnxx/EOZU6wRgmbClmS21NhTDJWPd54uzI31vR5JqP83TbGVP6yrIR52tYheW5YD3sfAHB0MrnPTfpjIjMlZ/dti9SUGJUM5edU2qZJn+p/KHm8Y8nf+Hh3iVvdHp/T9LFeVf5KJLPe3PNaO+RvXex9AMDRyeSeT3XOTfyVOaFJpuIzl1G6Mk7dnuub5HHmHmvM3DijVM1t11S6klG8cn9Ovsb1xucytufMXT3WXWOMt6s96+QDIuO2dAn5Wxd7HwBwdO4jfyU4UzGJpI2iEwGa/s3fKHMlZaPc1dglT2P/Q8l2jGffSuKmjzPKX/UZtzfjjNtb49bznI47fX71OFlnlL/bxsi6U/mrfTDddx2S55Lvg8Q6kD8AwNHJ5H6X/CWj6FRGkaqU/BzqMzfOKGmRpBKlQ8ljZNzx61TGdebkr5J+tc5Utu4at/pUW/Kj3/vNl+TurjHm5K8EMZnuz7WT7Sd/60H+AABHJ/+79T7y1yklWN1E6XVT8pfnNde+ZsjfupA/AMDRIX/rJ2cB86XUOWM5175mfuqnv0H+VoT8AQCODvlbN3UZeu4SdYeQv3UhfwCAo7NF+ZPzhfytC/kDABwd8ie3hfytC/kDABwd8ie3hfytC/kDABydyN/vfPKj2Yl/a/nkj35v0d8Bjutf2odKXjfkb13IHwDg6FyK/C2Vten65O8mkb+nT58+f7Xg3JA/AMDRIX83IX/zIX/rQv4AAEfnrbfeOrr8TcUpP3M/y6tPvtok/4Uj321X7fUfMZJqS9/6rxj/8rd/cP1fOarP9F+qJfVfO6Zj3vav0+bWr+cw/qeO8TlVbvuPIZcQ8rcu5A8AcHROIX8layVC+RkxGv/NWW7X/fF2Uv+erZbV+qN8Rc5GQSxZq/bpmNP2aabtuR+hy8/cz/K015jT+0lk9NIE8Od+4WfJ34qQPwDA0TmF/JUYlTjl5/efPLpeFlkrubvti41HeSv5G/tn2SiYo7zNidldGdev+6NcTvvkcef+K8e43ZcQ8rcu5A8AcHROIX9JRKkkKD9/9Hu/eS1OEbhD4pR16hJqUutPRW9u2VTe8jg1zn3Oxk3Xn96fLhvHn4b84ViQPwDA0TmV/EWOcubsD//Tv78Wpohe5KkyClJuR5rGM21ZtkT+Krmf5Rn/Ngmcrj833rgst6dnBi8x5G9dyB8A4OicSv4iRZGjqcRFnnLWL/I09hsv6ZawHUP+KjVmPe400/XnxhuXZXsv7e/75kL+1oX8AQCOzqnkL4m85YxbCVeJ3ihNtWyUslrvVeSvzjRmvBK9Wv/QGGPG9XP/Lvmrxxj7zD2XrYf8rQv5AwAcncjfr/3gV2cn/qWZOzsWIZtKVdrTL8JX0heBKhmbE7fpshKvrJ/HHe9XsrzWn2a6/l3yl/slgONjXJL4JeRvXcgfAODonFL+ZPuJ/H300UfPXy04N+QPAHB0yJ/cFvK3LuQPAHB03nvvPfInB0P+1oX8AQCODvmT2/KLD/8e+VsR8gcAODrkT24L+VsX8gcAODpbkL+5T+5e2qdqu4b8rQv5AwAcne7yF8mL7I1f01JfsVJfBTP2l+OG/K0L+QMAHJ3O8jf3/X6VEsDxi5zl+CF/60L+AABHJ/L3Tx/9o9mJf+3krN9tchcpzL+Kq7N/0y9hnls2/WLmubOHOctY7cl4ibmE9F/+9g9e+mLq275AevqYc/8WLs/zUHs9hye//i++6jPd7uml8e8/eXR9/7btuk/I37qQPwDA0ekqfyVMo3hNU8JTgnOX/FX/cczcHkVqen+6TqQscjY+znSdaSJ2o8Smf61fz3M63iiAuR+hq22odWrMQ/ezzjHk7/Hjx89fLTg35A8AcHT2JH/pN20fH6duT4Up90vuSv7GPln2upen59Ydtyn383Mql9PnNW2f287XCflbF/IHADg6mdj3In+5XZdFp0lbjTfXPsrfVNbmlo3J9tU400u6c+KWZHtKGO/zvKbt033zuiF/60L+AABHp6v8JaMAzWUqXXdJUsaato/JOHedLZs+5qFlc8nj5vFHCTwkf9nWDvKX1wb5Ww/yBwA4Op3lb06qbpO5OQka+6R9TrQqJUzpN9eezG3T3LLbkm3JNuVx5tYd23N/7nmNy+YEMuMd47Iv+VsX8gcAODqd5S+JvORM2SgxEbpDl1DHviVAJUkld3VGbexT60SqpuOOApnlryJ/JXLTx6z+1V7jp326DXfJ3/Qx6v50v71OyN+6kD8AwNHpLn9JSVtkZpqpqEWKqi0ClK9HGcVpbqypII1jJOP6o7hV/7llY+7zmCW0ydxzGrdhbtn0MaZf9XLXNh4K+VsX8gcAODpbkL/bEpnJd+7Nte05kcF8B+Kryt405G9dyB8A4OhsXf7k5nL3bZeqx76vGvK3LuQPAHB0MrHn6zzmJn7ZTm67VL0k5G9dyB8A4OiQP7ktkb98ETjWgfwBAI7OOeTvj/7LH179zic/uvq1H/zqbNKWzK0r64b8rQv5AwAcnfzT/mPJXyQviTAkP/cLP3t9CfLBgwdXb7311leJTIzJsvRJ35/66W9cJ9tUYjj3WHKe5BiQv/UgfwCAo3MM+SvhK9GLLOSM4tOnT58/yv357LPPrtfLdmWcjEcG1wv5WxfyBwA4Oq8rfyV8EbMI2ik/FBAhnMpgHpsInj7kb13IHwDg6Lyq/I1n+SIFWf/cRAYjm0Tw9CF/60L+AABH51Xkr6TvlGf5XpUSwfp7wcjK3LbL64X8rQv5AwAcnfvIX872RazywYzIVkfq0nC2sc4GZrvnno/cP+RvXcgfAODoRJjyqdy5ib8u8Z76b/qOzXg2MM/NJeHXT+QvQo11IH8AgKNzSP4iTN0u8b4qdTaw/jbQJeFXD/lbF/IHADg6c/KXCT/i9zpf1dKRuUvC4/OVwyF/60L+AABHJ4I3yl9d5r0U8ZsSESSB90/OAJO/9SB/AICjM8pffu5loo8E5oMMJPD2kL91IX8AgKNT8rcn8RupD4f4hPB8yN+6kD8AwNGJ/G39gx3HgATOx9/8rQv5AwAcnUhPghtGCcz3H+5ZAusT35f6959bgPwBAHAm9i6BOeN3yR/82QrkDwCAMzOVwJwNm5OlS0qeZ8TPGeH1IX8AAKxESWAug16yBO71gz9dIX8AAKxMSeCl/deQXNaO+Pk/vr0gfwAANCESeCn/NSTb7hPfPSF/AAA0JB+KqC+M3tIl4WxntjkC6+/7ekL+AABozFYuCecSb32oI2cv0RfyBwDABpheEo5odRDBSJ9LvNuC/AEAsDHqbOAogue+LFxn+kr6XOLdDuQPAIANMxXBfLo2Z+JOIYPjWb5c3nWmb5uQPwAALoS6NJwPiowyWJeII4T3lcKIXtaJ7GWMUfic5ds25A8AgAulZDDCVkIYgYvIRQznkrYSvfTPuv4d22VB/gAAOAPdzpZleyJ1SW6PwWVD/gAAODERrJxFAzpA/gAAODG55JrLqEAHyB8AACem/s7Olx+jA+QPAIATEuGrD1G49IsOkD8AAE5ILvmW/CU+OYu1IX8AAJyQUfwSX4yMtSF/AACcGJ/2RSfIHwAAJ4b8oRPkDwCAE0P+0AnyBwDAiSF/6AT5AwDgxJA/dIL8AQBwYsgfOkH+AAA4MeQPnSB/AACcGPKHTpA/AABODPlDJ8gfAAAnhvyhE+QPAIATQ/7QCfIHAMCJIX/oBPkDAODEkD90gvwBAHBiyB86Qf4AADgx5A+dIH8AAJwY8odOkD8AAE4M+UMnyB8AACeG/KET5A8AgBND/tAJ8gcAwIkhf+gE+QMA4MSQP3SC/AEAcGLIHzpB/gAAODHkD50gfwAAnBjyh06QPwAATgz5QyfIHxbxxhtvyJdJYV+bbMPctu0tDx48uPrss8+e75X1eO+992a3b2/pIjxz27bHfPTRR8/3CPYM+cMiUkz+9Cd/tet857u/1KKgZhu+9fPfnt3GPSWvyS7y9yu/8cPZbdxLfut3/6CV/M1t456SWvX48ePnewR7hvxhEQoq+esW8tcn5K9XyB8K8odFKKjkr1vIX5+Qv14hfyjIHxahoJK/biF/fUL+eoX8oSB/WISCSv66hfz1CfnrFfKHgvxhEQoq+esW8tcn5K9XyB8K8odFKKjkr1vIX5+Qv14hfyjIHxahoJK/biF/fUL+eoX8oSB/WISCSv66hfz1CfnrFfKHgvxhEQoq+esW8tcn5K9XyB8K8odFKKjkr1vIX5+Qv14hfyjIHxahoJK/biF/fUL+eoX8oSB/WISCSv66hfz1CfnrFfKHgvxhEQoq+esW8tcn5K9XyB8K8odFKKjkr1vIX5+Qv14hfyjIHxahoJK/biF/fUL+eoX8oSB/WISCSv66hfz1CfnrFfKHgvxhEQoq+esW8tcn5K9XyB8K8odFKKjkr1vIX5+Qv14hfyjIHxahoJK/biF/fUL+eoX8oSB/WISCSv66hfz1CfnrFfKHgvxhEQoq+esW8tcn5K9XyB+KXcnfs2fPrh4+fHj1+eefP1/y6mTdjJGxpnz66adX77///tUXX3zxfMnlo6CSv24hf31C/nqF/KEgf68I+XsZBZX8dQv56xPy1yvkD8Vm5S+ilTdzMgrXVMA+/vjjqydPnlxL2zvvvHPdPz//+I//+FriPvjgg+tlb7755ldCN5XEGvMv//Ivr39O+xdzj13bWP2nY+dn1hkfq9YZx8ryt99++3qccfnaZDvnisyeQv56Ja9J8tcj5K9XyB+KTcpfBCoSFCGKBEWGInhhTsCqbRSvGqPa0q/WmwraOGaWpS19poz9cjuSWWPkcZLa3rSH/By3L4KXn9Wv2tJvTjjXRkElf91C/vqE/PUK+UOxSfkbJavul2hN226TvxKtMErd2C+MY479pkwfe2TcjtxOQpZlvTAKaBjHy+1RJrugoJK/biF/fUL+eoX8odik/E0laZS1qYCN0jX2mwreKHXTtnHMsd+UsV+S2yk4lXE7Hj16dPXnf/7n133qcbKtY//kkNR2Ids4V2T2FPLXK3lNkr8eIX+9Qv5QXPyZvwjXIfkbz/yN98d+YZTNLLuP/E0FdZTQLIv8ffjhh18tC2OfKeSvb8hfr5C/PiF/vUL+UFzk3/zV38ZF1CKFh+Qv/SJcYZS1ufGr7XXkb7odIe0pRlmnyJijkKZ/jTGO3QkFlfx1C/nrE/LXK+QPxSblL0SG8mZOplIUacryCFc+zVvSVRKW1Kd9s271TXtRchYJzBm6eowkt0swR0ZBq8eqsT/55JOXtjPrjmcXi/F5jdtE/vqG/PVKXpPkr0fIX6+QPxSblb+lHJKvcxG5HM8EbhUFlfx1C/nrE/LXK+QPBflbQf4ifdMzjVtFQSV/3UL++oT89Qr5Q7Fb+cNxUFDJX7eQvz4hf71C/lCQPyxCQSV/3UL++oT89Qr5Q0H+sAgFlfx1C/nrE/LXK+QPBfnDIhRU8tct5K9PyF+vkD8U5A+LUFDJX7eQvz4hf71C/lCQPyxCQSV/3UL++oT89Qr5Q0H+sAgFlfx1C/nrE/LXK+QPBfnDIhRU8tct5K9PyF+vkD8U5A+LUFDJX7eQvz4hf71C/lCQPyxCQSV/3UL++oT89Qr5Q0H+sAgFlfx1C/nrE/LXK+QPBfnDIhRU8tct5K9PyF+vkD8U5A+LUFDJX7eQvz4hf71C/lCQPyxCQSV/3UL++oT89Qr5Q0H+sAgFlfx1C/nrE/LXK+QPBfnDIhRU8tct5K9PyF+vkD8U5A+LSEH9/R//2a7TTf7mtnFP6SR/v/y9789u414S+e0kf3PbuKeQPxTkD4tIYX/w4MHu8/Tp0+d7ZD0iPHPbds5kgp1bfu50IDI+t23nTIfjEQnuQLZjbvv2lg61CutD/rBpUsi6TC64mWBNLn3octYNN7XK8UAXyB82Tf02jx7kWJjgehDZyJk/Mt4DtQqdIH/YNCmmJrge5DJnXWbE+kQ2cjzIeA+qVnX4+2CA/GGzlGyY4HpQsmGC60HJBhlfH7UK3SB/2CyjbJjg1qeOhQlufUbZSMj4uoy1KnGlAmtD/rBZxmKamODWYyobiQluPaayQcbXZTwWia9bwdqQP2ySfK1JEunIWb8O3+u2Z+p4RDoysTke61LHI6IRCXc81qOORY6DWoUukD9smsifsxp9iPw5A9uHyB/Z6EHkT61CF8gfNg356wX56wX56wP5QyfIHzYN+esF+esF+esD+UMnyB82DfnrBfnrBfnrA/lDJ8gfNg356wX56wX56wP5QyfIHzYN+esF+esF+esD+UMnyB82DfnrBfnrBfnrA/lDJ8gfNg356wX56wX56wP5QyfIHzYN+esF+esF+esD+UMnyB82DfnrBfnrBfnrA/lDJ8gfNg356wX56wX56wP5QyfIHzYN+esF+esF+esD+UMnyB82DfnrBfnrBfnrA/lDJ8gfNg356wX56wX56wP5QyfIHzYN+esF+esF+esD+UMnyB82DfnrBfnrBfnrA/lDJ8gfNg356wX56wX56wP5QyfIHzYN+esF+esF+esD+UMnyB82DfnrBfnrBfnrA/lDJ8gfNg356wX56wX56wP5QyfIHzYN+esF+esF+esD+UMnyB82DfnrBfnrBfnrA/lDJ8gfNg356wX56wX56wP5QyfIHzYN+esF+esF+esD+UMnyB8WkWKWCWbPefDgwXVhX5tsw9z27S05Hh14/Pjx7PbtLfmFoANq1U38coZA/rCIFJPf//Gf7Trf+e4vtSio2YZvfPNnZrdxT8lrssPZrkjPL3/v+7PbuJf81u/+QZuzXWrVTa3KLyUA+cMiUlD/9Cd/tet0kr9v/fy3Z7dxT+kkf7/yGz+c3ca9pJv8zW3jnkL+UJA/LEJBJX/dQv76hPz1CvlDQf6wCAWV/HUL+esT8tcr5A8F+cMiFFTy1y3kr0/IX6+QPxTkD4tQUMlft5C/PiF/vUL+UJA/LEJBJX/dQv76hPz1CvlDQf6wCAWV/HUL+esT8tcr5A8F+cMiFFTy1y3kr0/IX6+QPxTkD4tQUMlft5C/PiF/vUL+UJA/LEJBJX/dQv76hPz1CvlDQf6wCAWV/HUL+esT8tcr5A8F+cMiFFTy1y3kr0/IX6+QPxTkD4tQUMlft5C/PiF/vUL+UJA/LEJBJX/dQv76hPz1CvlDQf6wCAWV/HUL+esT8tcr5A8F+cMiFFTy1y3kr0/IX6+QPxTkD4tQUMlft5C/PiF/vUL+ULSWvydPnlx9/PHHz++94Isvvrh6//33rz799NPnS17w+eefX73zzjuzbVmWtvQ5Brdtx15QUMlft5C/PiF/vUL+UGxS/m6D/J0XBZX8dQv56xPy1yvkD0V7+fvggw+uhS1v3NwPU+mq++mTn6P8PXv27OrNN9/8av1R/sa26fKHDx9+NWYyJ3jT7cjP6j+uM5XY3K7747aP69Tyd99996Xl3ci2zRWZPYX89Upek+SvR8hfr5A/FO3lr6SsRC0SNJWu9Mv9LM+ykqU6C1iiNY5XbXNj1GON61XbyLgdWeftt9++/hmy7rhNdTt59OjRV/0ydhLSL4+bthq72rqioJK/biF/fUL+eoX8oWgvfyU/o2gduj3tF4nKGbzpGb3cT/vc2b7cz+1R5NI3Y2bskeljj4zrZMzcrrEjf7V8FNBxvLpdAtoVBfW88ve/nj59fuvrkL+bnFP+bjse5O/88nfb8VCryB9esJm/+ZsTo9y+TaCSQ4KXthSDMXXWbewX0jdjZuyR8bFCtnccb1wnbemX51PPqbZ9XCdJ+3TsrmR754rMnnJO+Xv6pVD86wcPrn8+mzwm+btJXpPnkr8ffvlYOR5/8uWEOhUP8nde+cv+H4/HFLWK/OEFm5e/qSSN96cSN5W/9Ev/Ka8jf8komtN1cj9n/MZLvumbx6n7I+PYnVFQX8hfJpxT599+OZFmgquUCGbiI383yWvyP57peIzHoo5Hlv+fL+WT/L2Qv/yiMt13x07eB9NjMf6SpFaRP7xg8/IX0qdEK8vyJh/71RgZrwQtGc8Ypk+1LZW/Wj6uU483HSfblIQ87qG/a+yKgnpe+cuENp3gspz8vUhek//ty/0x3XenyHgsxuNB/m6ypvyNx0Otugn5Q3ER8lf38+bOz5xdq7YSqrTlk8NpL6kb2+qSby1/VfkbtyFjffLJJy+NEcbnU4zrJXPPtzPZ5rkis6eU/J2DmuDGSa0gfzfJa9Jl3x5x2bdXyB+K1vJ3SUQCD13i3TIK6nnlbyoYI+TvJueUv+nfXY6Qv/PKX862JodQq8gfXkD+zkCdYZye9bsEFNTzyt9tkL+bnFP+boP8nVf+7kKtIn94AfnDIhRU8tct5K9PyF+vkD8U5A+LUFDJX7eQvz4hf71C/lCQPyxCQSV/3UL++oT89Qr5Q0H+sAgFlfx1C/nrE/LXK+QPBfnDIhRU8tct5K9PyF+vkD8U5A+LUFDJX7eQvz4hf71C/lCQPyxCQSV/3UL++oT89Qr5Q0H+sAgFlfx1C/nrE/LXK+QPBfnDIhRU8tct5K9PyF+vkD8U5A+LUFDJX7eQvz4hf71C/lCQPyxCQSV/3UL++oT89Qr5Q0H+sAgFlfx1C/nrE/LXK+QPBfnDIhRU8tct5K9PyF+vkD8U5A+LUFDJX7eQvz4hf71C/lCQPyxCQSV/3UL++oT89Qr5Q0H+sAgFlfx1C/nrE/LXK+QPBfnDIhRU8tct5K9PyF+vkD8U5A+LUFDJX7eQvz4hf71C/lCQPyxCQSV/3UL++oT89Qr5Q0H+sAgFlfx1C/nrE/LXK+QPBfnDIhRU8tct5K9PyF+vkD8U5A+LePDgwXVR3XuePn36fI+sR7Zhbtv2lrwmO8hfZHxu+/aWSHAH1KqbdKhVWB/yh02TQtZlcsHV9VkFk0sfupx1ww1qFbpA/rBpUkzzGz16kGNhgutBnQkm4z3IL0ZqFbpA/rBp6lKOCW596jKnCa4HkfAcD2f/eqBWoRPkD5tl/JsqE9z6lGyY4HpQskHG10etQjfIHzbLKBsmuPUp2TDBrc/0wya5j/VQq9AN8ofNMk5uiQluPaayYYJbl1E2EjK+LuMvRomvW8HakD9sknyVRy4t1h9R53aHr/fYK3U8Ihn1iV/HYz2y/5OIRsQ8t7EO9d7IcVCr0AXyh02TguqsRh9yxskZ2D5E/ohGDyJ9ahW6QP6wachfL8hfL8hfH8gfOkH+sGnIXy/IXy/IXx/IHzpB/rBpyF8vyF8vyF8fyB86Qf6wachfL8hfL8hfH8gfOkH+sGnIXy/IXy/IXx/IHzpB/rBpyF8vyF8vyF8fyB86Qf6wachfL8hfL8hfH8gfOkH+sGnIXy/IXy/IXx/IHzpB/rBpyF8vyF8vyF8fyB86Qf6wachfL8hfL8hfH8gfOkH+sGnIXy/IXy/IXx/IHzpB/rBpyF8vyF8vyF8fyB86Qf6wachfL8hfL8hfH8gfOkH+sGnIXy/IXy/IXx/IHzpB/rBpyF8vyF8vyF8fyB86Qf6wachfL8hfL8hfH8gfOkH+sGnIXy/IXy/IXx/IHzpB/rBpyF8vyF8vyF8fyB86Qf6wachfL8hfL8hfH8gfOkH+sGnIXy/IXy/IXx/IHzpB/rBpyF8vyF8vyF8fyB86Qf6wachfL8hfL8hfH8gfOkH+sGnIXy/IXy/IXx/IHzpB/rCITPYPHjxYLZnc5pafOynsa5NtmNu2c6bL8ehAJHhu286ZDsfj8ePHz/fIuqhVN/HLGQL5wyJS0H7/x3+263znu7/UoqBmG77xzZ+Z3cY9Ja/JDme7Ihu//L3vz27jXvJbv/sHbc52qVU3taqLjGNdyB8WkYL6pz/5q12nk/x96+e/PbuNe0on+fuV3/jh7DbuJd3kb24b9xTyh4L8YREKKvnrFvLXJ+SvV8gfCvKHRSio5K9byF+fkL9eIX8oyB8WoaCSv24hf31C/nqF/KEgf1iEgkr+uoX89Qn56xXyh4L8YREKKvnrFvLXJ+SvV8gfCvKHRSio5K9byF+fkL9eIX8oyB8WoaCSv24hf31C/nqF/KEgf1iEgkr+uoX89Qn56xXyh4L8YREKKvnrFvLXJ+SvV8gfCvKHRSio5K9byF+fkL9eIX8oyB8WoaCSv24hf31C/nqF/KEgf1iEgkr+uoX89Qn56xXyh4L8YREKKvnrFvLXJ+SvV8gfCvKHRSio5K9byF+fkL9eIX8oyB8WoaCSv24hf31C/nqF/KEgf1iEgkr+uoX89Qn56xXyh4L8YREKKvnrFvLXJ+SvV8gfitby9+TJk6uPP/74+b0XfPHFF1fvv//+1aeffvp8yQs+//zzq3feeWe2LcvSlj7H4Lbt2AsKKvnrFvLXJ+SvV8gfik3K322Qv/OioJK/biF/fUL+eoX8oWgvfx988MG1sOWNm/thKl11P33yc5S/Z8+eXb355ptfrT/K39g2Xf7w4cOvxkzmBG+6HflZ/cd1phKb23V/3PZxnVr+7rvvvrS8G9m2uSKzp5C/Xslrkvz1CPnrFfKHor38lZSVqEWCptKVfrmf5VlWslRnAUu0xvGqbW6MeqxxvWobGbcj67z99tvXP0PWHbepbiePHj36ql/GTkL65XHTVmNXW1cU1PPK3/96+vT5ra9D/m5yTvm77XiQP/LXLeQPRXv5K/kZRevQ7Wm/SFTO4E3P6OV+2ufO9uV+bo8il74ZM2OPTB97ZFwnY+Z2jR35q+WjgI7j1e0S0K4oqOeVv6dfCsW/fvDg+udUPMjfTc4pfz/88rFyPP7kywn1/0wek/ydV/7yfqj3xrOZ96NaRf7wgs38zd+cGOX2bQKVHBK8tKUYjKmzbmO/kL4ZM2OPjI8Vsr3jeOM6aUu/PJ96TrXt4zpJ2qdjdyXbO1dk9pSSv0w4p86//XIijXBURvEgfzfJa/K/fSkCc/vv2JkeixyfLA/k74X8Rcym++7YifRNj8f4S5JaRf7wgs3L31SSxvtTiZvKX/ql/5TXkb9kFM3pOrmfM37jJd/0zePU/ZFx7M4oqC/kLxPNqZMJbZzgapKLAJK/m+Q1+R/PdDwOHYvIOPl7IX/ZJ3P779g5dDzUqpuQPxSbl7+QPiVaWZY3+divxsh4JWjJeMYwfaptqfzV8nGderzpONmmJORxD/1dY1cU1Bfydw5qghsntYL83SSvyXNe9k3GM34F+Tv/Zd/xvTG9DK9WkT+84CLkr+7nzZ2fObtWbSVUacsnh9NeUje21SXfWv6q8jduQ8b65JNPXhojjM+nGNdL5p5vZ7LNc0VmTzmn/GWCm05qBfm7SV6T55K/qYCPkL/zyl/eF1MBH1GryB9e0Fr+LolI4KFLvFtGQT2v/N0G+bvJOeXvNsjfeeXvLtQq8ocXkL8zUGcYp2f9LgEFlfx1C/nrE/LXK+QPBfnDIhRU8tct5K9PyF+vkD8U5A+LUFDJX7eQvz4hf71C/lCQPyxCQSV/3UL++oT89Qr5Q0H+sAgFlfx1C/nrE/LXK+QPBfnDIhRU8tct5K9PyF+vkD8U5A+LUFDJX7eQvz4hf71C/lCQPyxCQSV/3UL++oT89Qr5Q0H+sAgFlfx1C/nrE/LXK+QPBfnDIhRU8tct5K9PyF+vkD8U5A+LUFDJX7eQvz4hf71C/lCQPyxCQSV/3UL++oT89Qr5Q0H+sAgFlfx1C/nrE/LXK+QPBfnDIhRU8tct5K9PyF+vkD8U5A+LUFDJX7eQvz4hf71C/lCQPyxCQSV/3UL++oT89Qr5Q0H+sAgFlfx1C/nrE/LXK+QPBfnDIhRU8tct5K9PyF+vkD8U5A+LUFDJX7eQvz4hf71C/lCQPyxCQSV/3UL++oT89Qr5Q0H+sAgFlfx1C/nrE/LXK+QPBfnDIh48eHBdVPeep0+fPt8j65FtmNu2PaaD/EXG57Ztb4kEd0CtukmHX1SxPuQPi8gku3ZyZmFu+bnSibntO2cysSRzbedKF+a27dxZ+72RdGFu284dxwNdIH/YNDmrkN/o0YMciy5nenBzqbPDWWncnAlWq9AF8odNU5dyTHDrU5edTXA9iITneJDxHqhV6AT5w2YZ/6bKBLc+JRsmuB6UbJDx9alfjJIuH4DBviF/2CyjbJjg1qdkwwS3PuMvRgkZXxe1Ct0gf9gs4+SWmODWYyobJrh1GWUjIePrMv5ilOT9AqwJ+cMmyafWUkAzyaWw5jb5W4/s+xyDSEaOicltXbL/k4hGvtfNe2M9qlblOKhV6AL5w6ZJIXVWow/ErxeRP1/v0YMIn1qFLpA/bBry1wvy1wvy1wfyh06QP2wa8tcL8tcL8tcH8odOkD9sGvLXC/LXC/LXB/KHTpA/bBry1wvy1wvy1wfyh06QP2wa8tcL8tcL8tcH8odOkD9sGvLXC/LXC/LXB/KHTpA/bBry1wvy1wvy1wfyh06QP2wa8tcL8tcL8tcH8odOkD9sGvLXC/LXC/LXB/KHTpA/bBry1wvy1wvy1wfyh06QP2wa8tcL8tcL8tcH8odOkD9sGvLXC/LXC/LXB/KHTpA/bBry1wvy1wvy1wfyh06QP2wa8tcL8tcL8tcH8odOkD9sGvLXC/LXC/LXB/KHTpA/bBry1wvy1wvy1wfyh06QP2wa8tcL8tcL8tcH8odOkD9sGvLXC/LXC/LXB/KHTpA/bBry1wvy1wvy1wfyh06QP2wa8tcL8tcL8tcH8odOkD9sGvLXC/LXC/LXB/KHTpA/bBry1wvy1wvy1wfyh06QP2wa8tcL8tcL8tcH8odOkD8sIpN9CtpaefDgwXXm2s6ZFPa1ySQ/t23nTJfj0YH6xWTNRP7mlp8zjx8/fr5H1kWtukmHWoX1IX9YRCaX3/rdP9h1vvXz325xtivb8I1v/szsNu4pXc52RTZ++Xvfn93GveRXfuOH18LRAbXqplZ1kXGsC/nDIlJQ//Qnf7XrfOe7v9RG/lLc57ZxT+kkf5GfuW3cSyIcneRvbhv3lNQq8odA/rAIBZX8dQv56xPy1yvkDwX5wyIUVPLXLeSvT8hfr5A/FOQPi1BQyV+3kL8+IX+9Qv5QkD8sQkElf91C/vqE/PUK+UNB/rAIBZX8dQv56xPy1yvkDwX5wyIUVPLXLeSvT8hfr5A/FOQPi1BQyV+3kL8+IX+9Qv5QkD8sQkElf91C/vqE/PUK+UNB/rAIBZX8dQv56xPy1yvkDwX5wyIUVPLXLeSvT8hfr5A/FOQPi1BQyV+3kL8+IX+9Qv5QkD8sQkElf91C/vqE/PUK+UNB/rAIBZX8dQv56xPy1yvkDwX5wyIUVPLXLeSvT8hfr5A/FBchf8+ePbt6+PDh1eeff/58yXH5+OOPr548efL83stkedr3ioJK/rqF/PUJ+esV8ofCmb97QP4Oo6CSv24hf31C/nqF/KG4uDN/n3766fXtJG/2N99887o9RNQ++OCDq3feeee6bRS6UeK++OKLq/fff/96rCR9p/2Lcb08fo099h/7hNyePlatk8cbl7/77rsvLe9Gtm2uyOwp5K9X8pokfz1ySfKXY/n+975/9fs//h+z7ZU85/TLz7n2NUP+UFyk/JUslUCNElYyWKJWUjUK2ih/IctrjCm1Xq1TY+Qx3n777eufGSdt6ZM8evToJSGtsdOvtm+67V05hfx957t/f3bSTDFNWwrroba7CvMpcqnyl32ZfTo3ieX43NVWt8fjNa5zqmN2KfKXfTOXjDm334+R6fFammznpchfnkvG+MY3/9pseyV9klMdoyUhfyguUv4idbkdRnEbRStM20rcXkf+puTxs03ZttzOePmZ+5G/PEbujwI6Pm7dnhu7E0sL6ly+9Te/PVtgM/EdKr7VNl1+jlyy/GWfzslAjkHacqzm2nI8cjvtY5+sU0KUn7lP/uaT55F9WfuwkuXJMSWtUo8x1/Y6uST5S6rO1Ot7mjo+S477KUP+UFyk/EWaIk/hkOCFQ22vK3/pX4U5mV5yTnv6Vv+Sv3GdJO3TbehKtneuyCxJJrU5wSupyGNOf6sehePcuVT5SzKZzR2LHIPs70NtNflNxW5sI3+3J89jTvCyv0oyjn12ifzdnuz7vObn9n3uZ/kx99+xQ/5Q7E7+Rokb7+fnVMpeRf6m6+R+nfkLWZ4zfuMl32mfkT3LXxXRsbiWKFTbdFLMsulEm0Kdflk+LdTHzCXL35yIT4/F3HEqoUvbeFzG4zTte6xkzEuWv+TQ++A+r/n0qeMy7TMnf+n3us8j41/aBz5q30/fFyWFc6/nOi7Zt+mXX5zm9umh5VmWtqXvFfKHYnfyV5eEp7KWtlovy/ImrrbXkb8sG8/8Vfu4bSHr19jpm3Uyxp7lLwUu444TW4pfPdZ0gqq2sTBm3SxLoa2iPJ0oj5VLlr+a6EZJyCSU5PZ0v2Z5ltX96bFKW01uc8ftGMmYly5/c/uuluX1nn1et8c+9d6qtvpZ7dPjVcdzKon3zSXKX1L7pd4Ht+2ncZ9n36bvXE2qfjXmmBp/PJavE/KHYnfylzNvEay8kdJWlJxlefqM4pWfWV7jjGRZjZOf6Zd8+OGHX5O3sW9RklfrVfue5S+ZTkJVNHM7k9w4YVVhrPs1CdbEm4I5XXbMXLL8Jdlv4yQ17sfpccpxGSevafu4bh2TpRPaNBnzUuQv+zJjVHIckmqrviXpdy2r41H7vISjju94vLJe2l5X/JJLlb/st7zWk3odj6/zMVk+3Y9Zf7p/61iMx6tSfeu4vW7IH4qLkL/7Midf5yJyeegS75ZJQZorMkuTyWgUvDxOTaRVJKtozgnH3HaNE9sxc+nyN+63muhqEsoxOHSckuk+H9unYx0rGfNS5G8u2d+jjCclB+OypEQxt3OscnuUkFpex6CO11RMXjdZ/xLlL6n9mYzvgWnSPid0Vcfq/VH35/rW8Vj6XiF/KMjfGajLuWuJ5ylJQZorMktThTAFtiRhbE/BrAkwbeMkm0I8l/TLz+p3rFy6/GXf1n7LJDROTnPHaZygSibq/nis5vofIxnzEi/7Zj/Va3m6z6b7uVKCcuj4TJMx0ifJ42S9uX73Tda/VPlLan8dOs61zw+11/HM7RyX9CV/OAe7kj8cn1MU1EqKYia/qXAkWZ7CW8V1bKuCmra5jH2PkUuXv5qUMpFnv06PRY7DoeOUtqTuZ5w6Bvl5jAltmox5qX/zV8eihKEy3c+VcR9nrLv2d8ZIn6yX29PHedVcuvzl9Z5xD0ly7f9Dr4Ps39quOrbT91BSj7P0vUL+UJA/LKIK1ylSE1qJ3Ng2isiccMxNWlnnUBFekkuXvyT7tORhOtGViGefT2WljmHdz/p1DGpiXDqhTZMxL/kDH7Xfxtd9bs+95uuY5XaOW24fOn65PR6v22Tkvslj7Vn+ap/PHcekalhu1/4e3y+Vehzyh2NB/rCIUxTUSgpniuNc0atCmUwn2Jocx4JbRXjJZHwoe5G/2t/TtvE4TSfBUSaS8RjUcVo6oU2TMS9Z/pI6HrW/6/0w9q9lo1zU8ah9Xn1qO6fHK+Pl2E6P632T9fYsf7V/x31ayTrj8UkO9T1UB1815A8F+cMiUpDmiswxUoXz0GOkSB4qiJm00paiWYVzrqgeI3uQv7mJqnLbcco+H/d7+pC/+yXP45D81T7Pa7uW3ec1n/Wqvd4/4xjT45X+uT/2eZXsXf6S6jMV89r/47q1rF43Y78k96vv64T8oSB/WEQK0lyROVZSGA8VvCy/reimPUX00AR6rOxB/mpfHzoWh9qmy8f7NWa1HSt5TV6C/N22v5Paf2Of3K7X/KF9W32S6fhzj5n7d23LoWS9vctf9tso5qPMTdfLMam29K2ftf7rHIMx5A8F+cMiUpDmisyesgf521LymrwE+buEXLr85fnd9xiXcN8m5kkEr/olWfYqj3NbyB8K8odFkD/y1y3kr08uXf62FvKHgvxhEQoq+esW8tcn5K9XyB8K8odFKKjkr1vIX5+Qv14hfyjIHxahoJK/biF/fUL+eoX8oSB/WISCSv66hfz1CfnrFfKHgvxhEQoq+esW8tcn5K9XyB8K8odFKKjkr1vIX5+Qv14hfyjIHxahoJK/biF/fUL+eoX8oSB/WISCSv66hfz1CfnrFfKHgvxhEQoq+esW8tcn5K9XyB8K8odFKKjkr1vIX5+Qv14hfyjIHxahoJK/biF/fUL+eoX8oSB/WISCSv66hfz1CfnrFfKHgvxhEQoq+esW8tcn5K9XyB8K8odFKKjkr1vIX5+Qv14hfyjIHxahoJK/biF/fUL+eoX8oSB/WISCSv66hfz1CfnrFfKHgvxhESmo3/jmz+w62Qcd5O/p06ez27e3dJK/ue3bU3Issh86oFbdHA/yh0D+sIhMsrK+aBRz27a3dGFu2/aYLsxt2x4DBPIHAACwI8gfAADAjiB/AAAAO4L8AQAA7AjyBwAAsCPIHwAAwI4gfwAAADuC/AEAAOwI8gcAALAjyB8AAMCOIH8AAAA7gvwBAADsCPIHAACwI8gfAADAjiB/AAAAO4L8AQAA7AjyBwAAsCPIHy6Sjz/++OrJkyfP72Ftnj17dvXmm29evfHGG9fJ8cH5yP6ufe990Y+8P95+++3rn8A5IH+4OGqiM8n14Isvvrh69OjRVxObie68ZD9n/+c4JO+//z75bkQdk/xy5D2Bc0H+sAoRs3ffffers0CffvrpdQFMIQxZVvKWtocPH14n/W8rklkn43z44Yfk7zUoMUveeeedq7/4i7+43p85BuHzzz+/Pg7pV5NW9vOrnFUiIIfJ/jvF+2JkHAN3U6/XOi7Z79l/9fqt9nqPpC2yXWe6x+M3R8ZJf78Q4ZyQP6xCCuRYFO+a5KroVqG9a/Iywb0emXwyadVENp3Y5uSvjlv63EdAMkbEssbEC079vqh+JS64m7l9m9u1D6u9Xs9py+s7r/Pp+2lK2vN+Sjv5wzkhf1iFFMixmKb43TbJVTEN9xG7+/TB18nkM05C04ltTv5qEhzbbmN67PGC6b455vsi/SOL4zq4m+nrPGQ/1/3pe2Q8htO2KemXtun7Djg15A+rMBbPkAJ42yR3qO0Q9+mDr5PJJwJXcjCdvObkb67tEDkm47HEy5z6fRGyHgG8P9PXeRiP07T9traRLKvjRf5wbsgfVmEskCGFcJzI0l6Fcdp2n0nuvhMhXuYu+RsnqWnbbfJXfR2T28n+OeX7IozHEHczfZ2H8TjldR+ZrvaxbW7dIv1yJnbMff9uE1gK+cMqjAUypDhW4atiWhPZ60xy950I8TLZ/3PyV/sy+7WO03Riu03+sr7jcTfZR8d+X8z1G+/jdqav85D9XPswyyNu1T4ew7l158jxJeQ4J+QPqzCd5EKWpYhmgvvggw++msjmJq9qO8R9+uDrZPIZ5S9kWQQkxybHpQRvOrEdkr+Sljq7UZkef5zufZG22u8ZZzy+uJ05gRtf0/mk7tg+HkPyh66QPwAAgB1B/gAAAHYE+QMAANgR5A8AAGBHkD8AAIAdQf4AAAB2BPkDAADYEeQPAABgR5A/AACAHUH+AAAAdgT5AwAA2BHkDwAAYEeQPwAAgB1B/gAAAHYE+QMAANgR5A8AAGBHkD8AAIAdQf4AAAB2BPkDAADYEeQPAABgR5A/AACAHUH+AAAAdgT5AwAA2BHkDwAAYEeQPwAAgB1B/gAAAHYE+QMAANgR5A8AAGBHkD8AAIAdQf4AAAB2BPkDAADYEeQPAABgR5A/AACAHUH+AAAAdgT5AwAA2BHkDwAAYEeQPwAAgB1B/gAAAHYE+QMAANgR5A8AAGA3XF39X+W4kepSLfqCAAAAAElFTkSuQmCC)"
      ],
      "metadata": {
        "id": "Eq6vcdoeZDTs"
      }
    },
    {
      "cell_type": "markdown",
      "source": [
        "Deep learning model to analyze Twitter sentiment about Apple and Google products. The dataset I used comes from CrowdFlower via data.world. In this dataset, human raters were asked to rate the sentiment of over 9,000 Tweets as positive, negative, or neither. I am seeking to use this labled dataset to build a NLP model that can predict the sentiment of the Tweet based on its text content\n",
        "\n",
        "https://data.world/crowdflower/brands-and-product-emotions\n",
        "\n",
        "**Preprocessing**\n",
        "\n",
        "We start (as we do in most example projects) by downloading the csv and placing it into the local project folder. We then read the data into a Pandas DataFrame with the code below."
      ],
      "metadata": {
        "id": "J2sf-rpHZQ_H"
      }
    },
    {
      "cell_type": "code",
      "source": [
        "import pandas as pd\n",
        "\n",
        "data = pd.read_csv('https://mjnvsai.github.io/Neural_Networks_Workshop/tweet_product_company.csv',\n",
        "                   encoding = \"ISO-8859-1\")\n",
        "data.head() #top 5 rows from the dataframe\n",
        "data.info()"
      ],
      "metadata": {
        "colab": {
          "base_uri": "https://localhost:8080/"
        },
        "id": "kiy5tMYaZVJW",
        "outputId": "693f1ae1-c215-4718-d4ed-959da0785dfe"
      },
      "execution_count": 29,
      "outputs": [
        {
          "output_type": "stream",
          "name": "stdout",
          "text": [
            "<class 'pandas.core.frame.DataFrame'>\n",
            "RangeIndex: 9093 entries, 0 to 9092\n",
            "Data columns (total 3 columns):\n",
            " #   Column                                              Non-Null Count  Dtype \n",
            "---  ------                                              --------------  ----- \n",
            " 0   tweet_text                                          9092 non-null   object\n",
            " 1   emotion_in_tweet_is_directed_at                     3291 non-null   object\n",
            " 2   is_there_an_emotion_directed_at_a_brand_or_product  9093 non-null   object\n",
            "dtypes: object(3)\n",
            "memory usage: 213.2+ KB\n"
          ]
        }
      ]
    },
    {
      "cell_type": "code",
      "source": [
        "#how many missing values in the dataframe\n",
        "data.isnull().sum()"
      ],
      "metadata": {
        "colab": {
          "base_uri": "https://localhost:8080/"
        },
        "id": "O6eWu9MqZjKi",
        "outputId": "de20262e-ca16-40db-b622-e3c8e7659b1c"
      },
      "execution_count": 30,
      "outputs": [
        {
          "output_type": "execute_result",
          "data": {
            "text/plain": [
              "tweet_text                                               1\n",
              "emotion_in_tweet_is_directed_at                       5802\n",
              "is_there_an_emotion_directed_at_a_brand_or_product       0\n",
              "dtype: int64"
            ]
          },
          "metadata": {},
          "execution_count": 30
        }
      ]
    },
    {
      "cell_type": "code",
      "source": [
        "df = data.rename(columns={\"is_there_an_emotion_directed_at_a_brand_or_product\":\n",
        "                        \"emotion\"})\n",
        "df.columns"
      ],
      "metadata": {
        "colab": {
          "base_uri": "https://localhost:8080/"
        },
        "id": "fqmA0M9wZokU",
        "outputId": "f7f5b858-f56e-4bc4-b1de-80ad3ff6f75a"
      },
      "execution_count": 31,
      "outputs": [
        {
          "output_type": "execute_result",
          "data": {
            "text/plain": [
              "Index(['tweet_text', 'emotion_in_tweet_is_directed_at', 'emotion'], dtype='object')"
            ]
          },
          "metadata": {},
          "execution_count": 31
        }
      ]
    },
    {
      "cell_type": "code",
      "source": [
        "df = df.dropna(subset=['emotion', 'tweet_text'])"
      ],
      "metadata": {
        "id": "epoejHBSZrOT"
      },
      "execution_count": 32,
      "outputs": []
    },
    {
      "cell_type": "code",
      "source": [
        "df.info()"
      ],
      "metadata": {
        "colab": {
          "base_uri": "https://localhost:8080/"
        },
        "id": "KI42iiKWZtKw",
        "outputId": "456d8cb4-b585-46ee-df8e-b07b5bbde264"
      },
      "execution_count": 33,
      "outputs": [
        {
          "output_type": "stream",
          "name": "stdout",
          "text": [
            "<class 'pandas.core.frame.DataFrame'>\n",
            "Int64Index: 9092 entries, 0 to 9092\n",
            "Data columns (total 3 columns):\n",
            " #   Column                           Non-Null Count  Dtype \n",
            "---  ------                           --------------  ----- \n",
            " 0   tweet_text                       9092 non-null   object\n",
            " 1   emotion_in_tweet_is_directed_at  3291 non-null   object\n",
            " 2   emotion                          9092 non-null   object\n",
            "dtypes: object(3)\n",
            "memory usage: 284.1+ KB\n"
          ]
        }
      ]
    },
    {
      "cell_type": "code",
      "source": [
        "#As we have removed null values from input tweet text\n",
        "df['tweet_text']"
      ],
      "metadata": {
        "colab": {
          "base_uri": "https://localhost:8080/"
        },
        "id": "D6se3Y0PZvP3",
        "outputId": "9f022df2-f24f-4a8f-ec03-1b90bd02ede9"
      },
      "execution_count": 34,
      "outputs": [
        {
          "output_type": "execute_result",
          "data": {
            "text/plain": [
              "0       .@wesley83 I have a 3G iPhone. After 3 hrs twe...\n",
              "1       @jessedee Know about @fludapp ? Awesome iPad/i...\n",
              "2       @swonderlin Can not wait for #iPad 2 also. The...\n",
              "3       @sxsw I hope this year's festival isn't as cra...\n",
              "4       @sxtxstate great stuff on Fri #SXSW: Marissa M...\n",
              "                              ...                        \n",
              "9088                        Ipad everywhere. #SXSW {link}\n",
              "9089    Wave, buzz... RT @mention We interrupt your re...\n",
              "9090    Google's Zeiger, a physician never reported po...\n",
              "9091    Some Verizon iPhone customers complained their...\n",
              "9092    Ï¡Ïàü_ÊÎÒ£Áââ_£â_ÛâRT @...\n",
              "Name: tweet_text, Length: 9092, dtype: object"
            ]
          },
          "metadata": {},
          "execution_count": 34
        }
      ]
    },
    {
      "cell_type": "code",
      "source": [
        "#even if we want access row-wise data-->loc() vs iloc()\n",
        "df.index"
      ],
      "metadata": {
        "colab": {
          "base_uri": "https://localhost:8080/"
        },
        "id": "hBkoNdh5Zysj",
        "outputId": "f941c78e-7139-446f-8820-56c582a007c0"
      },
      "execution_count": 35,
      "outputs": [
        {
          "output_type": "execute_result",
          "data": {
            "text/plain": [
              "Int64Index([   0,    1,    2,    3,    4,    5,    7,    8,    9,   10,\n",
              "            ...\n",
              "            9083, 9084, 9085, 9086, 9087, 9088, 9089, 9090, 9091, 9092],\n",
              "           dtype='int64', length=9092)"
            ]
          },
          "metadata": {},
          "execution_count": 35
        }
      ]
    },
    {
      "cell_type": "code",
      "source": [
        "#as in our case index is integer format both \n",
        "#loc() and iloc() returns same values\n",
        "df.loc[1]['emotion']"
      ],
      "metadata": {
        "colab": {
          "base_uri": "https://localhost:8080/",
          "height": 36
        },
        "id": "elnSLpFLZ2CH",
        "outputId": "4121aecc-45fd-4b65-9eb7-b7cb17c5b707"
      },
      "execution_count": 36,
      "outputs": [
        {
          "output_type": "execute_result",
          "data": {
            "text/plain": [
              "'Positive emotion'"
            ],
            "application/vnd.google.colaboratory.intrinsic+json": {
              "type": "string"
            }
          },
          "metadata": {},
          "execution_count": 36
        }
      ]
    },
    {
      "cell_type": "code",
      "source": [
        "df.iloc[0]['tweet_text']"
      ],
      "metadata": {
        "colab": {
          "base_uri": "https://localhost:8080/",
          "height": 36
        },
        "id": "dp25k9wHZ4Xp",
        "outputId": "dae65d8e-1885-40f5-90df-1eed9b67c9b0"
      },
      "execution_count": 37,
      "outputs": [
        {
          "output_type": "execute_result",
          "data": {
            "text/plain": [
              "'.@wesley83 I have a 3G iPhone. After 3 hrs tweeting at #RISE_Austin, it was dead!  I need to upgrade. Plugin stations at #SXSW.'"
            ],
            "application/vnd.google.colaboratory.intrinsic+json": {
              "type": "string"
            }
          },
          "metadata": {},
          "execution_count": 37
        }
      ]
    },
    {
      "cell_type": "code",
      "source": [
        "import nltk\n",
        "from nltk.tokenize import word_tokenize"
      ],
      "metadata": {
        "id": "cz07Yk4YZ6tg"
      },
      "execution_count": 38,
      "outputs": []
    },
    {
      "cell_type": "code",
      "source": [
        "#nltk.download('all')\n",
        "nltk.download('punkt')"
      ],
      "metadata": {
        "colab": {
          "base_uri": "https://localhost:8080/"
        },
        "id": "ziSJ3Ar6Z80u",
        "outputId": "6f4c765f-cbcc-42e8-9c36-b242c66070cf"
      },
      "execution_count": 39,
      "outputs": [
        {
          "output_type": "stream",
          "name": "stderr",
          "text": [
            "[nltk_data] Downloading package punkt to /root/nltk_data...\n",
            "[nltk_data]   Unzipping tokenizers/punkt.zip.\n"
          ]
        },
        {
          "output_type": "execute_result",
          "data": {
            "text/plain": [
              "True"
            ]
          },
          "metadata": {},
          "execution_count": 39
        }
      ]
    },
    {
      "cell_type": "code",
      "source": [
        "#Tokenization\n",
        "data = df['tweet_text'].map(word_tokenize).values\n",
        "#data"
      ],
      "metadata": {
        "id": "u83OXHy8Z_BU"
      },
      "execution_count": 40,
      "outputs": []
    },
    {
      "cell_type": "markdown",
      "source": [
        "Comprehension --> One line expressions \n",
        "\n",
        "#Every List Comprehension can be rewritten as a For loop\n",
        "but every for loop cannot be rewritten\n",
        "\n",
        "a = [exprsn for var in function/collection]\n",
        "\n"
      ],
      "metadata": {
        "id": "8csD9kkQaIOo"
      }
    },
    {
      "cell_type": "code",
      "source": [
        "d = []\n",
        "for i in range(1,11,2):\n",
        "  #print(i)\n",
        "  d.append(i)\n",
        "print(d)"
      ],
      "metadata": {
        "colab": {
          "base_uri": "https://localhost:8080/"
        },
        "id": "C09Fhk-QaI0n",
        "outputId": "dca4c1db-a032-4477-f166-d09955d2ba5c"
      },
      "execution_count": 41,
      "outputs": [
        {
          "output_type": "stream",
          "name": "stdout",
          "text": [
            "[1, 3, 5, 7, 9]\n"
          ]
        }
      ]
    },
    {
      "cell_type": "code",
      "source": [
        "e = [i for i in  range(1,11,2)]\n",
        "print(e)"
      ],
      "metadata": {
        "colab": {
          "base_uri": "https://localhost:8080/"
        },
        "id": "xm3NDHwMaL6V",
        "outputId": "56de9501-7f6d-49ed-96e7-6279ee5b5f09"
      },
      "execution_count": 42,
      "outputs": [
        {
          "output_type": "stream",
          "name": "stdout",
          "text": [
            "[1, 3, 5, 7, 9]\n"
          ]
        }
      ]
    },
    {
      "cell_type": "code",
      "source": [
        "#Tokenization\n",
        "data = df['tweet_text'].map(word_tokenize).values\n",
        "#data\n",
        "total_vocabulary = set(word.lower() for tweet in data for \n",
        "                       word in tweet)\n",
        "#total_vocabulary"
      ],
      "metadata": {
        "id": "HBMmlEtRaN1l"
      },
      "execution_count": 43,
      "outputs": []
    },
    {
      "cell_type": "code",
      "source": [
        "print('There are {} unique words in the dataset.'.\n",
        "      format(len(total_vocabulary)))\n",
        "print('There are {} unique tweets in the dataset.'.\n",
        "      format(len(data)))\n"
      ],
      "metadata": {
        "colab": {
          "base_uri": "https://localhost:8080/"
        },
        "id": "7v3c-WmRaQcq",
        "outputId": "c3254ade-2933-44da-95d5-aaa969da0c42"
      },
      "execution_count": 44,
      "outputs": [
        {
          "output_type": "stream",
          "name": "stdout",
          "text": [
            "There are 10694 unique words in the dataset.\n",
            "There are 9092 unique tweets in the dataset.\n"
          ]
        }
      ]
    },
    {
      "cell_type": "code",
      "source": [
        "df.head()"
      ],
      "metadata": {
        "colab": {
          "base_uri": "https://localhost:8080/",
          "height": 206
        },
        "id": "MwVScpmTaU1c",
        "outputId": "4bc13e9b-f60c-406b-a973-a2bf35b40ea1"
      },
      "execution_count": 46,
      "outputs": [
        {
          "output_type": "execute_result",
          "data": {
            "text/plain": [
              "                                          tweet_text  \\\n",
              "0  .@wesley83 I have a 3G iPhone. After 3 hrs twe...   \n",
              "1  @jessedee Know about @fludapp ? Awesome iPad/i...   \n",
              "2  @swonderlin Can not wait for #iPad 2 also. The...   \n",
              "3  @sxsw I hope this year's festival isn't as cra...   \n",
              "4  @sxtxstate great stuff on Fri #SXSW: Marissa M...   \n",
              "\n",
              "  emotion_in_tweet_is_directed_at           emotion  \n",
              "0                          iPhone  Negative emotion  \n",
              "1              iPad or iPhone App  Positive emotion  \n",
              "2                            iPad  Positive emotion  \n",
              "3              iPad or iPhone App  Negative emotion  \n",
              "4                          Google  Positive emotion  "
            ],
            "text/html": [
              "\n",
              "  <div id=\"df-e0b69dd3-4357-45e7-84c9-1bbd02f8a9fc\">\n",
              "    <div class=\"colab-df-container\">\n",
              "      <div>\n",
              "<style scoped>\n",
              "    .dataframe tbody tr th:only-of-type {\n",
              "        vertical-align: middle;\n",
              "    }\n",
              "\n",
              "    .dataframe tbody tr th {\n",
              "        vertical-align: top;\n",
              "    }\n",
              "\n",
              "    .dataframe thead th {\n",
              "        text-align: right;\n",
              "    }\n",
              "</style>\n",
              "<table border=\"1\" class=\"dataframe\">\n",
              "  <thead>\n",
              "    <tr style=\"text-align: right;\">\n",
              "      <th></th>\n",
              "      <th>tweet_text</th>\n",
              "      <th>emotion_in_tweet_is_directed_at</th>\n",
              "      <th>emotion</th>\n",
              "    </tr>\n",
              "  </thead>\n",
              "  <tbody>\n",
              "    <tr>\n",
              "      <th>0</th>\n",
              "      <td>.@wesley83 I have a 3G iPhone. After 3 hrs twe...</td>\n",
              "      <td>iPhone</td>\n",
              "      <td>Negative emotion</td>\n",
              "    </tr>\n",
              "    <tr>\n",
              "      <th>1</th>\n",
              "      <td>@jessedee Know about @fludapp ? Awesome iPad/i...</td>\n",
              "      <td>iPad or iPhone App</td>\n",
              "      <td>Positive emotion</td>\n",
              "    </tr>\n",
              "    <tr>\n",
              "      <th>2</th>\n",
              "      <td>@swonderlin Can not wait for #iPad 2 also. The...</td>\n",
              "      <td>iPad</td>\n",
              "      <td>Positive emotion</td>\n",
              "    </tr>\n",
              "    <tr>\n",
              "      <th>3</th>\n",
              "      <td>@sxsw I hope this year's festival isn't as cra...</td>\n",
              "      <td>iPad or iPhone App</td>\n",
              "      <td>Negative emotion</td>\n",
              "    </tr>\n",
              "    <tr>\n",
              "      <th>4</th>\n",
              "      <td>@sxtxstate great stuff on Fri #SXSW: Marissa M...</td>\n",
              "      <td>Google</td>\n",
              "      <td>Positive emotion</td>\n",
              "    </tr>\n",
              "  </tbody>\n",
              "</table>\n",
              "</div>\n",
              "      <button class=\"colab-df-convert\" onclick=\"convertToInteractive('df-e0b69dd3-4357-45e7-84c9-1bbd02f8a9fc')\"\n",
              "              title=\"Convert this dataframe to an interactive table.\"\n",
              "              style=\"display:none;\">\n",
              "        \n",
              "  <svg xmlns=\"http://www.w3.org/2000/svg\" height=\"24px\"viewBox=\"0 0 24 24\"\n",
              "       width=\"24px\">\n",
              "    <path d=\"M0 0h24v24H0V0z\" fill=\"none\"/>\n",
              "    <path d=\"M18.56 5.44l.94 2.06.94-2.06 2.06-.94-2.06-.94-.94-2.06-.94 2.06-2.06.94zm-11 1L8.5 8.5l.94-2.06 2.06-.94-2.06-.94L8.5 2.5l-.94 2.06-2.06.94zm10 10l.94 2.06.94-2.06 2.06-.94-2.06-.94-.94-2.06-.94 2.06-2.06.94z\"/><path d=\"M17.41 7.96l-1.37-1.37c-.4-.4-.92-.59-1.43-.59-.52 0-1.04.2-1.43.59L10.3 9.45l-7.72 7.72c-.78.78-.78 2.05 0 2.83L4 21.41c.39.39.9.59 1.41.59.51 0 1.02-.2 1.41-.59l7.78-7.78 2.81-2.81c.8-.78.8-2.07 0-2.86zM5.41 20L4 18.59l7.72-7.72 1.47 1.35L5.41 20z\"/>\n",
              "  </svg>\n",
              "      </button>\n",
              "      \n",
              "  <style>\n",
              "    .colab-df-container {\n",
              "      display:flex;\n",
              "      flex-wrap:wrap;\n",
              "      gap: 12px;\n",
              "    }\n",
              "\n",
              "    .colab-df-convert {\n",
              "      background-color: #E8F0FE;\n",
              "      border: none;\n",
              "      border-radius: 50%;\n",
              "      cursor: pointer;\n",
              "      display: none;\n",
              "      fill: #1967D2;\n",
              "      height: 32px;\n",
              "      padding: 0 0 0 0;\n",
              "      width: 32px;\n",
              "    }\n",
              "\n",
              "    .colab-df-convert:hover {\n",
              "      background-color: #E2EBFA;\n",
              "      box-shadow: 0px 1px 2px rgba(60, 64, 67, 0.3), 0px 1px 3px 1px rgba(60, 64, 67, 0.15);\n",
              "      fill: #174EA6;\n",
              "    }\n",
              "\n",
              "    [theme=dark] .colab-df-convert {\n",
              "      background-color: #3B4455;\n",
              "      fill: #D2E3FC;\n",
              "    }\n",
              "\n",
              "    [theme=dark] .colab-df-convert:hover {\n",
              "      background-color: #434B5C;\n",
              "      box-shadow: 0px 1px 3px 1px rgba(0, 0, 0, 0.15);\n",
              "      filter: drop-shadow(0px 1px 2px rgba(0, 0, 0, 0.3));\n",
              "      fill: #FFFFFF;\n",
              "    }\n",
              "  </style>\n",
              "\n",
              "      <script>\n",
              "        const buttonEl =\n",
              "          document.querySelector('#df-e0b69dd3-4357-45e7-84c9-1bbd02f8a9fc button.colab-df-convert');\n",
              "        buttonEl.style.display =\n",
              "          google.colab.kernel.accessAllowed ? 'block' : 'none';\n",
              "\n",
              "        async function convertToInteractive(key) {\n",
              "          const element = document.querySelector('#df-e0b69dd3-4357-45e7-84c9-1bbd02f8a9fc');\n",
              "          const dataTable =\n",
              "            await google.colab.kernel.invokeFunction('convertToInteractive',\n",
              "                                                     [key], {});\n",
              "          if (!dataTable) return;\n",
              "\n",
              "          const docLinkHtml = 'Like what you see? Visit the ' +\n",
              "            '<a target=\"_blank\" href=https://colab.research.google.com/notebooks/data_table.ipynb>data table notebook</a>'\n",
              "            + ' to learn more about interactive tables.';\n",
              "          element.innerHTML = '';\n",
              "          dataTable['output_type'] = 'display_data';\n",
              "          await google.colab.output.renderOutput(dataTable, element);\n",
              "          const docLink = document.createElement('div');\n",
              "          docLink.innerHTML = docLinkHtml;\n",
              "          element.appendChild(docLink);\n",
              "        }\n",
              "      </script>\n",
              "    </div>\n",
              "  </div>\n",
              "  "
            ]
          },
          "metadata": {},
          "execution_count": 46
        }
      ]
    },
    {
      "cell_type": "markdown",
      "source": [
        "We creates a Keras Tokenizer object. I limited the number of words for the tokenizer to the most frequent 20,000 (even though we already determined we only have a little over 10k).\n",
        "\n",
        "Then uses the ‘fit_on_texts’ method to update the internal vocabulary of the tokenizer based on a list of text we send to it. What is happening here is that we send in the text of each tweet, and the tokenizer builds a dictionary of the word frequency of the 10,000+ words.\n",
        "\n",
        "uses the ‘text_to_sequences’ method to convert the words in each tweet into a sequence of integers. The entire dataset is then stored in a NumPy matrix for easy processing.\n",
        "\n",
        "is where we will pad the tokenized text so they are all the same length to feed into the input for our neural network. I chose a max number of 100 words for each tweet. If the tweet is longer, it gets truncated. If it is smaller, padding is added in the form of zeroes.\n",
        "At this point in our project, we have our ‘y’ which is the target/output of our NN, and ‘X’ which contains the numerical input arrays for each tweet. Now we are ready to make our neural network."
      ],
      "metadata": {
        "id": "uDc_cQNeafQq"
      }
    },
    {
      "cell_type": "code",
      "source": [
        "from tensorflow.keras.preprocessing.sequence import pad_sequences\n",
        "from keras.layers import Input, Dense, LSTM, Embedding\n",
        "from keras.layers import Dropout, Activation, Bidirectional,GlobalMaxPool1D\n",
        "from keras.models import Sequential\n",
        "from keras import initializers, regularizers, constraints, optimizers,layers\n",
        "from keras.preprocessing import text, sequence"
      ],
      "metadata": {
        "id": "znqqYSL5afzh"
      },
      "execution_count": 47,
      "outputs": []
    },
    {
      "cell_type": "code",
      "source": [
        "# set the emotion/sentiment as our target\n",
        "target = df['emotion']\n",
        "\n",
        "# use one hot encoding since our target is categorical\n",
        "y = pd.get_dummies(target).values\n",
        "#y"
      ],
      "metadata": {
        "id": "6bHGXEWxaiXZ"
      },
      "execution_count": 48,
      "outputs": []
    },
    {
      "cell_type": "code",
      "source": [
        "# use keras to create a Tokenizer object for our input\n",
        "tokenizer = text.Tokenizer(num_words=20000)  # limit to the num_words most important ones\n",
        "tokenizer.fit_on_texts(list(df['tweet_text']))"
      ],
      "metadata": {
        "id": "cHr7CZcIakY0"
      },
      "execution_count": 49,
      "outputs": []
    },
    {
      "cell_type": "code",
      "source": [
        "tokenizer"
      ],
      "metadata": {
        "colab": {
          "base_uri": "https://localhost:8080/"
        },
        "id": "fd2eyGECam2L",
        "outputId": "7a61e5ec-1311-4f7f-e913-f99f83c2188e"
      },
      "execution_count": 50,
      "outputs": [
        {
          "output_type": "execute_result",
          "data": {
            "text/plain": [
              "<keras.preprocessing.text.Tokenizer at 0x7f9d6c330ac0>"
            ]
          },
          "metadata": {},
          "execution_count": 50
        }
      ]
    },
    {
      "cell_type": "code",
      "source": [
        "tokenized_texts = tokenizer.texts_to_sequences(df['tweet_text'])\n",
        "#tokenized_texts #length of individual words in the sequences\n"
      ],
      "metadata": {
        "id": "eEBzW_HzaoTY"
      },
      "execution_count": 51,
      "outputs": []
    },
    {
      "cell_type": "code",
      "source": [
        "X = pad_sequences(tokenized_texts, maxlen=100)\n",
        "#X"
      ],
      "metadata": {
        "id": "SzxeFkCWarsa"
      },
      "execution_count": 52,
      "outputs": []
    },
    {
      "cell_type": "markdown",
      "source": [
        "We are creating a Sequential model, and using the ‘add’ method to build the NN:\n",
        "\n",
        "Embedding Layer: This layer requires that the input data be integer encoded, so each word being fed into the embedding layer is represented by a unique integer. We did this task earlier with the tokenizer.\n",
        "\n",
        "The embedding layer is initialized with random weights and will be learning for all words in the training dataset.\n",
        "\n",
        "The embedding layer has arguments including:\n",
        "\n",
        "input_dim: This is the size of the vocabulary in the text data which we have calculated already (around 10k)\n",
        "output_dim: This is the size of the vector space in which words will be embedded. This value can be tuned.\n",
        "\n",
        "\n",
        "An RNN has a memory and the ability to remember and/or forget.\n",
        "\n",
        "RNNs can temporarily store word weights based on their importance and relative location to other words in the text. They are well-suited to classifying, processing, and making predictions based on time series data, since there can be lags of unknown duration between important events in a time series. This also makes them great for NLP as it lets your model pick up on nuances of structured language like proximity and context using relative positions within the text, and also by remembering important words for later in the text.\n",
        "\n",
        "We follow our layer with a 1D pooling layer to simplify the output.\n",
        "\n",
        "Dense and Dropout Layers: We add some standard dense layers to our network. We also add dropout layers with the intention of improving generalization. The number of layers and nodes you use are adjustable if you want to tune your model further.\n",
        "\n",
        "Note that our final output layer must have the same shape as our target. For this project, we use a Dense layer of size 4 to match the number of categories of my output (emotion)."
      ],
      "metadata": {
        "id": "CXmN1MD8aw7W"
      }
    },
    {
      "cell_type": "code",
      "source": [
        "from sklearn.model_selection import train_test_split\n",
        "\n",
        "X_train, X_test, y_train, y_test = train_test_split(X, y, \n",
        "                                                    test_size=0.2)\n",
        "\n",
        "# create NN model\n",
        "model = Sequential()\n",
        "\n",
        "embedding_size = 128\n",
        "\n",
        "model.add(Embedding(len(total_vocabulary), embedding_size))\n",
        "\n",
        "model.add(LSTM(25, return_sequences=True))\n",
        "\n",
        "model.add(GlobalMaxPool1D())\n",
        "\n",
        "model.add(Dropout(0.5))\n",
        "model.add(Dense(50, activation='relu'))\n",
        "model.add(Dropout(0.5))\n",
        "model.add(Dense(50, activation='relu'))\n",
        "model.add(Dropout(0.5))\n",
        "model.add(Dense(4, activation='softmax'))"
      ],
      "metadata": {
        "id": "fj8MnT2Taxmh"
      },
      "execution_count": 53,
      "outputs": []
    },
    {
      "cell_type": "markdown",
      "source": [
        "Now it’s time to compile the model. Here we provide important parameters such as which loss function to use (‘categorical_crossentropy’, since this is a multiclass classification problem), and the optimizer to use.\n",
        "\n",
        "After compiling the model, we can quickly check the summary to see what the model looks like, and make sure the output shapes line up with what you expect.\n"
      ],
      "metadata": {
        "id": "jQDJhE-ja5qT"
      }
    },
    {
      "cell_type": "code",
      "source": [
        "#Training our Model\n",
        "model.compile(loss='categorical_crossentropy', \n",
        "              optimizer='adam', \n",
        "              metrics=['accuracy'])\n",
        "model.summary() # check the shape"
      ],
      "metadata": {
        "colab": {
          "base_uri": "https://localhost:8080/"
        },
        "id": "JJP40Snya6LJ",
        "outputId": "f5c59010-fb18-4c64-c96c-d1f4acaf6976"
      },
      "execution_count": 54,
      "outputs": [
        {
          "output_type": "stream",
          "name": "stdout",
          "text": [
            "Model: \"sequential_1\"\n",
            "_________________________________________________________________\n",
            " Layer (type)                Output Shape              Param #   \n",
            "=================================================================\n",
            " embedding (Embedding)       (None, None, 128)         1368832   \n",
            "                                                                 \n",
            " lstm (LSTM)                 (None, None, 25)          15400     \n",
            "                                                                 \n",
            " global_max_pooling1d (Globa  (None, 25)               0         \n",
            " lMaxPooling1D)                                                  \n",
            "                                                                 \n",
            " dropout_1 (Dropout)         (None, 25)                0         \n",
            "                                                                 \n",
            " dense_9 (Dense)             (None, 50)                1300      \n",
            "                                                                 \n",
            " dropout_2 (Dropout)         (None, 50)                0         \n",
            "                                                                 \n",
            " dense_10 (Dense)            (None, 50)                2550      \n",
            "                                                                 \n",
            " dropout_3 (Dropout)         (None, 50)                0         \n",
            "                                                                 \n",
            " dense_11 (Dense)            (None, 4)                 204       \n",
            "                                                                 \n",
            "=================================================================\n",
            "Total params: 1,388,286\n",
            "Trainable params: 1,388,286\n",
            "Non-trainable params: 0\n",
            "_________________________________________________________________\n"
          ]
        }
      ]
    },
    {
      "cell_type": "markdown",
      "source": [
        "Now we can fit the compiled model. This step can take some time depending on the parameters you have chosen.\n",
        "\n",
        "More epochs improves the overall result, but can also greatly affect the training time. The model generate scoring outputs as it fits the model. You can look at the validation score it prints out to see if the model is still improving with each epoch to know where an acceptable cutoff might be.\n",
        "\n",
        "The batch size limits the number of samples to be shown to the network before a weight update can be performed. 32 is a common size for smaller datasets."
      ],
      "metadata": {
        "id": "ii2ZKo3nbB75"
      }
    },
    {
      "cell_type": "code",
      "source": [
        "model.fit(X_train, y_train, epochs=10, batch_size=32, \n",
        "          validation_split=0.1) "
      ],
      "metadata": {
        "colab": {
          "base_uri": "https://localhost:8080/"
        },
        "id": "MD4fTcuqbCdr",
        "outputId": "e64b745a-8e01-476a-f319-61b2f4b8934b"
      },
      "execution_count": 55,
      "outputs": [
        {
          "output_type": "stream",
          "name": "stdout",
          "text": [
            "Epoch 1/10\n",
            "205/205 [==============================] - 6s 11ms/step - loss: 1.0072 - accuracy: 0.5678 - val_loss: 0.9288 - val_accuracy: 0.5865\n",
            "Epoch 2/10\n",
            "205/205 [==============================] - 2s 8ms/step - loss: 0.9080 - accuracy: 0.5948 - val_loss: 0.8706 - val_accuracy: 0.5865\n",
            "Epoch 3/10\n",
            "205/205 [==============================] - 2s 8ms/step - loss: 0.8253 - accuracy: 0.6260 - val_loss: 0.8715 - val_accuracy: 0.6332\n",
            "Epoch 4/10\n",
            "205/205 [==============================] - 2s 8ms/step - loss: 0.7255 - accuracy: 0.7091 - val_loss: 0.9048 - val_accuracy: 0.6538\n",
            "Epoch 5/10\n",
            "205/205 [==============================] - 2s 8ms/step - loss: 0.6369 - accuracy: 0.7687 - val_loss: 0.9684 - val_accuracy: 0.6030\n",
            "Epoch 6/10\n",
            "205/205 [==============================] - 2s 8ms/step - loss: 0.5670 - accuracy: 0.7922 - val_loss: 1.1606 - val_accuracy: 0.6593\n",
            "Epoch 7/10\n",
            "205/205 [==============================] - 2s 8ms/step - loss: 0.5061 - accuracy: 0.8108 - val_loss: 1.2658 - val_accuracy: 0.6332\n",
            "Epoch 8/10\n",
            "205/205 [==============================] - 2s 8ms/step - loss: 0.4449 - accuracy: 0.8252 - val_loss: 1.4419 - val_accuracy: 0.6401\n",
            "Epoch 9/10\n",
            "205/205 [==============================] - 2s 8ms/step - loss: 0.4085 - accuracy: 0.8301 - val_loss: 1.6508 - val_accuracy: 0.6387\n",
            "Epoch 10/10\n",
            "205/205 [==============================] - 2s 8ms/step - loss: 0.3763 - accuracy: 0.8463 - val_loss: 1.7870 - val_accuracy: 0.6291\n"
          ]
        },
        {
          "output_type": "execute_result",
          "data": {
            "text/plain": [
              "<keras.callbacks.History at 0x7f9bc21d22b0>"
            ]
          },
          "metadata": {},
          "execution_count": 55
        }
      ]
    },
    {
      "cell_type": "markdown",
      "source": [
        "#                           End Of Neural Networks Workshop "
      ],
      "metadata": {
        "id": "vdvW4xo2bT5q"
      }
    }
  ]
}